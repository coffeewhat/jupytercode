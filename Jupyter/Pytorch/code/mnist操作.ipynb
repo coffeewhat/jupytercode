{
 "cells": [
  {
   "cell_type": "code",
   "execution_count": 1,
   "metadata": {},
   "outputs": [],
   "source": [
    "import os\n",
    "from skimage import io\n",
    "import torchvision.datasets.mnist as mnist"
   ]
  },
  {
   "cell_type": "code",
   "execution_count": 2,
   "metadata": {},
   "outputs": [],
   "source": [
    "root=\"/Users/zhangxiao/Desktop/fashion_mnist/\""
   ]
  },
  {
   "cell_type": "code",
   "execution_count": 3,
   "metadata": {},
   "outputs": [],
   "source": [
    "train_set = (\n",
    "    mnist.read_image_file(os.path.join(root, 'train-images-idx3-ubyte')),\n",
    "    mnist.read_label_file(os.path.join(root, 'train-labels-idx1-ubyte'))\n",
    "        )\n",
    "test_set = (\n",
    "    mnist.read_image_file(os.path.join(root, 't10k-images-idx3-ubyte')),\n",
    "    mnist.read_label_file(os.path.join(root, 't10k-labels-idx1-ubyte'))\n",
    "        )"
   ]
  },
  {
   "cell_type": "code",
   "execution_count": 4,
   "metadata": {},
   "outputs": [
    {
     "name": "stdout",
     "output_type": "stream",
     "text": [
      "train set : torch.Size([60000, 28, 28])\n",
      "test set : torch.Size([10000, 28, 28])\n"
     ]
    }
   ],
   "source": [
    "print(\"train set :\",train_set[0].size())\n",
    "print(\"test set :\",test_set[0].size())"
   ]
  },
  {
   "cell_type": "code",
   "execution_count": 5,
   "metadata": {},
   "outputs": [],
   "source": [
    "def convert_to_img(train=True):\n",
    "    if(train):\n",
    "        f=open(root+'train.txt','w')\n",
    "        data_path=root+'/train/'\n",
    "        if(not os.path.exists(data_path)):\n",
    "            os.makedirs(data_path)\n",
    "        for i, (img,label) in enumerate(zip(train_set[0],train_set[1])):\n",
    "            img_path=data_path+str(i)+'.jpg'\n",
    "            io.imsave(img_path,img.numpy())\n",
    "            f.write(img_path+' '+str(label)+'\\n')\n",
    "        f.close()\n",
    "    else:\n",
    "        f = open(root + 'test.txt', 'w')\n",
    "        data_path = root + '/test/'\n",
    "        if (not os.path.exists(data_path)):\n",
    "            os.makedirs(data_path)\n",
    "        for i, (img,label) in enumerate(zip(test_set[0],test_set[1])):\n",
    "            img_path = data_path+ str(i) + '.jpg'\n",
    "            io.imsave(img_path, img.numpy())\n",
    "            f.write(img_path + ' ' + str(label) + '\\n')\n",
    "        f.close()\n"
   ]
  },
  {
   "cell_type": "code",
   "execution_count": 6,
   "metadata": {},
   "outputs": [],
   "source": [
    "convert_to_img(True)\n",
    "convert_to_img(False)"
   ]
  },
  {
   "cell_type": "code",
   "execution_count": null,
   "metadata": {},
   "outputs": [],
   "source": []
  }
 ],
 "metadata": {
  "kernelspec": {
   "display_name": "d2l",
   "language": "python",
   "name": "d2l"
  },
  "language_info": {
   "codemirror_mode": {
    "name": "ipython",
    "version": 3
   },
   "file_extension": ".py",
   "mimetype": "text/x-python",
   "name": "python",
   "nbconvert_exporter": "python",
   "pygments_lexer": "ipython3",
   "version": "3.7.7"
  }
 },
 "nbformat": 4,
 "nbformat_minor": 4
}
