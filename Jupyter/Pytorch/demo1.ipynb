{
 "cells": [
  {
   "cell_type": "code",
   "execution_count": 1,
   "metadata": {},
   "outputs": [],
   "source": [
    "import torch\n",
    "import numpy as np\n",
    "import sys\n",
    "from torch import nn\n",
    "from torch.nn import init\n",
    "from sklearn.model_selection import train_test_split\n",
    "from sklearn.preprocessing import StandardScaler, MinMaxScaler\n",
    "from sklearn import svm\n",
    "from sklearn import neighbors\n",
    "from sklearn.ensemble import RandomForestClassifier\n",
    "from sklearn.naive_bayes import GaussianNB\n",
    "from sklearn.tree import DecisionTreeClassifier\n",
    "import os\n",
    "import joblib\n",
    "import random\n",
    "import torchvision\n",
    "import torchvision.transforms as transforms\n",
    "import torchvision.datasets.mnist as mnist\n",
    "from PIL import Image\n",
    "from skimage import io\n",
    "from imutils import paths"
   ]
  },
  {
   "cell_type": "code",
   "execution_count": 2,
   "metadata": {},
   "outputs": [],
   "source": [
    "def Tensor2Numpy(iter_mnist):\n",
    "    i = 0\n",
    "    dataX = np.zeros((len(iter_mnist), 784))\n",
    "    datay = np.zeros(len(iter_mnist))\n",
    "    for train, label in iter_mnist:\n",
    "        train = train.numpy().reshape((1, 784))\n",
    "        dataX[i] = train\n",
    "        datay[i] = label\n",
    "        i+=1\n",
    "    return dataX, datay\n",
    "\n",
    "\n",
    "def get_normal_data(X_train, X_test):\n",
    "    \"\"\"\n",
    "    将数据集归一化\n",
    "    \"\"\"\n",
    "    transfer = MinMaxScaler()\n",
    "    X_train = transfer.fit_transform(X_train)\n",
    "    X_test = transfer.transform(X_test)\n",
    "    return X_train, X_test"
   ]
  },
  {
   "cell_type": "code",
   "execution_count": 3,
   "metadata": {},
   "outputs": [],
   "source": [
    "svmacc = []\n",
    "kacc = []\n",
    "cacc = []\n",
    "byacc = []\n",
    "total_acc = []"
   ]
  },
  {
   "cell_type": "code",
   "execution_count": 4,
   "metadata": {},
   "outputs": [],
   "source": [
    "root = '/Users/zhangxiao/Desktop/数据集'\n",
    "transform = transforms.ToTensor()\n",
    "mnist_train = torchvision.datasets.FashionMNIST(root=root, train=True, download=True, transform=transform)\n",
    "mnist_test = torchvision.datasets.FashionMNIST(root=root, train=False, download=True, transform=transform)\n",
    "X_train, y_train = Tensor2Numpy(mnist_train)\n",
    "X_test, y_test = Tensor2Numpy(mnist_test)"
   ]
  },
  {
   "cell_type": "code",
   "execution_count": 5,
   "metadata": {},
   "outputs": [],
   "source": [
    "xData = np.vstack((X_train, X_test)).astype(np.float32)\n",
    "yLabel = np.hstack((y_train, y_test)).astype(np.float32)"
   ]
  },
  {
   "cell_type": "code",
   "execution_count": 6,
   "metadata": {},
   "outputs": [],
   "source": [
    " X_train, X_test, y_train, y_test = train_test_split(xData, yLabel, test_size=0.2,\n",
    "                                                        random_state=1)"
   ]
  },
  {
   "cell_type": "code",
   "execution_count": null,
   "metadata": {},
   "outputs": [
    {
     "name": "stdout",
     "output_type": "stream",
     "text": [
      "SVM strat!\n"
     ]
    }
   ],
   "source": [
    "print(\"SVM strat!\")\n",
    "clf = svm.SVC()  #kernel='linear'\n",
    "clf.fit(X_train, y_train.ravel())\n",
    "sacc = clf.score(X_test, y_test)\n",
    "svmacc.append(sacc)\n",
    "print(\"SVM done!\")"
   ]
  },
  {
   "cell_type": "code",
   "execution_count": null,
   "metadata": {},
   "outputs": [],
   "source": []
  }
 ],
 "metadata": {
  "kernelspec": {
   "display_name": "Pytorch",
   "language": "python",
   "name": "pytorch"
  },
  "language_info": {
   "codemirror_mode": {
    "name": "ipython",
    "version": 3
   },
   "file_extension": ".py",
   "mimetype": "text/x-python",
   "name": "python",
   "nbconvert_exporter": "python",
   "pygments_lexer": "ipython3",
   "version": "3.7.9"
  }
 },
 "nbformat": 4,
 "nbformat_minor": 4
}
