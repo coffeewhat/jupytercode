{
 "cells": [
  {
   "cell_type": "code",
   "execution_count": 1,
   "metadata": {},
   "outputs": [],
   "source": [
    "import torch\n",
    "import numpy as np\n",
    "import pandas as pd\n",
    "import random\n",
    "from PIL import Image\n",
    "import torchvision\n",
    "import torchvision.transforms as transforms\n",
    "from sklearn.preprocessing import StandardScaler, MinMaxScaler\n",
    "from sklearn.model_selection import train_test_split\n",
    "from imutils import paths\n",
    "import sys\n",
    "from torch import nn\n",
    "from torch.nn import init\n",
    "import xlwt\n",
    "import os\n",
    "from skimage import io\n",
    "import joblib\n",
    "import torchvision.datasets.mnist as mnist"
   ]
  },
  {
   "cell_type": "code",
   "execution_count": null,
   "metadata": {},
   "outputs": [],
   "source": [
    "# def load_data(dir):\n",
    "#     \"\"\"\n",
    "#     读入数据\n",
    "#     \"\"\"\n",
    "#     with open(dir, 'r') as f:\n",
    "#         lines = f.readlines()\n",
    "#         lines = [line.strip('\\n').split(',') for line in lines]\n",
    "#     xData = [line[1:] for line in lines]\n",
    "#     xData = np.array(xData)\n",
    "#     xData = xData.astype(float)\n",
    "#     yLabel = [line[0] for line in lines]\n",
    "#     yLabel = np.array(yLabel)\n",
    "#     yLabel = yLabel.astype(int)\n",
    "#     return xData, yLabel"
   ]
  },
  {
   "cell_type": "code",
   "execution_count": null,
   "metadata": {},
   "outputs": [],
   "source": [
    "# def random_split_data(xData, yLabel, rate=0.2, random_seed1=1):\n",
    "#     \"\"\"\n",
    "#     随机分配训练集和测试集，并给予随机种子，方便复现\n",
    "#     一般数据训练集占80%，测试集占20%\n",
    "#     \"\"\"\n",
    "#     X_train, X_test, y_train, y_test = train_test_split(xData, yLabel, test_size=rate, random_state=random_seed1)\n",
    "#     return X_train, y_train, X_test, y_test"
   ]
  },
  {
   "cell_type": "code",
   "execution_count": null,
   "metadata": {},
   "outputs": [],
   "source": [
    "# def convert_to_img(root, train_set, test_set, train=True):\n",
    "#     if(train):\n",
    "# #         f = open(root + 'train.txt', 'w')\n",
    "#         data_path = root + '/train/'\n",
    "#         if(not os.path.exists(data_path)):\n",
    "#             os.makedirs(data_path)\n",
    "#         for i, (img, label) in enumerate(zip(train_set[0], train_set[1])):\n",
    "#             img_path = data_path + str(i) + '.jpg'\n",
    "#             io.imsave(img_path, img.numpy())\n",
    "# #             f.write(img_path + ' ' + str(label) + '\\n')\n",
    "# #         f.close()\n",
    "#     else:\n",
    "# #         f = open(root + 'test.txt', 'w')\n",
    "#         data_path = root + '/test/'\n",
    "#         if (not os.path.exists(data_path)):\n",
    "#             os.makedirs(data_path)\n",
    "#         for i, (img, label) in enumerate(zip(test_set[0], test_set[1])):\n",
    "#             img_path = data_path + str(i) + '.jpg'\n",
    "#             io.imsave(img_path, img.numpy())\n",
    "# #             f.write(img_path + ' ' + str(label) + '\\n')\n",
    "# #         f.close()\n",
    "\n",
    "# def imageInfo(root):\n",
    "#     train_set = (\n",
    "#         mnist.read_image_file(os.path.join(root, 'train-images-idx3-ubyte')),\n",
    "#         mnist.read_label_file(os.path.join(root, 'train-labels-idx1-ubyte'))\n",
    "#     )\n",
    "#     test_set = (\n",
    "#         mnist.read_image_file(os.path.join(root, 't10k-images-idx3-ubyte')),\n",
    "#         mnist.read_label_file(os.path.join(root, 't10k-labels-idx1-ubyte'))\n",
    "#     )\n",
    "\n",
    "#     train_labels = train_set[1].numpy() # train 图片标签\n",
    "#     test_labels = test_set[1].numpy()# test 图片标签\n",
    "    \n",
    "#     convert_to_img(root, train_set, test_set, train=True)\n",
    "#     train_im_paths = root + '/train/'\n",
    "#     train_paths = []  # 将图片地址放进列表里，便于下面操作\n",
    "#     train_paths = list(paths.list_images(train_im_paths))\n",
    "#     train_paths.sort(key = lambda ele: int(os.path.split(ele)[1].split('.')[0]))\n",
    "    \n",
    "#     convert_to_img(root, train_set, test_set, train=False)\n",
    "#     test_im_paths = root + '/test/'\n",
    "#     test_paths = []  # 将图片地址放进列表里，便于下面操作\n",
    "#     test_paths = list(paths.list_images(test_im_paths))\n",
    "#     test_paths.sort(key = lambda ele: int(os.path.split(ele)[1].split('.')[0]))\n",
    "    \n",
    "#     return train_paths, train_labels, test_paths, test_labels"
   ]
  },
  {
   "cell_type": "code",
   "execution_count": null,
   "metadata": {},
   "outputs": [],
   "source": [
    "# root = '/Users/zhangxiao/Desktop/FashionMNIST/raw'\n",
    "# X_train_paths, y_train, X_test_paths, y_test = imageInfo(root)"
   ]
  },
  {
   "cell_type": "code",
   "execution_count": null,
   "metadata": {},
   "outputs": [],
   "source": [
    "# def get_fashion_mnist_labels(labels):\n",
    "#     text_labels = ['t-shirt', 'trouser', 'pullover', 'dress', 'coat',\n",
    "#                    'sandal', 'shirt', 'sneaker', 'bag', 'ankle boot']\n",
    "#     return [text_labels[int(i)] for i in labels]"
   ]
  },
  {
   "cell_type": "code",
   "execution_count": null,
   "metadata": {},
   "outputs": [],
   "source": [
    "# def Image2data(path):\n",
    "#     # 读取图片\n",
    "#     im = Image.open(path)    \n",
    "#     data = im.getdata()\n",
    "#     data = np.matrix(data)\n",
    "# #     print data \n",
    "#     data = np.reshape(data,(1,784))# 拉伸成一行\n",
    "#     return data"
   ]
  },
  {
   "cell_type": "code",
   "execution_count": null,
   "metadata": {},
   "outputs": [],
   "source": [
    "# def Image2matrix(X_train_path, X_test_path):\n",
    "#     X_train = np.zeros((len(X_train_paths), 784))\n",
    "#     X_test = np.zeros((len(X_test_path), 784)) \n",
    "#     i = 0\n",
    "#     j = 0\n",
    "#     for path_train in X_train_paths:\n",
    "#         data_train = Image2data(path_train)\n",
    "#         X_train[i] = data_train\n",
    "#         i += 1\n",
    "#     for path_test in X_test_paths:\n",
    "#         data_test = Image2data(path_test)\n",
    "#         X_test[j] = data_test\n",
    "#         j += 1\n",
    "#     return X_train, X_test"
   ]
  },
  {
   "cell_type": "code",
   "execution_count": null,
   "metadata": {},
   "outputs": [],
   "source": [
    "# X_train = torch.from_numpy(X_train)\n",
    "# y_train = torch.from_numpy(y_train)\n",
    "# X_test = torch.from_numpy(X_test)\n",
    "# y_test = torch.from_numpy(y_test)"
   ]
  },
  {
   "cell_type": "code",
   "execution_count": null,
   "metadata": {},
   "outputs": [],
   "source": [
    "# iris_train = torch.utils.data.TensorDataset(X_train, y_train)"
   ]
  },
  {
   "cell_type": "code",
   "execution_count": null,
   "metadata": {},
   "outputs": [],
   "source": [
    "# iris_test = torch.utils.data.TensorDataset(X_test, y_test)"
   ]
  },
  {
   "cell_type": "code",
   "execution_count": null,
   "metadata": {},
   "outputs": [],
   "source": [
    "# train_iter = torch.utils.data.DataLoader(train, batch_size=30, shuffle=True, num_workers=0)\n",
    "# test_iter = torch.utils.data.DataLoader(test, batch_size=30, shuffle=False, num_workers=0)"
   ]
  },
  {
   "cell_type": "code",
   "execution_count": null,
   "metadata": {},
   "outputs": [],
   "source": [
    "# X_train, X_test = Image2matrix(X_train_paths, X_test_paths)"
   ]
  },
  {
   "cell_type": "code",
   "execution_count": null,
   "metadata": {},
   "outputs": [],
   "source": [
    "# print(X_test[10])\n",
    "# print(y_test[10])"
   ]
  },
  {
   "cell_type": "code",
   "execution_count": null,
   "metadata": {},
   "outputs": [],
   "source": [
    "def load_data_fashion_mnist(batch_size, root):\n",
    "    \"\"\"Download the fashion mnist dataset and then load into memory.\"\"\"\n",
    "    transform = transforms.ToTensor()\n",
    "    mnist_train = torchvision.datasets.FashionMNIST(root=root, train=True, download=True, transform=transform)\n",
    "    mnist_test = torchvision.datasets.FashionMNIST(root=root, train=False, download=True, transform=transform)\n",
    "#     xData, yLabel = load_data(path)\n",
    "#     X_train, y_train = random_split_data(xData,yLabel)\n",
    "    if sys.platform.startswith('win'):\n",
    "        num_workers = 0  # 0表示不用额外的进程来加速读取数据\n",
    "    else:\n",
    "        num_workers = 4\n",
    "    train_iter = torch.utils.data.DataLoader(mnist_train, batch_size=batch_size, shuffle=True, num_workers=num_workers)\n",
    "    test_iter = torch.utils.data.DataLoader(mnist_test, batch_size=batch_size, shuffle=False, num_workers=num_workers)\n",
    "\n",
    "    return train_iter, test_iter"
   ]
  },
  {
   "cell_type": "code",
   "execution_count": 2,
   "metadata": {},
   "outputs": [],
   "source": [
    "root = '/Users/zhangxiao/Desktop/数据集'\n",
    "transform = transforms.ToTensor()\n",
    "mnist_train = torchvision.datasets.FashionMNIST(root=root, train=True, download=True, transform=transform)\n",
    "mnist_test = torchvision.datasets.FashionMNIST(root=root, train=False, download=True, transform=transform)"
   ]
  },
  {
   "cell_type": "code",
   "execution_count": null,
   "metadata": {},
   "outputs": [],
   "source": [
    "a = mnist_train[0]"
   ]
  },
  {
   "cell_type": "code",
   "execution_count": null,
   "metadata": {},
   "outputs": [],
   "source": [
    "z, j = mnist_train[0]"
   ]
  },
  {
   "cell_type": "code",
   "execution_count": null,
   "metadata": {},
   "outputs": [],
   "source": [
    "print(z, j)"
   ]
  },
  {
   "cell_type": "code",
   "execution_count": null,
   "metadata": {},
   "outputs": [],
   "source": [
    "type(j)"
   ]
  },
  {
   "cell_type": "code",
   "execution_count": null,
   "metadata": {},
   "outputs": [],
   "source": [
    "a = list(a)"
   ]
  },
  {
   "cell_type": "code",
   "execution_count": null,
   "metadata": {},
   "outputs": [],
   "source": [
    "a[0] = a[0].reshape((1, 784))"
   ]
  },
  {
   "cell_type": "code",
   "execution_count": null,
   "metadata": {},
   "outputs": [],
   "source": [
    "b = torch.zeros((60000, 785))"
   ]
  },
  {
   "cell_type": "code",
   "execution_count": null,
   "metadata": {},
   "outputs": [],
   "source": [
    "b[0, :-1] = a[0] "
   ]
  },
  {
   "cell_type": "code",
   "execution_count": null,
   "metadata": {},
   "outputs": [],
   "source": [
    "b[0, -1] = a [1]"
   ]
  },
  {
   "cell_type": "code",
   "execution_count": null,
   "metadata": {},
   "outputs": [],
   "source": [
    "b[0]"
   ]
  },
  {
   "cell_type": "code",
   "execution_count": 3,
   "metadata": {},
   "outputs": [],
   "source": [
    "dataNumpy = np.zeros((60000, 785))"
   ]
  },
  {
   "cell_type": "code",
   "execution_count": 4,
   "metadata": {},
   "outputs": [],
   "source": [
    "i = 0\n",
    "for train, label in mnist_train:\n",
    "    train = train.numpy().reshape((1, 784))\n",
    "    dataTensor[i, :-1] = train\n",
    "    dataTensor[i, -1] = label\n",
    "    i+=1"
   ]
  },
  {
   "cell_type": "code",
   "execution_count": 9,
   "metadata": {},
   "outputs": [
    {
     "data": {
      "text/plain": [
       "(60000, 785)"
      ]
     },
     "execution_count": 9,
     "metadata": {},
     "output_type": "execute_result"
    }
   ],
   "source": [
    "dataTensor.shape"
   ]
  },
  {
   "cell_type": "code",
   "execution_count": null,
   "metadata": {},
   "outputs": [],
   "source": [
    "data"
   ]
  }
 ],
 "metadata": {
  "kernelspec": {
   "display_name": "Pytorch",
   "language": "python",
   "name": "pytorch"
  },
  "language_info": {
   "codemirror_mode": {
    "name": "ipython",
    "version": 3
   },
   "file_extension": ".py",
   "mimetype": "text/x-python",
   "name": "python",
   "nbconvert_exporter": "python",
   "pygments_lexer": "ipython3",
   "version": "3.7.9"
  }
 },
 "nbformat": 4,
 "nbformat_minor": 4
}
