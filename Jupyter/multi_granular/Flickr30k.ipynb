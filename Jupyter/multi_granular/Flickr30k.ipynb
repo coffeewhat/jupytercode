{
 "cells": [
  {
   "cell_type": "code",
   "execution_count": 1,
   "metadata": {},
   "outputs": [],
   "source": [
    "import pandas as pd\n",
    "from gensim.models import word2vec"
   ]
  },
  {
   "cell_type": "code",
   "execution_count": 2,
   "metadata": {},
   "outputs": [],
   "source": [
    "annotations = pd.read_table('/Users/zhangxiao/Desktop/多模态数据集/token/results_20130124.token', \n",
    "                            sep='\\t', header=None, names=['image', 'caption'])"
   ]
  },
  {
   "cell_type": "code",
   "execution_count": 3,
   "metadata": {},
   "outputs": [
    {
     "name": "stdout",
     "output_type": "stream",
     "text": [
      "0         Two young guys with shaggy hair look at their ...\n",
      "1         Two young , White males are outside near many ...\n",
      "2          Two men in green shirts are standing in a yard .\n",
      "3              A man in a blue shirt standing in a garden .\n",
      "4                   Two friends enjoy time spent together .\n",
      "                                ...                        \n",
      "158910    A man in shorts and a Hawaiian shirt leans ove...\n",
      "158911    A young man hanging over the side of a boat , ...\n",
      "158912    A man is leaning off of the side of a blue and...\n",
      "158913    A man riding a small boat in a harbor , with f...\n",
      "158914    A man on a moored blue and white boat with hil...\n",
      "Name: caption, Length: 158915, dtype: object\n"
     ]
    }
   ],
   "source": [
    "print(annotations['caption'])"
   ]
  },
  {
   "cell_type": "code",
   "execution_count": 4,
   "metadata": {},
   "outputs": [
    {
     "name": "stdout",
     "output_type": "stream",
     "text": [
      "<bound method NDFrame.head of                    image                                            caption\n",
      "0       1000092795.jpg#0  Two young guys with shaggy hair look at their ...\n",
      "1       1000092795.jpg#1  Two young , White males are outside near many ...\n",
      "2       1000092795.jpg#2   Two men in green shirts are standing in a yard .\n",
      "3       1000092795.jpg#3       A man in a blue shirt standing in a garden .\n",
      "4       1000092795.jpg#4            Two friends enjoy time spent together .\n",
      "...                  ...                                                ...\n",
      "158910   998845445.jpg#0  A man in shorts and a Hawaiian shirt leans ove...\n",
      "158911   998845445.jpg#1  A young man hanging over the side of a boat , ...\n",
      "158912   998845445.jpg#2  A man is leaning off of the side of a blue and...\n",
      "158913   998845445.jpg#3  A man riding a small boat in a harbor , with f...\n",
      "158914   998845445.jpg#4  A man on a moored blue and white boat with hil...\n",
      "\n",
      "[158915 rows x 2 columns]>\n"
     ]
    }
   ],
   "source": [
    "print(annotations.head)"
   ]
  },
  {
   "cell_type": "code",
   "execution_count": 5,
   "metadata": {},
   "outputs": [
    {
     "name": "stdout",
     "output_type": "stream",
     "text": [
      "<class 'pandas.core.frame.DataFrame'>\n"
     ]
    }
   ],
   "source": [
    "print(type(annotations))"
   ]
  },
  {
   "cell_type": "code",
   "execution_count": 6,
   "metadata": {},
   "outputs": [],
   "source": [
    "disc_dic = {}"
   ]
  },
  {
   "cell_type": "code",
   "execution_count": 7,
   "metadata": {},
   "outputs": [
    {
     "data": {
      "text/plain": [
       "158915"
      ]
     },
     "execution_count": 7,
     "metadata": {},
     "output_type": "execute_result"
    }
   ],
   "source": [
    "len(annotations)"
   ]
  },
  {
   "cell_type": "code",
   "execution_count": 8,
   "metadata": {},
   "outputs": [
    {
     "data": {
      "text/plain": [
       "'998845445.jpg#4'"
      ]
     },
     "execution_count": 8,
     "metadata": {},
     "output_type": "execute_result"
    }
   ],
   "source": [
    "annotations['image'][158914]"
   ]
  },
  {
   "cell_type": "code",
   "execution_count": 9,
   "metadata": {},
   "outputs": [],
   "source": [
    "image_num = []\n",
    "for i in range(int(len(annotations)/5)):\n",
    "  image_num.append(annotations['image'][i*5].split('.')[0])"
   ]
  },
  {
   "cell_type": "code",
   "execution_count": 10,
   "metadata": {},
   "outputs": [
    {
     "name": "stdout",
     "output_type": "stream",
     "text": [
      "<class 'str'>\n"
     ]
    }
   ],
   "source": [
    "print(type(image_num[0]))"
   ]
  },
  {
   "cell_type": "code",
   "execution_count": 11,
   "metadata": {},
   "outputs": [],
   "source": [
    "# image_num = list(map(int, image_num))"
   ]
  },
  {
   "cell_type": "code",
   "execution_count": 12,
   "metadata": {},
   "outputs": [
    {
     "data": {
      "text/plain": [
       "'998845445'"
      ]
     },
     "execution_count": 12,
     "metadata": {},
     "output_type": "execute_result"
    }
   ],
   "source": [
    "image_num[-1]"
   ]
  },
  {
   "cell_type": "code",
   "execution_count": 13,
   "metadata": {},
   "outputs": [],
   "source": [
    "disc = []\n",
    "disc_sub = []\n",
    "for i in range(int(len(annotations)/5)):\n",
    "    for j in range(i*5, i*5+5):\n",
    "        disc_sub.append(annotations['caption'][j])\n",
    "    disc.append(disc_sub)\n",
    "    disc_sub = []\n"
   ]
  },
  {
   "cell_type": "code",
   "execution_count": 14,
   "metadata": {},
   "outputs": [
    {
     "data": {
      "text/plain": [
       "31783"
      ]
     },
     "execution_count": 14,
     "metadata": {},
     "output_type": "execute_result"
    }
   ],
   "source": [
    "len(disc)"
   ]
  },
  {
   "cell_type": "code",
   "execution_count": 15,
   "metadata": {},
   "outputs": [
    {
     "data": {
      "text/plain": [
       "31783"
      ]
     },
     "execution_count": 15,
     "metadata": {},
     "output_type": "execute_result"
    }
   ],
   "source": [
    "len(image_num)"
   ]
  },
  {
   "cell_type": "code",
   "execution_count": 16,
   "metadata": {},
   "outputs": [],
   "source": [
    "for i, key in enumerate(image_num):\n",
    "    disc_dic[key] = disc[i]"
   ]
  },
  {
   "cell_type": "code",
   "execution_count": 17,
   "metadata": {},
   "outputs": [
    {
     "data": {
      "text/plain": [
       "['Two young guys with shaggy hair look at their hands while hanging out in the yard .',\n",
       " 'Two young , White males are outside near many bushes .',\n",
       " 'Two men in green shirts are standing in a yard .',\n",
       " 'A man in a blue shirt standing in a garden .',\n",
       " 'Two friends enjoy time spent together .']"
      ]
     },
     "execution_count": 17,
     "metadata": {},
     "output_type": "execute_result"
    }
   ],
   "source": [
    "disc_dic['1000092795']"
   ]
  },
  {
   "cell_type": "code",
   "execution_count": 18,
   "metadata": {},
   "outputs": [],
   "source": [
    "stop = '[’!\"#$%&\\'()*+,-./:;<=>?@[\\\\]^_`{|}~]+'"
   ]
  },
  {
   "cell_type": "code",
   "execution_count": 19,
   "metadata": {},
   "outputs": [],
   "source": [
    "import re"
   ]
  },
  {
   "cell_type": "code",
   "execution_count": 20,
   "metadata": {},
   "outputs": [],
   "source": [
    "sentences = []\n",
    "for doc in disc:\n",
    "    for sub in doc: \n",
    "        sub = re.sub(stop,'',sub)\n",
    "        sentences.append(sub.split())"
   ]
  },
  {
   "cell_type": "code",
   "execution_count": 21,
   "metadata": {},
   "outputs": [
    {
     "name": "stderr",
     "output_type": "stream",
     "text": [
      "IOPub data rate exceeded.\n",
      "The notebook server will temporarily stop sending output\n",
      "to the client in order to avoid crashing it.\n",
      "To change this limit, set the config variable\n",
      "`--NotebookApp.iopub_data_rate_limit`.\n",
      "\n",
      "Current values:\n",
      "NotebookApp.iopub_data_rate_limit=1000000.0 (bytes/sec)\n",
      "NotebookApp.rate_limit_window=3.0 (secs)\n",
      "\n"
     ]
    }
   ],
   "source": [
    "print(sentences)"
   ]
  },
  {
   "cell_type": "code",
   "execution_count": 22,
   "metadata": {},
   "outputs": [],
   "source": [
    "from gensim.models import Word2Vec"
   ]
  },
  {
   "cell_type": "code",
   "execution_count": 24,
   "metadata": {},
   "outputs": [],
   "source": [
    "model = Word2Vec(sentences, size=100, window=5, min_count=5, workers=4, sg=1)"
   ]
  },
  {
   "cell_type": "code",
   "execution_count": 25,
   "metadata": {},
   "outputs": [
    {
     "data": {
      "text/plain": [
       "array([ 0.2562492 ,  0.02525464, -0.12487403,  0.14402243, -0.0525523 ,\n",
       "       -0.13175763,  0.3751634 ,  0.23279367,  0.5915009 , -0.13338904,\n",
       "        0.24307574, -0.31382415,  0.63088113, -0.12055541,  0.22915126,\n",
       "        0.267105  ,  0.09655287,  0.606971  , -0.35766923,  0.33207124,\n",
       "       -0.49019772, -0.74030936, -0.24731147, -0.2317786 ,  0.4711537 ,\n",
       "        0.35787082, -0.15140443, -0.04522267, -0.33788323, -0.74358386,\n",
       "        0.02522023, -0.32326004,  0.10918405, -0.16991344,  0.4834414 ,\n",
       "        0.17794257, -0.4719668 , -0.17637748, -0.71090406,  0.6611717 ,\n",
       "        0.25766823,  0.03838288,  0.10747959, -0.2518266 ,  0.35888475,\n",
       "        0.31668016,  0.1729008 ,  0.13463022,  0.19267781,  0.13092476,\n",
       "       -0.09659088, -0.36755863, -0.20546891,  0.41409916, -0.73951983,\n",
       "       -0.50788534,  0.25768912, -0.05222453, -0.02791992,  0.5313859 ,\n",
       "       -0.54897547,  0.6126233 , -0.64574546, -0.21620344,  0.29071754,\n",
       "       -0.06061452,  0.06309185, -0.8314813 , -0.07977432,  0.27630988,\n",
       "       -0.17769293, -0.41484317,  0.03139241, -0.5413652 , -0.00953388,\n",
       "       -0.1963689 ,  0.32225698, -0.82665014,  0.15980849, -0.3198288 ,\n",
       "        0.17360726, -0.14831774, -0.30443522, -0.33219856,  0.15532227,\n",
       "        0.3724512 , -0.26754534, -0.1351815 , -0.29372483, -0.2563414 ,\n",
       "        0.45017624,  0.64326936,  0.19449668, -0.38469818,  0.3674977 ,\n",
       "        0.7412924 ,  0.04011294,  0.09920769,  0.81902915, -0.01857708],\n",
       "      dtype=float32)"
      ]
     },
     "execution_count": 25,
     "metadata": {},
     "output_type": "execute_result"
    }
   ],
   "source": [
    "model.wv['Two']"
   ]
  },
  {
   "cell_type": "code",
   "execution_count": null,
   "metadata": {},
   "outputs": [],
   "source": []
  }
 ],
 "metadata": {
  "kernelspec": {
   "display_name": "Python 3",
   "language": "python",
   "name": "python3"
  },
  "language_info": {
   "codemirror_mode": {
    "name": "ipython",
    "version": 3
   },
   "file_extension": ".py",
   "mimetype": "text/x-python",
   "name": "python",
   "nbconvert_exporter": "python",
   "pygments_lexer": "ipython3",
   "version": "3.8.5"
  }
 },
 "nbformat": 4,
 "nbformat_minor": 4
}
