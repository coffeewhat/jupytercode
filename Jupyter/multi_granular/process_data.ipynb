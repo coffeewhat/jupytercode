{
 "cells": [
  {
   "cell_type": "markdown",
   "metadata": {},
   "source": [
    "#### Hepatitis data process"
   ]
  },
  {
   "cell_type": "code",
   "execution_count": null,
   "metadata": {},
   "outputs": [],
   "source": [
    "import numpy as np\n",
    "from collections import Counter\n",
    "import pandas as pd\n",
    "from imblearn.over_sampling import SMOTE\n",
    "from sklearn.decomposition import PCA\n",
    "import random"
   ]
  },
  {
   "cell_type": "code",
   "execution_count": null,
   "metadata": {},
   "outputs": [],
   "source": [
    "data = pd.read_csv('/Users/zhangxiao/Desktop/论文测试数据集/hepatitis.data',header=None, dtype = str)\n",
    "data = data.rename(columns={0:'Class',1:'AGE', 2:'SEX', 3:'STEROID', 4:'ANTIVIRALS', 5:'FATIGUE', 6:'MALAISE', \n",
    "                            7:'ANOREXIA', 8:'LIVER BIG', 9:'LIVER FIRM', 10:'SPLEEN PALPABLE', 11:'SPIDERS', \n",
    "                            12:'ASCITES', 13:'VARICES', 14:'BILIRUBIN', 15:'ALK PHOSPHATE', 16:'SGOT', 17:'ALBUMIN', \n",
    "                            18:'PROTIME', 19:'HISTOLOGY'})\n",
    "data = data.replace('?', np.nan) # 用数字替换\"?\"字符"
   ]
  },
  {
   "cell_type": "code",
   "execution_count": null,
   "metadata": {},
   "outputs": [],
   "source": [
    "xData = data.iloc[:, 1:]\n",
    "yLabel = data.iloc[:, 0]"
   ]
  },
  {
   "cell_type": "code",
   "execution_count": null,
   "metadata": {},
   "outputs": [],
   "source": [
    "xData.head()"
   ]
  },
  {
   "cell_type": "code",
   "execution_count": null,
   "metadata": {},
   "outputs": [],
   "source": [
    "xData.isnull().sum().sort_values(ascending=False)"
   ]
  },
  {
   "cell_type": "code",
   "execution_count": null,
   "metadata": {},
   "outputs": [],
   "source": [
    "xData[['AGE','BILIRUBIN','ALK PHOSPHATE','SGOT','ALBUMIN','PROTIME']] = xData[['AGE','BILIRUBIN','ALK PHOSPHATE','SGOT','ALBUMIN','PROTIME']].astype('float')"
   ]
  },
  {
   "cell_type": "code",
   "execution_count": null,
   "metadata": {},
   "outputs": [],
   "source": [
    "xData.dtypes"
   ]
  },
  {
   "cell_type": "code",
   "execution_count": null,
   "metadata": {},
   "outputs": [],
   "source": [
    "xDataM0 = xData.loc[:, ['AGE', 'BILIRUBIN', 'ALK PHOSPHATE', 'SGOT', 'ALBUMIN','PROTIME']]\n",
    "xDataM1 = xData.loc[:, ['SEX', 'STEROID', 'ANTIVIRALS', 'FATIGUE', 'MALAISE', 'ANOREXIA', \n",
    "                        'LIVER BIG', 'LIVER FIRM', 'SPLEEN PALPABLE', 'SPIDERS', 'ASCITES',\n",
    "                        'VARICES', 'HISTOLOGY']]"
   ]
  },
  {
   "cell_type": "markdown",
   "metadata": {},
   "source": [
    "#### 处理数值型数据"
   ]
  },
  {
   "cell_type": "code",
   "execution_count": null,
   "metadata": {},
   "outputs": [],
   "source": [
    "for column in list(xDataM0.columns[xDataM0.isnull().sum() > 0]): # 用均值填补NaN\n",
    "    mean_val = round(xDataM0[column].mean(), 2)\n",
    "    xDataM0[column] = xDataM0[column].fillna(mean_val)"
   ]
  },
  {
   "cell_type": "code",
   "execution_count": null,
   "metadata": {},
   "outputs": [],
   "source": [
    "xDataM0.isnull().sum() > 0"
   ]
  },
  {
   "cell_type": "code",
   "execution_count": null,
   "metadata": {},
   "outputs": [],
   "source": [
    "xDataM0.head()"
   ]
  },
  {
   "cell_type": "markdown",
   "metadata": {},
   "source": [
    "#### 处理类别型数据"
   ]
  },
  {
   "cell_type": "code",
   "execution_count": null,
   "metadata": {},
   "outputs": [],
   "source": [
    "for col in list(xDataM1.columns[xDataM1.isnull().sum() > 0]): # 用中位数填补空值\n",
    "    xDataM1[col] = xDataM1[col].fillna(xDataM1[col].mode()[0])"
   ]
  },
  {
   "cell_type": "code",
   "execution_count": null,
   "metadata": {},
   "outputs": [],
   "source": [
    "xDataM1.isnull().sum() > 0"
   ]
  },
  {
   "cell_type": "code",
   "execution_count": null,
   "metadata": {},
   "outputs": [],
   "source": [
    "xDataM1.apply(pd.value_counts)"
   ]
  },
  {
   "cell_type": "code",
   "execution_count": null,
   "metadata": {},
   "outputs": [],
   "source": [
    "c = [0, 2, 5, 6, 8, 10, 11]\n",
    "xDataM1.drop(xDataM1.columns[c], axis=1, inplace=True) "
   ]
  },
  {
   "cell_type": "code",
   "execution_count": null,
   "metadata": {},
   "outputs": [],
   "source": [
    "xDataM1.head()"
   ]
  },
  {
   "cell_type": "code",
   "execution_count": null,
   "metadata": {},
   "outputs": [],
   "source": [
    "xDataM0 = np.array(xDataM0)\n",
    "xDataM1 = np.array(xDataM1)\n",
    "yLabel = np.array(yLabel)"
   ]
  },
  {
   "cell_type": "code",
   "execution_count": null,
   "metadata": {},
   "outputs": [],
   "source": [
    "tempxData = np.hstack((xDataM0, xDataM1))"
   ]
  },
  {
   "cell_type": "code",
   "execution_count": null,
   "metadata": {},
   "outputs": [],
   "source": [
    "smo = SMOTE(random_state=5)"
   ]
  },
  {
   "cell_type": "code",
   "execution_count": null,
   "metadata": {},
   "outputs": [],
   "source": [
    "tempxData, yLabel = smo.fit_sample(tempxData, yLabel)"
   ]
  },
  {
   "cell_type": "code",
   "execution_count": null,
   "metadata": {},
   "outputs": [],
   "source": [
    "print(Counter(yLabel))"
   ]
  },
  {
   "cell_type": "markdown",
   "metadata": {},
   "source": [
    "#### Heart data process"
   ]
  },
  {
   "cell_type": "code",
   "execution_count": null,
   "metadata": {},
   "outputs": [],
   "source": [
    "import numpy as np\n",
    "from collections import Counter\n",
    "import pandas as pd\n",
    "from imblearn.over_sampling import SMOTE\n",
    "from sklearn.decomposition import PCA\n",
    "import random"
   ]
  },
  {
   "cell_type": "code",
   "execution_count": null,
   "metadata": {},
   "outputs": [],
   "source": [
    "data = pd.read_csv('/Users/zhangxiao/Desktop/论文测试数据集/heart.dat', sep='\\s+', header=None, dtype = str)"
   ]
  },
  {
   "cell_type": "code",
   "execution_count": null,
   "metadata": {},
   "outputs": [],
   "source": [
    "xData = data.iloc[:, :-1]\n",
    "yLabel = data.iloc[:, -1]"
   ]
  },
  {
   "cell_type": "code",
   "execution_count": null,
   "metadata": {},
   "outputs": [],
   "source": [
    "xData.head()"
   ]
  },
  {
   "cell_type": "code",
   "execution_count": null,
   "metadata": {},
   "outputs": [],
   "source": [
    "yLabel.head()"
   ]
  },
  {
   "cell_type": "code",
   "execution_count": null,
   "metadata": {},
   "outputs": [],
   "source": [
    "xDataM0 = xData.loc[:, [0, 3, 5, 7, 9, 11]]\n",
    "xDataM1 = xData.loc[:, [1, 2, 4, 6, 8, 10, 12]]"
   ]
  },
  {
   "cell_type": "code",
   "execution_count": null,
   "metadata": {},
   "outputs": [],
   "source": [
    "xDataM0 = xDataM0.astype('float')"
   ]
  },
  {
   "cell_type": "code",
   "execution_count": null,
   "metadata": {},
   "outputs": [],
   "source": [
    "xDataM0.dtypes"
   ]
  },
  {
   "cell_type": "code",
   "execution_count": null,
   "metadata": {},
   "outputs": [],
   "source": [
    "xDataM0 = np.array(xDataM0)\n",
    "xDataM1 = np.array(xDataM1)\n",
    "yLabel = np.array(yLabel)"
   ]
  },
  {
   "cell_type": "code",
   "execution_count": null,
   "metadata": {},
   "outputs": [],
   "source": [
    "tempxData = np.hstack((xDataM0, xDataM1))"
   ]
  },
  {
   "cell_type": "code",
   "execution_count": null,
   "metadata": {},
   "outputs": [],
   "source": [
    "smo = SMOTE(random_state=5)"
   ]
  },
  {
   "cell_type": "code",
   "execution_count": null,
   "metadata": {},
   "outputs": [],
   "source": [
    "tempxData, yLabel = smo.fit_sample(tempxData, yLabel)"
   ]
  },
  {
   "cell_type": "code",
   "execution_count": null,
   "metadata": {},
   "outputs": [],
   "source": [
    "print(Counter(yLabel))"
   ]
  },
  {
   "cell_type": "markdown",
   "metadata": {},
   "source": [
    "#### Bands data process"
   ]
  },
  {
   "cell_type": "code",
   "execution_count": 1,
   "metadata": {},
   "outputs": [],
   "source": [
    "import numpy as np\n",
    "from collections import Counter\n",
    "import pandas as pd\n",
    "from imblearn.over_sampling import SMOTE\n",
    "from sklearn.decomposition import PCA\n",
    "import random"
   ]
  },
  {
   "cell_type": "code",
   "execution_count": 2,
   "metadata": {},
   "outputs": [],
   "source": [
    "data = pd.read_csv('/Users/zhangxiao/Desktop/论文测试数据集/bands.data',header=None, dtype = str)"
   ]
  },
  {
   "cell_type": "code",
   "execution_count": 3,
   "metadata": {},
   "outputs": [],
   "source": [
    "c = [0, 1, 2, 3]\n",
    "data.drop(data.columns[c], axis=1, inplace=True)\n",
    "\n",
    "data = data.replace('?', np.nan) # 用数字替换\"?\"字符"
   ]
  },
  {
   "cell_type": "code",
   "execution_count": 4,
   "metadata": {},
   "outputs": [],
   "source": [
    "xData = data.iloc[:, :-1]\n",
    "yLabel = data.iloc[:, -1]"
   ]
  },
  {
   "cell_type": "code",
   "execution_count": null,
   "metadata": {},
   "outputs": [],
   "source": [
    "xData.head()"
   ]
  },
  {
   "cell_type": "code",
   "execution_count": 5,
   "metadata": {},
   "outputs": [],
   "source": [
    "xDataM0 = xData.iloc[:, 16:]\n",
    "xDataM1 = xData.iloc[:, :16]"
   ]
  },
  {
   "cell_type": "code",
   "execution_count": 6,
   "metadata": {},
   "outputs": [
    {
     "data": {
      "text/html": [
       "<div>\n",
       "<style scoped>\n",
       "    .dataframe tbody tr th:only-of-type {\n",
       "        vertical-align: middle;\n",
       "    }\n",
       "\n",
       "    .dataframe tbody tr th {\n",
       "        vertical-align: top;\n",
       "    }\n",
       "\n",
       "    .dataframe thead th {\n",
       "        text-align: right;\n",
       "    }\n",
       "</style>\n",
       "<table border=\"1\" class=\"dataframe\">\n",
       "  <thead>\n",
       "    <tr style=\"text-align: right;\">\n",
       "      <th></th>\n",
       "      <th>20</th>\n",
       "      <th>21</th>\n",
       "      <th>22</th>\n",
       "      <th>23</th>\n",
       "      <th>24</th>\n",
       "      <th>25</th>\n",
       "      <th>26</th>\n",
       "      <th>27</th>\n",
       "      <th>28</th>\n",
       "      <th>29</th>\n",
       "      <th>30</th>\n",
       "      <th>31</th>\n",
       "      <th>32</th>\n",
       "      <th>33</th>\n",
       "      <th>34</th>\n",
       "      <th>35</th>\n",
       "      <th>36</th>\n",
       "      <th>37</th>\n",
       "      <th>38</th>\n",
       "    </tr>\n",
       "  </thead>\n",
       "  <tbody>\n",
       "    <tr>\n",
       "      <th>0</th>\n",
       "      <td>55</td>\n",
       "      <td>46</td>\n",
       "      <td>0.2</td>\n",
       "      <td>17</td>\n",
       "      <td>78</td>\n",
       "      <td>0.75</td>\n",
       "      <td>20</td>\n",
       "      <td>13.1</td>\n",
       "      <td>1700</td>\n",
       "      <td>50.5</td>\n",
       "      <td>36.4</td>\n",
       "      <td>0</td>\n",
       "      <td>0</td>\n",
       "      <td>2.5</td>\n",
       "      <td>1</td>\n",
       "      <td>34</td>\n",
       "      <td>40</td>\n",
       "      <td>105</td>\n",
       "      <td>100</td>\n",
       "    </tr>\n",
       "    <tr>\n",
       "      <th>1</th>\n",
       "      <td>55</td>\n",
       "      <td>46</td>\n",
       "      <td>0.3</td>\n",
       "      <td>15</td>\n",
       "      <td>80</td>\n",
       "      <td>0.75</td>\n",
       "      <td>20</td>\n",
       "      <td>6.6</td>\n",
       "      <td>1900</td>\n",
       "      <td>54.9</td>\n",
       "      <td>38.5</td>\n",
       "      <td>0</td>\n",
       "      <td>0</td>\n",
       "      <td>2.5</td>\n",
       "      <td>0.7</td>\n",
       "      <td>34</td>\n",
       "      <td>40</td>\n",
       "      <td>105</td>\n",
       "      <td>100</td>\n",
       "    </tr>\n",
       "    <tr>\n",
       "      <th>2</th>\n",
       "      <td>62</td>\n",
       "      <td>40</td>\n",
       "      <td>0.433</td>\n",
       "      <td>16</td>\n",
       "      <td>80</td>\n",
       "      <td>NaN</td>\n",
       "      <td>30</td>\n",
       "      <td>6.5</td>\n",
       "      <td>1850</td>\n",
       "      <td>53.8</td>\n",
       "      <td>39.8</td>\n",
       "      <td>0</td>\n",
       "      <td>0</td>\n",
       "      <td>2.8</td>\n",
       "      <td>0.9</td>\n",
       "      <td>40</td>\n",
       "      <td>40</td>\n",
       "      <td>103.87</td>\n",
       "      <td>100</td>\n",
       "    </tr>\n",
       "    <tr>\n",
       "      <th>3</th>\n",
       "      <td>52</td>\n",
       "      <td>40</td>\n",
       "      <td>0.3</td>\n",
       "      <td>16</td>\n",
       "      <td>75</td>\n",
       "      <td>0.3125</td>\n",
       "      <td>30</td>\n",
       "      <td>5.6</td>\n",
       "      <td>1467</td>\n",
       "      <td>55.6</td>\n",
       "      <td>38.8</td>\n",
       "      <td>0</td>\n",
       "      <td>0</td>\n",
       "      <td>2.5</td>\n",
       "      <td>1.3</td>\n",
       "      <td>40</td>\n",
       "      <td>40</td>\n",
       "      <td>108.06</td>\n",
       "      <td>100</td>\n",
       "    </tr>\n",
       "    <tr>\n",
       "      <th>4</th>\n",
       "      <td>50</td>\n",
       "      <td>46</td>\n",
       "      <td>0.3</td>\n",
       "      <td>17</td>\n",
       "      <td>80</td>\n",
       "      <td>0.75</td>\n",
       "      <td>30</td>\n",
       "      <td>0</td>\n",
       "      <td>2100</td>\n",
       "      <td>57.5</td>\n",
       "      <td>42.5</td>\n",
       "      <td>5</td>\n",
       "      <td>0</td>\n",
       "      <td>2.3</td>\n",
       "      <td>0.6</td>\n",
       "      <td>35</td>\n",
       "      <td>40</td>\n",
       "      <td>106.67</td>\n",
       "      <td>100</td>\n",
       "    </tr>\n",
       "  </tbody>\n",
       "</table>\n",
       "</div>"
      ],
      "text/plain": [
       "   20  21     22  23  24      25  26    27    28    29    30 31 32   33   34  \\\n",
       "0  55  46    0.2  17  78    0.75  20  13.1  1700  50.5  36.4  0  0  2.5    1   \n",
       "1  55  46    0.3  15  80    0.75  20   6.6  1900  54.9  38.5  0  0  2.5  0.7   \n",
       "2  62  40  0.433  16  80     NaN  30   6.5  1850  53.8  39.8  0  0  2.8  0.9   \n",
       "3  52  40    0.3  16  75  0.3125  30   5.6  1467  55.6  38.8  0  0  2.5  1.3   \n",
       "4  50  46    0.3  17  80    0.75  30     0  2100  57.5  42.5  5  0  2.3  0.6   \n",
       "\n",
       "   35  36      37   38  \n",
       "0  34  40     105  100  \n",
       "1  34  40     105  100  \n",
       "2  40  40  103.87  100  \n",
       "3  40  40  108.06  100  \n",
       "4  35  40  106.67  100  "
      ]
     },
     "execution_count": 6,
     "metadata": {},
     "output_type": "execute_result"
    }
   ],
   "source": [
    "xDataM0.head()"
   ]
  },
  {
   "cell_type": "code",
   "execution_count": 7,
   "metadata": {},
   "outputs": [],
   "source": [
    "xDataM0 = xDataM0.astype('float')"
   ]
  },
  {
   "cell_type": "code",
   "execution_count": 8,
   "metadata": {
    "scrolled": true
   },
   "outputs": [
    {
     "data": {
      "text/html": [
       "<div>\n",
       "<style scoped>\n",
       "    .dataframe tbody tr th:only-of-type {\n",
       "        vertical-align: middle;\n",
       "    }\n",
       "\n",
       "    .dataframe tbody tr th {\n",
       "        vertical-align: top;\n",
       "    }\n",
       "\n",
       "    .dataframe thead th {\n",
       "        text-align: right;\n",
       "    }\n",
       "</style>\n",
       "<table border=\"1\" class=\"dataframe\">\n",
       "  <thead>\n",
       "    <tr style=\"text-align: right;\">\n",
       "      <th></th>\n",
       "      <th>4</th>\n",
       "      <th>5</th>\n",
       "      <th>6</th>\n",
       "      <th>7</th>\n",
       "      <th>8</th>\n",
       "      <th>9</th>\n",
       "      <th>10</th>\n",
       "      <th>11</th>\n",
       "      <th>12</th>\n",
       "      <th>13</th>\n",
       "      <th>14</th>\n",
       "      <th>15</th>\n",
       "      <th>16</th>\n",
       "      <th>17</th>\n",
       "      <th>18</th>\n",
       "      <th>19</th>\n",
       "    </tr>\n",
       "  </thead>\n",
       "  <tbody>\n",
       "    <tr>\n",
       "      <th>0</th>\n",
       "      <td>YES</td>\n",
       "      <td>KEY</td>\n",
       "      <td>YES</td>\n",
       "      <td>BENTON</td>\n",
       "      <td>GALLATIN</td>\n",
       "      <td>UNCOATED</td>\n",
       "      <td>UNCOATED</td>\n",
       "      <td>NO</td>\n",
       "      <td>LINE</td>\n",
       "      <td>YES</td>\n",
       "      <td>Motter94</td>\n",
       "      <td>821</td>\n",
       "      <td>2</td>\n",
       "      <td>TABLOID</td>\n",
       "      <td>NorthUS</td>\n",
       "      <td>1911</td>\n",
       "    </tr>\n",
       "    <tr>\n",
       "      <th>1</th>\n",
       "      <td>YES</td>\n",
       "      <td>KEY</td>\n",
       "      <td>YES</td>\n",
       "      <td>BENTON</td>\n",
       "      <td>GALLATIN</td>\n",
       "      <td>UNCOATED</td>\n",
       "      <td>UNCOATED</td>\n",
       "      <td>NO</td>\n",
       "      <td>LINE</td>\n",
       "      <td>YES</td>\n",
       "      <td>Motter94</td>\n",
       "      <td>821</td>\n",
       "      <td>2</td>\n",
       "      <td>TABLOID</td>\n",
       "      <td>NorthUS</td>\n",
       "      <td>NaN</td>\n",
       "    </tr>\n",
       "    <tr>\n",
       "      <th>2</th>\n",
       "      <td>YES</td>\n",
       "      <td>KEY</td>\n",
       "      <td>YES</td>\n",
       "      <td>BENTON</td>\n",
       "      <td>GALLATIN</td>\n",
       "      <td>UNCOATED</td>\n",
       "      <td>COATED</td>\n",
       "      <td>NO</td>\n",
       "      <td>LINE</td>\n",
       "      <td>YES</td>\n",
       "      <td>WoodHoe70</td>\n",
       "      <td>815</td>\n",
       "      <td>9</td>\n",
       "      <td>CATALOG</td>\n",
       "      <td>NorthUS</td>\n",
       "      <td>NaN</td>\n",
       "    </tr>\n",
       "    <tr>\n",
       "      <th>3</th>\n",
       "      <td>YES</td>\n",
       "      <td>KEY</td>\n",
       "      <td>YES</td>\n",
       "      <td>BENTON</td>\n",
       "      <td>GALLATIN</td>\n",
       "      <td>UNCOATED</td>\n",
       "      <td>UNCOATED</td>\n",
       "      <td>NO</td>\n",
       "      <td>LINE</td>\n",
       "      <td>YES</td>\n",
       "      <td>WoodHoe70</td>\n",
       "      <td>816</td>\n",
       "      <td>9</td>\n",
       "      <td>CATALOG</td>\n",
       "      <td>NorthUS</td>\n",
       "      <td>1910</td>\n",
       "    </tr>\n",
       "    <tr>\n",
       "      <th>4</th>\n",
       "      <td>NO</td>\n",
       "      <td>KEY</td>\n",
       "      <td>YES</td>\n",
       "      <td>BENTON</td>\n",
       "      <td>GALLATIN</td>\n",
       "      <td>UNCOATED</td>\n",
       "      <td>COATED</td>\n",
       "      <td>NO</td>\n",
       "      <td>LINE</td>\n",
       "      <td>YES</td>\n",
       "      <td>WoodHoe70</td>\n",
       "      <td>816</td>\n",
       "      <td>2</td>\n",
       "      <td>TABLOID</td>\n",
       "      <td>NaN</td>\n",
       "      <td>1910</td>\n",
       "    </tr>\n",
       "  </tbody>\n",
       "</table>\n",
       "</div>"
      ],
      "text/plain": [
       "    4    5    6       7         8         9         10  11    12   13  \\\n",
       "0  YES  KEY  YES  BENTON  GALLATIN  UNCOATED  UNCOATED  NO  LINE  YES   \n",
       "1  YES  KEY  YES  BENTON  GALLATIN  UNCOATED  UNCOATED  NO  LINE  YES   \n",
       "2  YES  KEY  YES  BENTON  GALLATIN  UNCOATED    COATED  NO  LINE  YES   \n",
       "3  YES  KEY  YES  BENTON  GALLATIN  UNCOATED  UNCOATED  NO  LINE  YES   \n",
       "4   NO  KEY  YES  BENTON  GALLATIN  UNCOATED    COATED  NO  LINE  YES   \n",
       "\n",
       "          14   15 16       17       18    19  \n",
       "0   Motter94  821  2  TABLOID  NorthUS  1911  \n",
       "1   Motter94  821  2  TABLOID  NorthUS   NaN  \n",
       "2  WoodHoe70  815  9  CATALOG  NorthUS   NaN  \n",
       "3  WoodHoe70  816  9  CATALOG  NorthUS  1910  \n",
       "4  WoodHoe70  816  2  TABLOID      NaN  1910  "
      ]
     },
     "execution_count": 8,
     "metadata": {},
     "output_type": "execute_result"
    }
   ],
   "source": [
    "xDataM1.head()"
   ]
  },
  {
   "cell_type": "code",
   "execution_count": null,
   "metadata": {},
   "outputs": [],
   "source": [
    "list(xDataM0.columns[xDataM0.isnull().sum() > 0])"
   ]
  },
  {
   "cell_type": "code",
   "execution_count": null,
   "metadata": {},
   "outputs": [],
   "source": []
  },
  {
   "cell_type": "code",
   "execution_count": 9,
   "metadata": {},
   "outputs": [],
   "source": [
    "xDataM0 = xDataM0.copy()\n",
    "for col in list(xDataM0.columns[xDataM0.isnull().sum() > 0]): # 用均值填补NaN\n",
    "    mean_val = round(xDataM0[col].mean(), 2)\n",
    "    xDataM0[col] = xDataM0[col].fillna(mean_val)"
   ]
  },
  {
   "cell_type": "code",
   "execution_count": null,
   "metadata": {},
   "outputs": [],
   "source": [
    "xDataM0.head()"
   ]
  },
  {
   "cell_type": "code",
   "execution_count": null,
   "metadata": {},
   "outputs": [],
   "source": [
    "xDataM1.head()"
   ]
  },
  {
   "cell_type": "code",
   "execution_count": null,
   "metadata": {},
   "outputs": [],
   "source": [
    "list(xDataM1.columns[xDataM1.isnull().sum() > 0])"
   ]
  },
  {
   "cell_type": "code",
   "execution_count": 10,
   "metadata": {},
   "outputs": [],
   "source": [
    "xDataM1 = xDataM1.copy()\n",
    "for col in list(xDataM1.columns[xDataM1.isnull().sum() > 0]): # 用众数填补空值\n",
    "    fill_value = xData[col].mode()[0]\n",
    "    xDataM1[col] = xDataM1[col].fillna(fill_value)"
   ]
  },
  {
   "cell_type": "code",
   "execution_count": 11,
   "metadata": {},
   "outputs": [],
   "source": [
    "for col in xDataM1.columns.values.tolist(): # 将符号数字化\n",
    "    xDataM1[col] = pd.factorize(xDataM1[col])[0].astype(np.int)"
   ]
  },
  {
   "cell_type": "code",
   "execution_count": null,
   "metadata": {},
   "outputs": [],
   "source": [
    "xDataM0.head()"
   ]
  },
  {
   "cell_type": "code",
   "execution_count": null,
   "metadata": {},
   "outputs": [],
   "source": [
    "xDataM1.head()"
   ]
  },
  {
   "cell_type": "code",
   "execution_count": null,
   "metadata": {},
   "outputs": [],
   "source": []
  },
  {
   "cell_type": "code",
   "execution_count": null,
   "metadata": {},
   "outputs": [],
   "source": [
    "xDataM0.isnull().sum() > 0"
   ]
  },
  {
   "cell_type": "code",
   "execution_count": null,
   "metadata": {},
   "outputs": [],
   "source": [
    "xDataM1.isnull().sum() > 0"
   ]
  },
  {
   "cell_type": "code",
   "execution_count": 12,
   "metadata": {},
   "outputs": [],
   "source": [
    "xDataM0 = np.array(xDataM0)\n",
    "xDataM1 = np.array(xDataM1)\n",
    "yLabel = np.array(yLabel)"
   ]
  },
  {
   "cell_type": "code",
   "execution_count": 13,
   "metadata": {},
   "outputs": [],
   "source": [
    "tempxData = np.hstack((xDataM0, xDataM1))"
   ]
  },
  {
   "cell_type": "code",
   "execution_count": 14,
   "metadata": {},
   "outputs": [],
   "source": [
    "smo = SMOTE(random_state=5)"
   ]
  },
  {
   "cell_type": "code",
   "execution_count": 15,
   "metadata": {},
   "outputs": [],
   "source": [
    "tempxData, yLabel = smo.fit_sample(tempxData, yLabel)"
   ]
  },
  {
   "cell_type": "code",
   "execution_count": 16,
   "metadata": {},
   "outputs": [
    {
     "name": "stdout",
     "output_type": "stream",
     "text": [
      "Counter({'band': 312, 'noband': 312})\n"
     ]
    }
   ],
   "source": [
    "print(Counter(yLabel))"
   ]
  },
  {
   "cell_type": "code",
   "execution_count": 17,
   "metadata": {},
   "outputs": [],
   "source": [
    "xDataM0 = tempxData[:, :19]\n",
    "xDataM1 = tempxData[:, 19:]"
   ]
  },
  {
   "cell_type": "code",
   "execution_count": 18,
   "metadata": {},
   "outputs": [
    {
     "data": {
      "text/plain": [
       "array([[5.5000e+01, 4.6000e+01, 2.0000e-01, 1.7000e+01, 7.8000e+01,\n",
       "        7.5000e-01, 2.0000e+01, 1.3100e+01, 1.7000e+03, 5.0500e+01,\n",
       "        3.6400e+01, 0.0000e+00, 0.0000e+00, 2.5000e+00, 1.0000e+00,\n",
       "        3.4000e+01, 4.0000e+01, 1.0500e+02, 1.0000e+02],\n",
       "       [5.5000e+01, 4.6000e+01, 3.0000e-01, 1.5000e+01, 8.0000e+01,\n",
       "        7.5000e-01, 2.0000e+01, 6.6000e+00, 1.9000e+03, 5.4900e+01,\n",
       "        3.8500e+01, 0.0000e+00, 0.0000e+00, 2.5000e+00, 7.0000e-01,\n",
       "        3.4000e+01, 4.0000e+01, 1.0500e+02, 1.0000e+02],\n",
       "       [6.2000e+01, 4.0000e+01, 4.3300e-01, 1.6000e+01, 8.0000e+01,\n",
       "        7.2000e-01, 3.0000e+01, 6.5000e+00, 1.8500e+03, 5.3800e+01,\n",
       "        3.9800e+01, 0.0000e+00, 0.0000e+00, 2.8000e+00, 9.0000e-01,\n",
       "        4.0000e+01, 4.0000e+01, 1.0387e+02, 1.0000e+02],\n",
       "       [5.2000e+01, 4.0000e+01, 3.0000e-01, 1.6000e+01, 7.5000e+01,\n",
       "        3.1250e-01, 3.0000e+01, 5.6000e+00, 1.4670e+03, 5.5600e+01,\n",
       "        3.8800e+01, 0.0000e+00, 0.0000e+00, 2.5000e+00, 1.3000e+00,\n",
       "        4.0000e+01, 4.0000e+01, 1.0806e+02, 1.0000e+02],\n",
       "       [5.0000e+01, 4.6000e+01, 3.0000e-01, 1.7000e+01, 8.0000e+01,\n",
       "        7.5000e-01, 3.0000e+01, 0.0000e+00, 2.1000e+03, 5.7500e+01,\n",
       "        4.2500e+01, 5.0000e+00, 0.0000e+00, 2.3000e+00, 6.0000e-01,\n",
       "        3.5000e+01, 4.0000e+01, 1.0667e+02, 1.0000e+02]])"
      ]
     },
     "execution_count": 18,
     "metadata": {},
     "output_type": "execute_result"
    }
   ],
   "source": [
    "xDataM0[:5, :]"
   ]
  },
  {
   "cell_type": "code",
   "execution_count": 19,
   "metadata": {},
   "outputs": [
    {
     "data": {
      "text/plain": [
       "array([[0., 0., 0., 0., 0., 0., 0., 0., 0., 0., 0., 0., 0., 0., 0., 0.],\n",
       "       [0., 0., 0., 0., 0., 0., 0., 0., 0., 0., 0., 0., 0., 0., 0., 1.],\n",
       "       [0., 0., 0., 0., 0., 0., 1., 0., 0., 0., 1., 1., 1., 1., 0., 1.],\n",
       "       [0., 0., 0., 0., 0., 0., 0., 0., 0., 0., 1., 2., 1., 1., 0., 1.],\n",
       "       [1., 0., 0., 0., 0., 0., 1., 0., 0., 0., 1., 2., 0., 0., 0., 1.]])"
      ]
     },
     "execution_count": 19,
     "metadata": {},
     "output_type": "execute_result"
    }
   ],
   "source": [
    "xDataM1[:5, :]"
   ]
  },
  {
   "cell_type": "code",
   "execution_count": null,
   "metadata": {},
   "outputs": [],
   "source": [
    "yLabel = pd.factorize(yLabel)[0].astype(np.int)"
   ]
  },
  {
   "cell_type": "code",
   "execution_count": null,
   "metadata": {},
   "outputs": [],
   "source": [
    "yLabel"
   ]
  },
  {
   "cell_type": "markdown",
   "metadata": {},
   "source": [
    "#### Horse data process"
   ]
  },
  {
   "cell_type": "code",
   "execution_count": 1,
   "metadata": {},
   "outputs": [],
   "source": [
    "import numpy as np\n",
    "from collections import Counter\n",
    "import pandas as pd\n",
    "from imblearn.over_sampling import SMOTE\n",
    "from sklearn.decomposition import PCA\n",
    "import random"
   ]
  },
  {
   "cell_type": "code",
   "execution_count": null,
   "metadata": {},
   "outputs": [],
   "source": [
    "data1 = pd.read_csv('/Users/zhangxiao/Desktop/论文测试数据集/horse-colic.data',sep='\\s+', \n",
    "                   header=None, dtype=str)\n",
    "data2 = pd.read_csv('/Users/zhangxiao/Desktop/论文测试数据集/horse-colic.test', sep='\\s+',\n",
    "                   header=None, dtype=str)\n",
    "print(len(data1))\n",
    "print(len(data2))"
   ]
  },
  {
   "cell_type": "code",
   "execution_count": null,
   "metadata": {},
   "outputs": [],
   "source": [
    "data = pd.concat([data1, data2], axis=0)\n",
    "print(len(data))"
   ]
  },
  {
   "cell_type": "code",
   "execution_count": null,
   "metadata": {},
   "outputs": [],
   "source": [
    "data.head()"
   ]
  },
  {
   "cell_type": "code",
   "execution_count": null,
   "metadata": {},
   "outputs": [],
   "source": [
    "c = [2, 24, 25, 26]\n",
    "data.drop(data.columns[c], axis=1, inplace=True)\n",
    "\n",
    "data = data.replace('?', np.nan) # 用数字替换\"?\"字符"
   ]
  },
  {
   "cell_type": "code",
   "execution_count": null,
   "metadata": {},
   "outputs": [],
   "source": [
    "xData = data.iloc[:, :-1]\n",
    "yLabel = data.iloc[:, -1]"
   ]
  },
  {
   "cell_type": "code",
   "execution_count": null,
   "metadata": {},
   "outputs": [],
   "source": []
  },
  {
   "cell_type": "code",
   "execution_count": null,
   "metadata": {},
   "outputs": [],
   "source": [
    "xDataM0 = xData.loc[:, [3,4,5,15,18,19,21]]\n",
    "xDataM1 = xData.loc[:, [0,1,6,7,8,9,10,11,12,13,14,16,17,20,22,23]]"
   ]
  },
  {
   "cell_type": "code",
   "execution_count": null,
   "metadata": {},
   "outputs": [],
   "source": [
    "xDataM0.head()"
   ]
  },
  {
   "cell_type": "code",
   "execution_count": null,
   "metadata": {},
   "outputs": [],
   "source": [
    "xDataM1.head()"
   ]
  },
  {
   "cell_type": "code",
   "execution_count": null,
   "metadata": {},
   "outputs": [],
   "source": [
    "xDataM0 = xDataM0.astype('float')"
   ]
  },
  {
   "cell_type": "code",
   "execution_count": null,
   "metadata": {},
   "outputs": [],
   "source": [
    "xDataM0 = xDataM0.copy()\n",
    "for col in list(xDataM0.columns[xDataM0.isnull().sum() > 0]): # 用均值填补NaN\n",
    "    mean_val = round(xDataM0[col].mean(), 2)\n",
    "    xDataM0[col] = xDataM0[col].fillna(mean_val)"
   ]
  },
  {
   "cell_type": "code",
   "execution_count": null,
   "metadata": {},
   "outputs": [],
   "source": [
    "xDataM1 = xDataM1.copy()\n",
    "for col in list(xDataM1.columns[xDataM1.isnull().sum() > 0]): # 用众数填补空值\n",
    "    fill_value = xData[col].mode()[0]\n",
    "    xDataM1[col] = xDataM1[col].fillna(fill_value)"
   ]
  },
  {
   "cell_type": "code",
   "execution_count": null,
   "metadata": {},
   "outputs": [],
   "source": [
    "xDataM0.head()"
   ]
  },
  {
   "cell_type": "code",
   "execution_count": null,
   "metadata": {},
   "outputs": [],
   "source": [
    "xDataM1.head()"
   ]
  },
  {
   "cell_type": "code",
   "execution_count": null,
   "metadata": {},
   "outputs": [],
   "source": [
    "xDataM0 = np.array(xDataM0)\n",
    "xDataM1 = np.array(xDataM1)\n",
    "yLabel = np.array(yLabel)"
   ]
  },
  {
   "cell_type": "code",
   "execution_count": null,
   "metadata": {},
   "outputs": [],
   "source": [
    "tempxData = np.hstack((xDataM0, xDataM1))"
   ]
  },
  {
   "cell_type": "code",
   "execution_count": null,
   "metadata": {},
   "outputs": [],
   "source": [
    "smo = SMOTE(random_state=5)"
   ]
  },
  {
   "cell_type": "code",
   "execution_count": null,
   "metadata": {},
   "outputs": [],
   "source": [
    "tempxData, yLabel = smo.fit_sample(tempxData, yLabel)"
   ]
  },
  {
   "cell_type": "code",
   "execution_count": null,
   "metadata": {
    "scrolled": true
   },
   "outputs": [],
   "source": [
    "Counter(yLabel)"
   ]
  },
  {
   "cell_type": "code",
   "execution_count": null,
   "metadata": {},
   "outputs": [],
   "source": [
    "yLabel = yLabel.astype('int')"
   ]
  },
  {
   "cell_type": "code",
   "execution_count": null,
   "metadata": {},
   "outputs": [],
   "source": [
    "yLabel"
   ]
  },
  {
   "cell_type": "code",
   "execution_count": 3,
   "metadata": {},
   "outputs": [],
   "source": [
    "r = np.array([[83.3,83.3,83.3,83.3,81.67,81.67,80,80,78.33],\n",
    "             [85,85,85,83.33,83.33,81.67,81.67,81.67,81.67],\n",
    "             [88.33,88.33,88.33,88.33,88.33,88.33,88.33,88.33,88.33],\n",
    "             [86.67,86.67,86.67,86.67,86.67,86.67,86.67,86.67,86.67],\n",
    "             [86.67,86.67,86.67,86.67,86.67,85,85,83.33,83.33],\n",
    "             [76.67,76.67,76.67,76.67,76.67,76.67,76.67,76.67,76.67],\n",
    "             [83.33,83.33,83.33,83.33,83.33,83.33,81.67,81.67,81.67],\n",
    "             [83.33,83.33,83.33,83.33,83.33,83.33,85,85,83.33],\n",
    "             [76.67,76.67,76.67,76.67,76.67,76.67,76.67,76.67,76.67],\n",
    "             [81.67,81.67,81.67,81.67,81.67,81.67,81.67,81.67,81.67]])"
   ]
  },
  {
   "cell_type": "code",
   "execution_count": 4,
   "metadata": {},
   "outputs": [
    {
     "data": {
      "text/plain": [
       "array([83.164, 83.164, 83.164, 82.997, 82.834, 82.501, 82.335, 82.168,\n",
       "       81.834])"
      ]
     },
     "execution_count": 4,
     "metadata": {},
     "output_type": "execute_result"
    }
   ],
   "source": [
    "r.mean(0)"
   ]
  },
  {
   "cell_type": "code",
   "execution_count": null,
   "metadata": {},
   "outputs": [],
   "source": []
  }
 ],
 "metadata": {
  "kernelspec": {
   "display_name": "Python 3",
   "language": "python",
   "name": "python3"
  },
  "language_info": {
   "codemirror_mode": {
    "name": "ipython",
    "version": 3
   },
   "file_extension": ".py",
   "mimetype": "text/x-python",
   "name": "python",
   "nbconvert_exporter": "python",
   "pygments_lexer": "ipython3",
   "version": "3.8.5"
  }
 },
 "nbformat": 4,
 "nbformat_minor": 4
}
