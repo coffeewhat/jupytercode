{
 "cells": [
  {
   "cell_type": "code",
   "execution_count": 1,
   "metadata": {},
   "outputs": [],
   "source": [
    "import os\n",
    "import numpy as np\n",
    "import scipy.io as sio\n",
    "import h5py\n",
    "import pandas as pd\n",
    "\n",
    "N_SAMPLE = 269648"
   ]
  },
  {
   "cell_type": "code",
   "execution_count": 23,
   "metadata": {},
   "outputs": [
    {
     "name": "stdout",
     "output_type": "stream",
     "text": [
      "--- label ---\n",
      "\n",
      "#classes: 81\n"
     ]
    }
   ],
   "source": [
    "print(\"--- label ---\")\n",
    "LABEL_P = '/Users/zhangxiao/Desktop/多模态数据集/NUS-wide/Groundtruth/AllLabels_81'\n",
    "\n",
    "# class order determined by `Concepts81.txt`\n",
    "cls_id = {}\n",
    "cls_id_r = {}\n",
    "with open('/Users/zhangxiao/Desktop/多模态数据集/NUS-wide/Groundtruth/Concepts81.txt', 'r') as f:\n",
    "    for cid, line in enumerate(f):\n",
    "        cn = line.strip() \n",
    "        cls_id[cn] = cid       \n",
    "        cls_id_r[cid] = line.strip()       \n",
    "        \n",
    "# print(\"\\nclass-ID:\", cls_id)\n",
    "id_cls = {cls_id[k]: k for k in cls_id}\n",
    "# print(\"\\nID-class:\", id_cls)\n",
    "\n",
    "class_files = os.listdir(LABEL_P)\n",
    "# print(\"\\nlabel file:\", len(class_files), class_files)\n",
    "label_key = lambda x: x.split('.txt')[0].split('Labels_')[-1]\n",
    "\n",
    "N_CLASS = len(cls_id)\n",
    "print(\"\\n#classes:\", N_CLASS)\n",
    "class_files = os.listdir(LABEL_P)\n",
    "\n",
    "# print(\"\\nlabel file:\", len(class_files), class_files)\n",
    "label_key = lambda x: x.split(\".txt\")[0].split(\"Labels_\")[-1]\n",
    "\n",
    "labels = np.zeros([N_SAMPLE, N_CLASS], dtype=np.int8)\n",
    "for cf in class_files:\n",
    "    c_name = label_key(cf)\n",
    "    cid = cls_id[c_name]\n",
    "#     print('->', cid, c_name)\n",
    "    with open(os.path.join(LABEL_P, cf), 'r') as f:\n",
    "        for sid, line in enumerate(f):\n",
    "            if int(line) > 0:\n",
    "                labels[sid][cid] = 1\n",
    "# print(\"labels:\", labels.shape, \", cardinality:\", labels.sum())\n",
    "# labels: (269648, 81) , cardinality: 503848\n",
    "# np.save(\"labels.npy\", labels.astype(np.int8))\n",
    "labels = labels.astype(np.uint8)\n",
    "# sio.savemat(\"labels.mat\", {\"labels\": labels}, do_compression=True)"
   ]
  },
  {
   "cell_type": "code",
   "execution_count": 24,
   "metadata": {},
   "outputs": [],
   "source": [
    "# print(cls_id)\n",
    "# print(cls_id_r)"
   ]
  },
  {
   "cell_type": "code",
   "execution_count": 25,
   "metadata": {
    "scrolled": true
   },
   "outputs": [],
   "source": [
    "# labels[595]"
   ]
  },
  {
   "cell_type": "code",
   "execution_count": 26,
   "metadata": {},
   "outputs": [],
   "source": [
    "single_label = []\n",
    "single_label_sam = [] \n",
    "for i in range(labels.shape[0]):\n",
    "    if labels[i].sum() == 1:\n",
    "        single_label.append(i)\n",
    "        single_label_sam.append(labels[i])"
   ]
  },
  {
   "cell_type": "code",
   "execution_count": 27,
   "metadata": {},
   "outputs": [],
   "source": [
    "# single_label"
   ]
  },
  {
   "cell_type": "code",
   "execution_count": 28,
   "metadata": {},
   "outputs": [],
   "source": [
    "# len(single_label)\n",
    "# print(labels[1052])\n",
    "# len(single_label_sam)"
   ]
  },
  {
   "cell_type": "code",
   "execution_count": 29,
   "metadata": {},
   "outputs": [],
   "source": [
    "# single_label_sam[0]"
   ]
  },
  {
   "cell_type": "code",
   "execution_count": 30,
   "metadata": {},
   "outputs": [],
   "source": [
    "Train_label = []\n",
    "Train_label_sam = {}\n",
    "Test_label = []\n",
    "Test_label_sam = {}"
   ]
  },
  {
   "cell_type": "code",
   "execution_count": 31,
   "metadata": {},
   "outputs": [],
   "source": [
    "import random\n",
    "random.seed(8)\n",
    "Train_label = random.sample(single_label, 24000)\n",
    "Train_label.sort()\n",
    "Test_label = random.sample(single_label, 6000)\n",
    "Test_label.sort()"
   ]
  },
  {
   "cell_type": "code",
   "execution_count": 32,
   "metadata": {},
   "outputs": [],
   "source": [
    "# print(Train_label)"
   ]
  },
  {
   "cell_type": "code",
   "execution_count": 33,
   "metadata": {},
   "outputs": [],
   "source": [
    "# print(len(Train_label))\n",
    "# print(len(Test_label))"
   ]
  },
  {
   "cell_type": "code",
   "execution_count": 34,
   "metadata": {},
   "outputs": [],
   "source": [
    "# print(Train_label)"
   ]
  },
  {
   "cell_type": "code",
   "execution_count": 35,
   "metadata": {},
   "outputs": [],
   "source": [
    "# Train_label.index(82173)"
   ]
  },
  {
   "cell_type": "code",
   "execution_count": null,
   "metadata": {},
   "outputs": [],
   "source": []
  },
  {
   "cell_type": "code",
   "execution_count": 36,
   "metadata": {},
   "outputs": [],
   "source": [
    "# print(Train_label_sam[0])#到这里已经将2.4w个测试样本的label给对立起来，总共81个类"
   ]
  },
  {
   "cell_type": "code",
   "execution_count": 37,
   "metadata": {},
   "outputs": [],
   "source": [
    "# print(labels[50833])"
   ]
  },
  {
   "cell_type": "code",
   "execution_count": 38,
   "metadata": {},
   "outputs": [],
   "source": [
    "# len(Train_label_sam)"
   ]
  },
  {
   "cell_type": "code",
   "execution_count": 39,
   "metadata": {},
   "outputs": [],
   "source": [
    "# for line in Test_label:\n",
    "#     Test_label_sam[line] = labels[line]"
   ]
  },
  {
   "cell_type": "code",
   "execution_count": 40,
   "metadata": {},
   "outputs": [],
   "source": [
    "# len(Test_label_sam)"
   ]
  },
  {
   "cell_type": "code",
   "execution_count": 41,
   "metadata": {},
   "outputs": [],
   "source": [
    "# Train_label_sam = np.array(Train_label_sam)"
   ]
  },
  {
   "cell_type": "code",
   "execution_count": 42,
   "metadata": {},
   "outputs": [],
   "source": [
    "# Test_label_sam = np.array(Test_label_sam)"
   ]
  },
  {
   "cell_type": "code",
   "execution_count": 43,
   "metadata": {},
   "outputs": [],
   "source": [
    "# Train_label_sam[0]"
   ]
  },
  {
   "cell_type": "code",
   "execution_count": 44,
   "metadata": {},
   "outputs": [],
   "source": [
    "# image = pd.read_csv('/Users/zhangxiao/Desktop/多模态数据集/NUS-wide/ImageList/Imagelist.txt', header=None)"
   ]
  },
  {
   "cell_type": "code",
   "execution_count": 45,
   "metadata": {},
   "outputs": [],
   "source": [
    "# len(image)"
   ]
  },
  {
   "cell_type": "code",
   "execution_count": 46,
   "metadata": {},
   "outputs": [],
   "source": [
    "# df = pd.read_csv('/Users/zhangxiao/Desktop/多模态数据集/Low_Level_Features/Normalized_CH.dat', sep=' ', header=None)"
   ]
  },
  {
   "cell_type": "code",
   "execution_count": 47,
   "metadata": {},
   "outputs": [],
   "source": [
    "# df.head()"
   ]
  },
  {
   "cell_type": "code",
   "execution_count": 48,
   "metadata": {},
   "outputs": [],
   "source": [
    "# print(len(Train_label))"
   ]
  },
  {
   "cell_type": "markdown",
   "metadata": {},
   "source": [
    "### Tags"
   ]
  },
  {
   "cell_type": "code",
   "execution_count": 49,
   "metadata": {},
   "outputs": [],
   "source": [
    "tag1k = pd.read_csv('/Users/zhangxiao/Desktop/多模态数据集/NUS-wide/NUS_WID_Tags/未命名文件夹/AllTags1k.txt', sep='\\t', header=None)"
   ]
  },
  {
   "cell_type": "code",
   "execution_count": 50,
   "metadata": {},
   "outputs": [
    {
     "data": {
      "text/plain": [
       "(269648, 1001)"
      ]
     },
     "execution_count": 50,
     "metadata": {},
     "output_type": "execute_result"
    }
   ],
   "source": [
    "tag1k.shape"
   ]
  },
  {
   "cell_type": "code",
   "execution_count": 51,
   "metadata": {},
   "outputs": [],
   "source": [
    "# tag1k.head()"
   ]
  },
  {
   "cell_type": "code",
   "execution_count": 52,
   "metadata": {},
   "outputs": [],
   "source": [
    "tag1k_list = {}\n",
    "with open('/Users/zhangxiao/Desktop/多模态数据集/NUS-wide/NUS_WID_Tags/未命名文件夹/TagList1k.txt', 'r') as f:\n",
    "    for line, tag in enumerate(f):\n",
    "        tag_id = line\n",
    "        tag1k_list[tag_id] = tag.strip()"
   ]
  },
  {
   "cell_type": "code",
   "execution_count": 53,
   "metadata": {},
   "outputs": [],
   "source": [
    "# tag1k_list"
   ]
  },
  {
   "cell_type": "code",
   "execution_count": 54,
   "metadata": {},
   "outputs": [],
   "source": [
    "# tag1k_list[25]"
   ]
  },
  {
   "cell_type": "code",
   "execution_count": 55,
   "metadata": {
    "scrolled": true
   },
   "outputs": [],
   "source": [
    "Train_alltags = {}\n",
    "with open('/Users/zhangxiao/Desktop/多模态数据集/NUS-wide/NUS_WID_Tags/未命名文件夹/AllTags1k.txt', 'r') as f:\n",
    "    for line, tags in enumerate(f):\n",
    "#         print(line)\n",
    "#         print(type(line))\n",
    "        if line in Train_label:\n",
    "#             print(line)\n",
    "            Train_alltags[line] = np.array(tags.split(), dtype=int)\n",
    "#             print(alltags)"
   ]
  },
  {
   "cell_type": "code",
   "execution_count": 56,
   "metadata": {},
   "outputs": [
    {
     "data": {
      "text/plain": [
       "24000"
      ]
     },
     "execution_count": 56,
     "metadata": {},
     "output_type": "execute_result"
    }
   ],
   "source": [
    "len(Train_alltags)"
   ]
  },
  {
   "cell_type": "code",
   "execution_count": 57,
   "metadata": {},
   "outputs": [],
   "source": [
    "Test_alltags = {}\n",
    "with open('/Users/zhangxiao/Desktop/多模态数据集/NUS-wide/NUS_WID_Tags/未命名文件夹/AllTags1k.txt', 'r') as f:\n",
    "    for line, tags in enumerate(f):\n",
    "#         print(line)\n",
    "#         print(type(line))\n",
    "        if line in Test_label:\n",
    "#             print(line)\n",
    "            Test_alltags[line] = np.array(tags.split(), dtype=int)\n",
    "#             print(alltags)"
   ]
  },
  {
   "cell_type": "code",
   "execution_count": 58,
   "metadata": {},
   "outputs": [],
   "source": [
    "Train_tags = {}\n",
    "Train_tag = []\n",
    "for line, tags in Train_alltags.items():\n",
    "#     print(list(np.where(tags==1))[0])\n",
    "    for index in list(np.where(tags==1))[0]:\n",
    "        Train_tag.append(tag1k_list[index])\n",
    "    Train_tags[line] = Train_tag\n",
    "    Train_tag = []"
   ]
  },
  {
   "cell_type": "code",
   "execution_count": 59,
   "metadata": {},
   "outputs": [],
   "source": [
    "del_train = [] # 删除一些没有tag的样本\n",
    "for index, tags in list(Train_tags.items()):\n",
    "    if len(tags) == 0:\n",
    "        del Train_tags[index]\n",
    "        del_train.append(index)"
   ]
  },
  {
   "cell_type": "code",
   "execution_count": 60,
   "metadata": {},
   "outputs": [],
   "source": [
    "for index in del_train:\n",
    "    if index in Train_label:\n",
    "        Train_label.remove(index)"
   ]
  },
  {
   "cell_type": "code",
   "execution_count": 61,
   "metadata": {},
   "outputs": [],
   "source": [
    "Test_tags = {}\n",
    "Test_tag = []\n",
    "for line, tags in Test_alltags.items():\n",
    "#     print(list(np.where(tags==1))[0])\n",
    "    for index in list(np.where(tags==1))[0]:\n",
    "        Test_tag.append(tag1k_list[index])\n",
    "    Test_tags[line] = Test_tag\n",
    "    Test_tag = []"
   ]
  },
  {
   "cell_type": "code",
   "execution_count": 62,
   "metadata": {},
   "outputs": [],
   "source": [
    "del_test = [] # 删除一些没有tag的样本\n",
    "for index, tags in list(Test_tags.items()):\n",
    "    if len(tags) == 0:\n",
    "        del Test_tags[index]\n",
    "        del_test.append(index)"
   ]
  },
  {
   "cell_type": "code",
   "execution_count": 63,
   "metadata": {},
   "outputs": [],
   "source": [
    "for index in del_test:\n",
    "    if index in Test_label:\n",
    "        Test_label.remove(index)"
   ]
  },
  {
   "cell_type": "code",
   "execution_count": 64,
   "metadata": {},
   "outputs": [
    {
     "name": "stdout",
     "output_type": "stream",
     "text": [
      "5774\n"
     ]
    }
   ],
   "source": [
    "print(len(Test_label))"
   ]
  },
  {
   "cell_type": "code",
   "execution_count": 65,
   "metadata": {},
   "outputs": [
    {
     "data": {
      "text/plain": [
       "19"
      ]
     },
     "execution_count": 65,
     "metadata": {},
     "output_type": "execute_result"
    }
   ],
   "source": [
    "Test_label[0]"
   ]
  },
  {
   "cell_type": "code",
   "execution_count": 66,
   "metadata": {},
   "outputs": [],
   "source": [
    "# Test_tags[167242]"
   ]
  },
  {
   "cell_type": "code",
   "execution_count": 67,
   "metadata": {},
   "outputs": [],
   "source": [
    "from sklearn.feature_extraction.text import TfidfVectorizer"
   ]
  },
  {
   "cell_type": "code",
   "execution_count": 68,
   "metadata": {},
   "outputs": [],
   "source": [
    "Train_tags_feature = []\n",
    "Test_tags_feature = []\n",
    "for index,tags in Train_tags.items():\n",
    "#     print(tags)\n",
    "    Train_tags_feature.append(' '.join(tags))\n",
    "#     print(Train_tags_feature)\n",
    "for index,tags in Test_tags.items():\n",
    "    Test_tags_feature.append(' '.join(tags))\n",
    "\n",
    "Train_transfer = TfidfVectorizer()\n",
    "Train_tags_final = Train_transfer.fit_transform(Train_tags_feature)\n",
    "# print('Train_tags_feature:\\n', Train_tags_final.toarray())\n",
    "# print('特征名字:\\n', transfer.get_feature_names())\n",
    "Test_transfer = TfidfVectorizer()\n",
    "Test_tags_final = Test_transfer.fit_transform(Test_tags_feature)"
   ]
  },
  {
   "cell_type": "code",
   "execution_count": 69,
   "metadata": {
    "scrolled": true
   },
   "outputs": [
    {
     "name": "stdout",
     "output_type": "stream",
     "text": [
      "(23074, 1000)\n",
      "1000\n",
      "[0.         0.         0.         0.65134012 0.         0.\n",
      " 0.         0.         0.         0.         0.         0.\n",
      " 0.         0.         0.         0.         0.         0.\n",
      " 0.         0.         0.         0.         0.         0.\n",
      " 0.         0.         0.         0.         0.         0.\n",
      " 0.         0.         0.         0.         0.         0.\n",
      " 0.         0.         0.         0.         0.         0.\n",
      " 0.         0.         0.         0.         0.         0.\n",
      " 0.         0.         0.         0.         0.         0.\n",
      " 0.         0.         0.         0.         0.         0.\n",
      " 0.         0.         0.         0.         0.         0.\n",
      " 0.         0.         0.         0.         0.         0.\n",
      " 0.         0.         0.         0.         0.         0.\n",
      " 0.         0.         0.         0.         0.         0.\n",
      " 0.         0.         0.         0.         0.         0.\n",
      " 0.         0.         0.         0.         0.         0.\n",
      " 0.         0.         0.         0.         0.         0.\n",
      " 0.         0.         0.         0.         0.         0.\n",
      " 0.         0.         0.         0.         0.         0.\n",
      " 0.         0.         0.         0.         0.         0.\n",
      " 0.         0.         0.         0.         0.         0.\n",
      " 0.         0.         0.         0.         0.         0.\n",
      " 0.         0.         0.         0.         0.         0.\n",
      " 0.         0.         0.         0.         0.         0.\n",
      " 0.         0.         0.         0.         0.         0.\n",
      " 0.         0.         0.         0.         0.         0.\n",
      " 0.         0.         0.         0.         0.         0.\n",
      " 0.         0.         0.         0.         0.         0.\n",
      " 0.         0.         0.         0.         0.         0.\n",
      " 0.         0.         0.         0.         0.         0.\n",
      " 0.         0.         0.         0.         0.         0.\n",
      " 0.         0.         0.         0.         0.         0.\n",
      " 0.         0.         0.         0.         0.         0.\n",
      " 0.         0.         0.         0.         0.         0.\n",
      " 0.         0.         0.         0.         0.         0.\n",
      " 0.         0.         0.         0.         0.         0.\n",
      " 0.         0.         0.         0.         0.         0.\n",
      " 0.         0.         0.         0.         0.         0.\n",
      " 0.         0.         0.         0.         0.         0.\n",
      " 0.         0.         0.         0.         0.         0.\n",
      " 0.         0.         0.         0.         0.         0.\n",
      " 0.         0.         0.         0.         0.         0.\n",
      " 0.         0.         0.         0.         0.         0.\n",
      " 0.         0.         0.         0.         0.         0.\n",
      " 0.         0.         0.         0.         0.         0.\n",
      " 0.         0.         0.         0.         0.         0.\n",
      " 0.         0.         0.         0.         0.         0.\n",
      " 0.         0.         0.         0.         0.         0.\n",
      " 0.         0.         0.         0.         0.         0.\n",
      " 0.         0.         0.         0.         0.         0.\n",
      " 0.         0.         0.         0.         0.         0.\n",
      " 0.         0.         0.         0.         0.         0.\n",
      " 0.         0.         0.         0.         0.         0.\n",
      " 0.         0.         0.         0.         0.         0.\n",
      " 0.         0.         0.         0.         0.         0.\n",
      " 0.         0.         0.         0.         0.         0.\n",
      " 0.         0.         0.         0.         0.         0.\n",
      " 0.         0.         0.         0.         0.         0.\n",
      " 0.         0.         0.         0.         0.         0.\n",
      " 0.         0.         0.         0.         0.         0.\n",
      " 0.         0.         0.         0.         0.         0.\n",
      " 0.         0.         0.         0.         0.         0.\n",
      " 0.         0.         0.         0.         0.         0.\n",
      " 0.         0.         0.         0.         0.7587859  0.\n",
      " 0.         0.         0.         0.         0.         0.\n",
      " 0.         0.         0.         0.         0.         0.\n",
      " 0.         0.         0.         0.         0.         0.\n",
      " 0.         0.         0.         0.         0.         0.\n",
      " 0.         0.         0.         0.         0.         0.\n",
      " 0.         0.         0.         0.         0.         0.\n",
      " 0.         0.         0.         0.         0.         0.\n",
      " 0.         0.         0.         0.         0.         0.\n",
      " 0.         0.         0.         0.         0.         0.\n",
      " 0.         0.         0.         0.         0.         0.\n",
      " 0.         0.         0.         0.         0.         0.\n",
      " 0.         0.         0.         0.         0.         0.\n",
      " 0.         0.         0.         0.         0.         0.\n",
      " 0.         0.         0.         0.         0.         0.\n",
      " 0.         0.         0.         0.         0.         0.\n",
      " 0.         0.         0.         0.         0.         0.\n",
      " 0.         0.         0.         0.         0.         0.\n",
      " 0.         0.         0.         0.         0.         0.\n",
      " 0.         0.         0.         0.         0.         0.\n",
      " 0.         0.         0.         0.         0.         0.\n",
      " 0.         0.         0.         0.         0.         0.\n",
      " 0.         0.         0.         0.         0.         0.\n",
      " 0.         0.         0.         0.         0.         0.\n",
      " 0.         0.         0.         0.         0.         0.\n",
      " 0.         0.         0.         0.         0.         0.\n",
      " 0.         0.         0.         0.         0.         0.\n",
      " 0.         0.         0.         0.         0.         0.\n",
      " 0.         0.         0.         0.         0.         0.\n",
      " 0.         0.         0.         0.         0.         0.\n",
      " 0.         0.         0.         0.         0.         0.\n",
      " 0.         0.         0.         0.         0.         0.\n",
      " 0.         0.         0.         0.         0.         0.\n",
      " 0.         0.         0.         0.         0.         0.\n",
      " 0.         0.         0.         0.         0.         0.\n",
      " 0.         0.         0.         0.         0.         0.\n",
      " 0.         0.         0.         0.         0.         0.\n",
      " 0.         0.         0.         0.         0.         0.\n",
      " 0.         0.         0.         0.         0.         0.\n",
      " 0.         0.         0.         0.         0.         0.\n",
      " 0.         0.         0.         0.         0.         0.\n",
      " 0.         0.         0.         0.         0.         0.\n",
      " 0.         0.         0.         0.         0.         0.\n",
      " 0.         0.         0.         0.         0.         0.\n",
      " 0.         0.         0.         0.         0.         0.\n",
      " 0.         0.         0.         0.         0.         0.\n",
      " 0.         0.         0.         0.         0.         0.\n",
      " 0.         0.         0.         0.         0.         0.\n",
      " 0.         0.         0.         0.         0.         0.\n",
      " 0.         0.         0.         0.         0.         0.\n",
      " 0.         0.         0.         0.         0.         0.\n",
      " 0.         0.         0.         0.         0.         0.\n",
      " 0.         0.         0.         0.         0.         0.\n",
      " 0.         0.         0.         0.         0.         0.\n",
      " 0.         0.         0.         0.         0.         0.\n",
      " 0.         0.         0.         0.         0.         0.\n",
      " 0.         0.         0.         0.         0.         0.\n",
      " 0.         0.         0.         0.         0.         0.\n",
      " 0.         0.         0.         0.         0.         0.\n",
      " 0.         0.         0.         0.         0.         0.\n",
      " 0.         0.         0.         0.         0.         0.\n",
      " 0.         0.         0.         0.         0.         0.\n",
      " 0.         0.         0.         0.         0.         0.\n",
      " 0.         0.         0.         0.         0.         0.\n",
      " 0.         0.         0.         0.         0.         0.\n",
      " 0.         0.         0.         0.         0.         0.\n",
      " 0.         0.         0.         0.         0.         0.\n",
      " 0.         0.         0.         0.         0.         0.\n",
      " 0.         0.         0.         0.         0.         0.\n",
      " 0.         0.         0.         0.         0.         0.\n",
      " 0.         0.         0.         0.         0.         0.\n",
      " 0.         0.         0.         0.         0.         0.\n",
      " 0.         0.         0.         0.         0.         0.\n",
      " 0.         0.         0.         0.         0.         0.\n",
      " 0.         0.         0.         0.         0.         0.\n",
      " 0.         0.         0.         0.         0.         0.\n",
      " 0.         0.         0.         0.         0.         0.\n",
      " 0.         0.         0.         0.         0.         0.\n",
      " 0.         0.         0.         0.         0.         0.\n",
      " 0.         0.         0.         0.         0.         0.\n",
      " 0.         0.         0.         0.         0.         0.\n",
      " 0.         0.         0.         0.         0.         0.\n",
      " 0.         0.         0.         0.         0.         0.\n",
      " 0.         0.         0.         0.         0.         0.\n",
      " 0.         0.         0.         0.         0.         0.\n",
      " 0.         0.         0.         0.         0.         0.\n",
      " 0.         0.         0.         0.         0.         0.\n",
      " 0.         0.         0.         0.         0.         0.\n",
      " 0.         0.         0.         0.         0.         0.\n",
      " 0.         0.         0.         0.         0.         0.\n",
      " 0.         0.         0.         0.         0.         0.\n",
      " 0.         0.         0.         0.         0.         0.\n",
      " 0.         0.         0.         0.         0.         0.\n",
      " 0.         0.         0.         0.         0.         0.\n",
      " 0.         0.         0.         0.         0.         0.\n",
      " 0.         0.         0.         0.         0.         0.\n",
      " 0.         0.         0.         0.         0.         0.\n",
      " 0.         0.         0.         0.         0.         0.\n",
      " 0.         0.         0.         0.         0.         0.\n",
      " 0.         0.         0.         0.         0.         0.\n",
      " 0.         0.         0.         0.         0.         0.\n",
      " 0.         0.         0.         0.         0.         0.\n",
      " 0.         0.         0.         0.         0.         0.\n",
      " 0.         0.         0.         0.        ]\n"
     ]
    }
   ],
   "source": [
    "print(Train_tags_final.toarray().shape)\n",
    "print(len(Train_transfer.get_feature_names()))\n",
    "print(Train_tags_final.toarray()[0])"
   ]
  },
  {
   "cell_type": "code",
   "execution_count": 70,
   "metadata": {
    "scrolled": true
   },
   "outputs": [
    {
     "name": "stdout",
     "output_type": "stream",
     "text": [
      "(5774, 1000)\n",
      "1000\n",
      "[0.         0.         0.         0.37099589 0.         0.\n",
      " 0.         0.         0.         0.         0.         0.\n",
      " 0.         0.         0.         0.         0.         0.\n",
      " 0.         0.         0.         0.         0.         0.\n",
      " 0.         0.         0.         0.         0.         0.\n",
      " 0.         0.         0.         0.         0.         0.\n",
      " 0.         0.         0.         0.         0.         0.\n",
      " 0.         0.         0.         0.         0.         0.\n",
      " 0.         0.         0.         0.         0.         0.\n",
      " 0.         0.         0.         0.         0.         0.\n",
      " 0.         0.         0.         0.         0.         0.\n",
      " 0.         0.         0.         0.         0.         0.\n",
      " 0.         0.         0.         0.         0.         0.\n",
      " 0.         0.         0.         0.         0.         0.\n",
      " 0.         0.         0.         0.         0.         0.\n",
      " 0.         0.         0.         0.         0.26625357 0.\n",
      " 0.         0.         0.         0.         0.         0.\n",
      " 0.         0.         0.         0.         0.         0.\n",
      " 0.         0.         0.         0.         0.         0.\n",
      " 0.         0.         0.         0.         0.         0.\n",
      " 0.         0.         0.         0.         0.         0.\n",
      " 0.         0.         0.         0.         0.         0.\n",
      " 0.         0.         0.         0.         0.         0.\n",
      " 0.         0.         0.         0.         0.         0.\n",
      " 0.         0.         0.         0.         0.         0.\n",
      " 0.         0.         0.         0.         0.         0.\n",
      " 0.         0.         0.         0.         0.         0.\n",
      " 0.         0.         0.         0.         0.         0.\n",
      " 0.         0.         0.         0.         0.         0.\n",
      " 0.         0.         0.         0.         0.         0.\n",
      " 0.         0.         0.         0.         0.         0.\n",
      " 0.         0.         0.         0.         0.         0.\n",
      " 0.         0.         0.         0.         0.         0.\n",
      " 0.         0.         0.         0.         0.         0.\n",
      " 0.         0.         0.         0.         0.         0.\n",
      " 0.         0.         0.         0.         0.         0.\n",
      " 0.         0.         0.         0.         0.         0.\n",
      " 0.         0.         0.         0.         0.         0.\n",
      " 0.         0.         0.         0.         0.         0.\n",
      " 0.         0.         0.         0.         0.         0.\n",
      " 0.         0.         0.         0.         0.         0.\n",
      " 0.         0.         0.         0.         0.         0.\n",
      " 0.         0.         0.         0.         0.         0.\n",
      " 0.         0.         0.         0.         0.         0.\n",
      " 0.         0.         0.         0.         0.         0.\n",
      " 0.         0.         0.         0.         0.         0.\n",
      " 0.         0.         0.         0.         0.         0.\n",
      " 0.         0.         0.         0.         0.         0.\n",
      " 0.         0.         0.         0.         0.         0.\n",
      " 0.         0.         0.         0.         0.         0.\n",
      " 0.         0.         0.         0.         0.         0.\n",
      " 0.         0.         0.         0.         0.         0.\n",
      " 0.         0.         0.         0.         0.         0.\n",
      " 0.         0.         0.         0.         0.3203961  0.\n",
      " 0.         0.         0.         0.         0.         0.\n",
      " 0.         0.         0.         0.         0.         0.\n",
      " 0.         0.         0.         0.         0.         0.\n",
      " 0.         0.         0.         0.         0.         0.\n",
      " 0.         0.         0.         0.         0.         0.\n",
      " 0.         0.         0.         0.         0.         0.\n",
      " 0.         0.         0.         0.         0.         0.\n",
      " 0.         0.         0.         0.         0.         0.\n",
      " 0.         0.         0.         0.         0.         0.\n",
      " 0.         0.         0.         0.         0.         0.\n",
      " 0.         0.         0.         0.         0.         0.\n",
      " 0.         0.         0.         0.         0.         0.\n",
      " 0.         0.         0.         0.         0.         0.\n",
      " 0.         0.         0.         0.         0.         0.\n",
      " 0.         0.         0.         0.         0.         0.\n",
      " 0.         0.         0.         0.         0.         0.\n",
      " 0.         0.         0.         0.         0.         0.\n",
      " 0.         0.         0.         0.         0.         0.\n",
      " 0.         0.         0.         0.         0.         0.\n",
      " 0.         0.         0.         0.         0.         0.\n",
      " 0.         0.         0.         0.         0.         0.\n",
      " 0.         0.         0.         0.         0.         0.\n",
      " 0.         0.         0.         0.         0.         0.\n",
      " 0.         0.         0.         0.         0.         0.\n",
      " 0.         0.         0.         0.         0.         0.\n",
      " 0.         0.         0.         0.         0.         0.\n",
      " 0.         0.         0.         0.         0.         0.\n",
      " 0.         0.         0.         0.         0.         0.\n",
      " 0.         0.         0.         0.         0.         0.\n",
      " 0.         0.         0.         0.         0.         0.\n",
      " 0.         0.         0.         0.         0.         0.\n",
      " 0.         0.         0.         0.         0.         0.\n",
      " 0.         0.         0.         0.         0.         0.\n",
      " 0.         0.         0.         0.         0.         0.\n",
      " 0.         0.         0.         0.         0.         0.\n",
      " 0.         0.         0.         0.         0.         0.\n",
      " 0.         0.         0.         0.         0.         0.\n",
      " 0.         0.         0.         0.         0.         0.\n",
      " 0.         0.         0.         0.         0.         0.\n",
      " 0.         0.         0.         0.         0.         0.\n",
      " 0.         0.         0.         0.         0.         0.\n",
      " 0.         0.         0.         0.         0.         0.41634325\n",
      " 0.         0.         0.         0.         0.         0.\n",
      " 0.         0.         0.         0.         0.         0.41082952\n",
      " 0.         0.         0.         0.         0.         0.\n",
      " 0.         0.         0.         0.         0.         0.\n",
      " 0.         0.         0.         0.35068824 0.         0.\n",
      " 0.         0.         0.         0.         0.         0.\n",
      " 0.         0.         0.         0.         0.         0.\n",
      " 0.         0.         0.         0.         0.         0.\n",
      " 0.         0.         0.         0.         0.         0.\n",
      " 0.         0.         0.         0.         0.         0.\n",
      " 0.         0.         0.         0.         0.         0.\n",
      " 0.         0.         0.         0.         0.         0.\n",
      " 0.         0.         0.         0.         0.         0.\n",
      " 0.         0.         0.         0.         0.         0.\n",
      " 0.         0.         0.         0.         0.         0.\n",
      " 0.         0.         0.         0.         0.         0.\n",
      " 0.         0.         0.         0.         0.         0.\n",
      " 0.         0.         0.         0.         0.         0.\n",
      " 0.         0.         0.         0.         0.         0.\n",
      " 0.         0.         0.         0.         0.         0.\n",
      " 0.         0.         0.         0.         0.         0.\n",
      " 0.         0.         0.         0.         0.         0.\n",
      " 0.         0.         0.         0.         0.         0.\n",
      " 0.         0.         0.         0.         0.         0.\n",
      " 0.         0.         0.         0.         0.         0.\n",
      " 0.         0.         0.         0.         0.         0.\n",
      " 0.         0.         0.         0.         0.         0.\n",
      " 0.         0.         0.         0.         0.         0.\n",
      " 0.         0.         0.         0.         0.         0.\n",
      " 0.         0.         0.         0.         0.         0.\n",
      " 0.         0.         0.         0.         0.         0.\n",
      " 0.         0.         0.         0.         0.         0.\n",
      " 0.         0.         0.         0.         0.         0.\n",
      " 0.         0.         0.         0.         0.         0.\n",
      " 0.         0.         0.         0.         0.         0.\n",
      " 0.         0.         0.         0.         0.         0.\n",
      " 0.         0.         0.         0.         0.         0.\n",
      " 0.         0.         0.         0.         0.         0.\n",
      " 0.         0.         0.         0.         0.         0.\n",
      " 0.         0.         0.         0.         0.         0.\n",
      " 0.         0.         0.         0.         0.         0.\n",
      " 0.         0.         0.         0.         0.         0.\n",
      " 0.         0.         0.         0.         0.         0.\n",
      " 0.         0.         0.         0.         0.         0.\n",
      " 0.         0.         0.         0.         0.         0.\n",
      " 0.         0.         0.         0.         0.         0.\n",
      " 0.         0.         0.         0.         0.         0.\n",
      " 0.         0.         0.         0.         0.         0.\n",
      " 0.         0.         0.         0.         0.         0.\n",
      " 0.         0.         0.         0.         0.         0.\n",
      " 0.         0.         0.         0.         0.         0.\n",
      " 0.         0.         0.         0.         0.         0.\n",
      " 0.         0.         0.         0.         0.         0.\n",
      " 0.         0.         0.         0.         0.         0.\n",
      " 0.         0.         0.         0.         0.         0.\n",
      " 0.         0.         0.         0.         0.         0.\n",
      " 0.         0.         0.         0.         0.         0.\n",
      " 0.         0.         0.         0.         0.         0.\n",
      " 0.         0.         0.         0.         0.         0.47298265\n",
      " 0.         0.         0.         0.         0.         0.\n",
      " 0.         0.         0.         0.         0.         0.\n",
      " 0.         0.         0.         0.         0.         0.\n",
      " 0.         0.         0.         0.         0.         0.\n",
      " 0.         0.         0.         0.         0.         0.\n",
      " 0.         0.         0.         0.         0.         0.\n",
      " 0.         0.         0.         0.         0.         0.\n",
      " 0.         0.         0.         0.         0.         0.\n",
      " 0.         0.         0.         0.         0.         0.\n",
      " 0.         0.         0.         0.         0.         0.\n",
      " 0.         0.         0.         0.         0.         0.\n",
      " 0.         0.         0.         0.        ]\n"
     ]
    }
   ],
   "source": [
    "print(Test_tags_final.toarray().shape)\n",
    "print(len(Test_transfer.get_feature_names()))\n",
    "print(Test_tags_final.toarray()[0])"
   ]
  },
  {
   "cell_type": "code",
   "execution_count": 71,
   "metadata": {},
   "outputs": [
    {
     "data": {
      "text/plain": [
       "['black film new moon twilight actor movie',\n",
       " 'portrait beautiful london star news actor gorgeous',\n",
       " 'woman india actor movie',\n",
       " 'sheep actor',\n",
       " 'woman india smile sweet actor lady mall',\n",
       " 'people portrait men girls dress group hat boys adults actor males clothing',\n",
       " 'color film beauty actor',\n",
       " 'portrait scotland actor',\n",
       " 'news actor',\n",
       " 'actor',\n",
       " 'art old vintage brown men male illustration clothes actor artist pair',\n",
       " 'people man boy actor friend',\n",
       " 'actor movie',\n",
       " 'travel man japan digital festival star japanese parade actor historical',\n",
       " 'star american actor',\n",
       " 'school high actor',\n",
       " 'asia india actor movie youth',\n",
       " 'green portrait texas dance actor austin',\n",
       " 'film beauty actor',\n",
       " 'actor movie',\n",
       " 'red india photographer model culture female actor traditional',\n",
       " 'actor',\n",
       " 'film berlin stars actor',\n",
       " 'drawing paper actor',\n",
       " 'portrait vintage actor',\n",
       " 'people night portrait color man men religion male portraits live actor males faces pope',\n",
       " 'male march actor',\n",
       " 'portrait actor',\n",
       " 'film asia india actor movie',\n",
       " 'actor',\n",
       " 'australia victoria melbourne actor',\n",
       " 'people portrait men british adults actor males',\n",
       " 'green asia india face life asian actor movie style',\n",
       " 'actor movie',\n",
       " 'actor',\n",
       " 'portrait beautiful face funny smile pretty happy actor',\n",
       " 'mexico actor',\n",
       " 'flowers',\n",
       " 'blue night europe car silhouette europa ireland silhouettes adult',\n",
       " 'nature blue black purple butterfly adult',\n",
       " 'sea beach sun summer man men male hot wet candid adult',\n",
       " 'male shot adult',\n",
       " 'brown butterfly georgia adult',\n",
       " 'explore people woman germany man window glass town chair lamp adult',\n",
       " 'adult',\n",
       " 'adult nevada',\n",
       " 'light man window life adult',\n",
       " 'light people portrait woman home happy day hand office person female phone shopping social adult talking mother antenna',\n",
       " 'portrait male adult',\n",
       " 'flowers shadow child boy evening christmas coffee adult',\n",
       " 'swim adult',\n",
       " 'adult',\n",
       " 'animals man male dogs person pets austria adult',\n",
       " 'adult',\n",
       " 'water red color wow colorful bay aerial south',\n",
       " 'beach washington aerial seattle lighthouse',\n",
       " 'green landscape trees germany field aerial stream fabulous graphic',\n",
       " 'sky blue night moon air fly aerial walk wave artist',\n",
       " 'wow sand aerial dunes',\n",
       " 'window flying aerial',\n",
       " 'photography manhattan jet aerial',\n",
       " 'germany war history aerial historical',\n",
       " 'architecture buildings downtown chicago aerial',\n",
       " 'aerial tomb',\n",
       " 'white animal cute baby brown sweet mammal small ball african',\n",
       " 'art child kids music girls brazil brasil kid festival dance culture boys hope norway african artist social youth',\n",
       " 'lion african feline',\n",
       " 'people portrait travel woman africa tourism umbrella african mother',\n",
       " 'sea night beach happy christmas african sad holidays',\n",
       " 'portrait black woman self female fantasy african',\n",
       " 'child africa family poverty african',\n",
       " 'water people portrait dog africa boy poverty african',\n",
       " 'nature red animal animals bird zoo spain africa wild lion leopard african',\n",
       " 'american african',\n",
       " 'california animal park funny wild cats lion african',\n",
       " 'bird african',\n",
       " 'nature beautiful wildlife zoo africa outdoors lion african',\n",
       " 'nature explore animal orange interestingness beautiful georgia african atlanta',\n",
       " 'portrait canada italy child africa montreal african',\n",
       " 'people portrait woman digital face model picture portraits hat female american flash georgia faces african atlanta',\n",
       " 'black beautiful model african',\n",
       " 'boy farm book african',\n",
       " 'animal animals closeup face mammal close african',\n",
       " 'light bird happy grey young african',\n",
       " 'green black girl beautiful park brown america stairs model dance hill american flash georgia clothes college united african rail club state atlanta',\n",
       " 'people black urban park photo man history photos historic picture american historical african tennis',\n",
       " 'portrait girl child africa smile african',\n",
       " 'portrait beauty african',\n",
       " 'black male model studio african',\n",
       " 'explore portrait interestingness fun mirror gun agent',\n",
       " 'july agent austin',\n",
       " 'california agent',\n",
       " 'white black girl beautiful film woman photography photo london beauty train purple fashion photos clothes agent',\n",
       " 'white black girl beautiful film woman photography photo london beauty train purple fashion photos clothes agent',\n",
       " 'agent',\n",
       " 'girl photography fashion adventure agent radar',\n",
       " 'action massachusetts agent east',\n",
       " 'agent',\n",
       " 'woman costume agent tomb',\n",
       " 'rock music dance metal play agent',\n",
       " 'wedding agent',\n",
       " 'italy japan wolf agent',\n",
       " 'man male young person youth adult agent talking',\n",
       " 'black tree girl christmas agent',\n",
       " 'girl photography fashion adventure agent radar',\n",
       " 'white black orange war photojournalism documentary vietnam agent',\n",
       " 'london party costume ball club agent',\n",
       " 'california ship funny dress navy candid helicopter',\n",
       " 'blue water sea travel california ocean boat texture ship abstract military aircraft public navy steel harbor march wallpaper',\n",
       " 'travel california old boat ship military aircraft public navy room march antique',\n",
       " 'virginia',\n",
       " 'travel california boat vacation ship war military aircraft museum history flag historic public navy tourism march american weapons historical tourist',\n",
       " 'explore sunset interestingness square airplane aircraft aviation jet',\n",
       " 'sky blue color interestingness airplane favorite',\n",
       " 'airplane aircraft',\n",
       " 'airplane',\n",
       " 'sky clouds night airplane storm',\n",
       " 'red old airport plane army metal nose',\n",
       " 'airport national',\n",
       " 'lights airport chicago illinois tunnel neon',\n",
       " 'travel girl airport fashion mexico shoes',\n",
       " 'airport flight air',\n",
       " 'reflection urban airport perspective metal modern tiger',\n",
       " 'night airport',\n",
       " 'airport',\n",
       " 'waiting',\n",
       " 'north amazing american factory fighter',\n",
       " 'blue red flower summer life morning alley august',\n",
       " 'square bicycle alley textures',\n",
       " 'urban alley',\n",
       " 'night dark umbrella gun alley',\n",
       " 'europe sign netherlands holland amsterdam alley',\n",
       " 'water night reflection fall rain moon mist montreal alley steam',\n",
       " 'alley',\n",
       " 'landscape spring alley missouri',\n",
       " 'red window decay tunnel brick alley',\n",
       " 'girl urban woman wall washington decay windows sepia best brick alley',\n",
       " 'italy alley',\n",
       " 'park fun vacation brazil brasil action fly adventure',\n",
       " 'california dusk',\n",
       " 'horses seattle',\n",
       " 'tokyo',\n",
       " 'explore interestingness park photography lights fun kids family florida fly motion blur castle classic tourist',\n",
       " 'sunset park silhouette pennsylvania',\n",
       " 'australia sydney',\n",
       " 'abandoned',\n",
       " 'chicago',\n",
       " 'festival',\n",
       " 'park france vacation face paris holiday statue',\n",
       " 'park pennsylvania',\n",
       " 'holiday sculpture austria',\n",
       " 'yellow macro flower beauty purple dance',\n",
       " 'bravo flower flowers quality excellence',\n",
       " 'bravo macro flowers purple excellence',\n",
       " 'nature white macro flower japan spring wonder',\n",
       " 'bravo white flower colour',\n",
       " 'bravo',\n",
       " 'excellence',\n",
       " 'blue white macro black flower europe pink germany spring excellence close center april',\n",
       " 'explore macro flower garden',\n",
       " 'nature macro flower flowers summer pink closeup square lovely',\n",
       " 'red bravo flower excellence',\n",
       " 'white macro flower flowers closeup',\n",
       " 'blue',\n",
       " 'bravo macro flower flowers excellence',\n",
       " 'yellow pink purple excellence',\n",
       " 'flower flowers pink',\n",
       " 'explore yellow macro flower interestingness spring purple flora',\n",
       " 'rain april',\n",
       " 'bravo flower excellence',\n",
       " 'macro flower flowers closeup',\n",
       " 'white flower excellence',\n",
       " 'sky blue water red green white night art yellow portrait sun orange girl pink fish purple kid moon school self dress painting star paint time space stars earth college swim collage angel',\n",
       " 'aquarium',\n",
       " 'fish sculpture metal steel',\n",
       " 'raw',\n",
       " 'underwater philippines diving scuba',\n",
       " 'bravo animal zoo quality north mammal april giraffe',\n",
       " 'nature explore macro animal wildlife animals wow life interesting cool insect kuwait raw bug',\n",
       " 'animal cute pets mammal rodent',\n",
       " 'bravo animal animals zoo washington lion',\n",
       " 'animal zoo washington national july',\n",
       " 'green animal insect singapore small spider malaysia bug',\n",
       " 'nature bravo animal wildlife australia',\n",
       " 'bravo animal cat zoo quality mammal lion december',\n",
       " 'nature red macro animal',\n",
       " 'nature green yellow portrait macro animal interestingness beautiful interesting contrast great shot singapore wonderful lizard composition textures favorite',\n",
       " 'animal tree zoo ohio',\n",
       " 'bravo animal quality',\n",
       " 'nature macro animal animals closeup butterfly',\n",
       " 'animals',\n",
       " 'nature art macro animal animals closeup beauty insect cubism',\n",
       " 'animals',\n",
       " 'animals cats pets kitten',\n",
       " 'animals eye eagle',\n",
       " 'bravo macro animals spring texture eye cats pets',\n",
       " 'animals dogs pets',\n",
       " 'animals funny cats pets',\n",
       " 'bravo animals eye cats pets',\n",
       " 'animal animals zoo washington',\n",
       " 'explore animals cute',\n",
       " 'girl animals cute pets',\n",
       " 'animals cute wallpaper',\n",
       " 'macro animal animals eye work fab flash kuwait center',\n",
       " 'animals wow cats lion',\n",
       " 'nature explore animal animals photo zoo photos image picture aquarium austria images fauna snake pictures',\n",
       " 'bravo explore wildlife africa safari',\n",
       " 'nature winter lake island scenery utah',\n",
       " 'animal africa desert museum mammal couple october philadelphia pair horns',\n",
       " 'wildlife park lake vacation birds africa politics trip national hotel elephant valley president big safari april african giraffe',\n",
       " 'portrait animal zoo maryland',\n",
       " 'wildlife deer',\n",
       " 'zoo garden elephant butterfly lizard',\n",
       " 'yellow macro black closeup insect bug antenna',\n",
       " 'blue yellow brazil brasil antenna',\n",
       " 'orange pretty wings butterfly antenna',\n",
       " 'sky night city california tower antenna',\n",
       " 'nature green macro wildlife outdoors leaf insect outside jump close little bug antenna',\n",
       " 'blue explore light police motorcycle antenna',\n",
       " 'sky explore bird square morning gray antenna',\n",
       " 'film heart polaroid antenna',\n",
       " 'red yellow black grey christmas gray antenna',\n",
       " 'antenna',\n",
       " 'white yellow black orange brown insect butterfly wing antenna',\n",
       " 'bird peace antenna',\n",
       " 'macro insect bug antenna',\n",
       " 'architecture old house life roof aerial frame geometry antenna',\n",
       " 'nature water portrait macro black animal europe germany closeup zoo face rain eye insect butterfly drop antenna',\n",
       " 'antlers',\n",
       " 'trees tree wildlife animals forest deer hiking illinois woods game antlers',\n",
       " 'brooklyn antlers',\n",
       " 'nature green macro flower flowers spring arizona natural cactus antlers',\n",
       " 'nature night animal wildlife autumn dark field fall brown outdoors wild deer male mammal woods ohio october antlers',\n",
       " 'white black film photography sepia hands female antlers',\n",
       " 'antlers',\n",
       " 'explore farm fence horns goat antlers',\n",
       " 'green white pink shadow house texas group antlers favorite',\n",
       " 'wildlife deer antlers',\n",
       " 'nature deer scenic antlers',\n",
       " 'fashion hot model brooklyn legs antlers',\n",
       " 'blue architecture river england london abstract apartments geometry',\n",
       " 'urban colors building windows lines singapore apartments',\n",
       " 'blue red green light architecture yellow colors building france design abstract concrete apartments',\n",
       " 'windows apartments',\n",
       " 'blue car apartments',\n",
       " 'buildings windows apartments',\n",
       " 'people art architecture building australia wall evening men sculpture fence metal twilight victoria melbourne apartments',\n",
       " 'architecture london windows office apartments',\n",
       " 'city color urban europe germany colours berlin deutschland north aerial apartments',\n",
       " 'blue red green yellow toy',\n",
       " 'blue clouds storm pennsylvania',\n",
       " 'windows door entrance doorway',\n",
       " 'summer fun friends party virginia',\n",
       " 'summer fun friends party virginia',\n",
       " 'color digital tokyo',\n",
       " 'polaroid',\n",
       " 'gate',\n",
       " 'autumn leaves plants leaf',\n",
       " 'party halloween',\n",
       " 'garden',\n",
       " 'water city japan bridge decay temple canal arch brick',\n",
       " 'bravo castle ruins',\n",
       " 'europe vacation canal wales',\n",
       " 'wales',\n",
       " 'france',\n",
       " 'sky blue architecture spain view perspective stones',\n",
       " 'architecture bridge collage',\n",
       " 'green yellow black bird shadow canal maryland rusty',\n",
       " 'architecture black street urban building old house africa downtown contrast arch egypt',\n",
       " 'city street europe italy italia europa arch',\n",
       " 'water bravo reflection spain brown peace arch',\n",
       " 'morning sunlight arch',\n",
       " 'arizona arch',\n",
       " 'interior arch',\n",
       " 'blue purple arch fabulous',\n",
       " 'sky clouds architecture gold golden thailand arch palace',\n",
       " 'old woman dark vintage texture arch',\n",
       " 'sky clouds bravo light architecture sun germany reflections glass deutschland modern facade',\n",
       " 'architecture building eyes windows',\n",
       " 'blue people architecture reflection lake abstract walking silhouettes structure',\n",
       " 'wild grey arctic wolf',\n",
       " 'nature wildlife birds scotland arctic',\n",
       " 'art girl england photography photo love america home new fashion dance sweet head nice doll style state copyright look',\n",
       " 'nature art tree winter forest monochrome woods wisconsin december',\n",
       " 'art germany square life breathtaking rainbow',\n",
       " 'sky clouds art flowers photo beauty group stars fantasy angel',\n",
       " 'art war politics peace protest religion bush photojournalism flag iraq demonstration march iran israel muslim rally god august',\n",
       " 'art olympus raw',\n",
       " 'art portrait olympus quebec save delete',\n",
       " 'nature art garden hand insect butterfly georgia tropical bug',\n",
       " 'art london graffiti festival paint mural brighton',\n",
       " 'art orange england london graffiti funny britain tunnel british sidewalk artist cave',\n",
       " 'art dark fun museum history work handmade school painting surreal collage madrid atmosphere',\n",
       " 'art macro flower pink excellence gardens',\n",
       " 'art street japan design fashion toy tokyo shoes paper graphic',\n",
       " 'graffiti steel brighton',\n",
       " 'beautiful france cool',\n",
       " 'nature australia vacation forest holiday history natural historic steel',\n",
       " 'war photographers',\n",
       " 'old abandoned history school army britain soldier guns british gun weapons post range structure historical',\n",
       " 'explore england abandoned decay military army rust britain guns steps british weapons range rusty heritage',\n",
       " 'color orange smile hands portraits faces',\n",
       " 'people travel asia colour wall china religion great south buddhist shrine east',\n",
       " 'portrait travel kids',\n",
       " 'athlete',\n",
       " 'athlete',\n",
       " 'park flying fence sport basketball ball athlete',\n",
       " 'people man men sitting rome roma athlete',\n",
       " 'girl field track pole athlete',\n",
       " 'soccer athlete',\n",
       " 'track club athlete',\n",
       " 'athlete',\n",
       " 'smile athlete',\n",
       " 'athlete',\n",
       " 'man men sports male ball boston males athlete',\n",
       " 'girl sand jump track athlete',\n",
       " 'woman sports athlete',\n",
       " 'blue people photography men portraits adults males athlete clothing',\n",
       " 'china sport athlete',\n",
       " 'male college athlete',\n",
       " 'male hand athlete',\n",
       " 'portrait man male athlete',\n",
       " 'sports action tennis athlete',\n",
       " 'boat boats sports sport switzerland race athlete',\n",
       " 'athlete',\n",
       " 'light autumn life leaves gold sunlight sunshine',\n",
       " 'bravo light trees color tree autumn leaves bench',\n",
       " 'green bravo tree autumn colour quality portugal',\n",
       " 'water white beautiful colors river wow autumn leaves scenery waterfall',\n",
       " 'bravo color tree spring autumn silhouette beauty fall',\n",
       " 'nature bravo landscape autumn road fall perspective path fantasy magical',\n",
       " 'autumn life',\n",
       " 'red bravo autumn fall michigan',\n",
       " 'bravo explore tree england autumn leaves quality leaf',\n",
       " 'nature autumn ireland',\n",
       " 'explore interestingness autumn sunrise rock morning america canyon utah',\n",
       " 'landscape art colors france autumn fog dream',\n",
       " 'park washington national glacier paradise lily',\n",
       " 'red flowers rose',\n",
       " 'snow mountains washington highway',\n",
       " 'snow washington highway',\n",
       " 'mountains washington highway',\n",
       " 'france sign skiing',\n",
       " 'winter snow mountains mountain washington storm flying weather flight highway seattle helicopter state',\n",
       " 'alaska glacier',\n",
       " 'nature blue water river park purple wild scenery national waterfall scenic glacier creek',\n",
       " 'snow washington highway',\n",
       " 'england graffiti paint brighton',\n",
       " 'film lake mountain forest hiking copyright',\n",
       " 'girl child baby boy kiss',\n",
       " 'portrait baby boy kids',\n",
       " 'cute baby eyes wings angel adorable',\n",
       " 'flower girl flowers photography photo cute child baby kids kid photos photograph',\n",
       " 'portrait baby christmas',\n",
       " 'portrait color cute baby eyes kid costume lion halloween',\n",
       " 'bravo portrait closeup baby kids cold',\n",
       " 'reflection baby mirror',\n",
       " 'portrait color cute fun child face baby boy eyes',\n",
       " 'bravo black baby africa colours',\n",
       " 'bravo people portrait girl beautiful asia love child baby family peace kid party hand taiwan human',\n",
       " 'bravo cute zoo baby mother',\n",
       " 'cute baby smile adorable',\n",
       " 'girl pink baby',\n",
       " 'nature animal wildlife baby africa eyes quality family hair hands safari look',\n",
       " 'girl baby sigma',\n",
       " 'people portrait pink cute baby china chinese',\n",
       " 'white people black eos child baby boy kids boys little',\n",
       " 'cute baby',\n",
       " 'baby boy playing',\n",
       " 'cute child baby boy little',\n",
       " 'street cool walking backpack',\n",
       " 'travel street asia world work thailand backpack',\n",
       " 'california river hiking waterfall waterfalls backpack',\n",
       " 'art architecture city travel street urban building beauty trip world religion photojournalism craft mosque islam muslim backpack',\n",
       " 'travel food trip backpack',\n",
       " 'school backpack',\n",
       " 'asia world backpack',\n",
       " 'bench backpack',\n",
       " 'old new backpack',\n",
       " 'nature travel mountains music girls sports smile religion outdoor natural high thailand walking hiking houses freedom islam muslim adventure god youth tourist entertainment holidays free',\n",
       " 'america trip south holidays',\n",
       " 'city travel italy bridge view rome capital angel',\n",
       " 'people road',\n",
       " 'blue red green travel building window trip ireland houses shops',\n",
       " 'nature blue sea travel girl ocean love boy trip natural thailand swimming mar couple',\n",
       " 'red travel orange asia plane trip thailand adventure',\n",
       " 'travel asia temple',\n",
       " 'australia girls public wet',\n",
       " 'travel asia forest hiking',\n",
       " 'city building asia philippines',\n",
       " 'people night travel asia sign thailand neon',\n",
       " 'italy australia italia sydney nsw',\n",
       " 'balcony finland',\n",
       " 'vintage balcony finland',\n",
       " 'photo funny christmas freedom balcony jail prison',\n",
       " 'white macro flowers pink excellence balcony',\n",
       " 'balcony finland',\n",
       " 'abandoned window spain wall door ruins balcony',\n",
       " 'light sun sunglasses balcony',\n",
       " 'window spain balcony pottery',\n",
       " 'architecture travel california buildings america museum tourism balcony copyright',\n",
       " 'italy italia village castle balcony ancient cubism',\n",
       " 'people street house balcony',\n",
       " 'red green bravo landscape portrait girl summer spring colour view girls bright hills countryside dream surreal bench sitting balloons',\n",
       " 'nature red field texture balloons',\n",
       " 'orange chicago balloons',\n",
       " 'brasil balloons',\n",
       " 'balloons',\n",
       " 'sunset beach sand fun colours evening happy party air ireland colourful playing balloons cake',\n",
       " 'france eos paris girls sigma chinese balloons',\n",
       " 'street film bank finland',\n",
       " 'red green art tree germany forest bank',\n",
       " 'illustration bank',\n",
       " 'explore autumn smile bank istanbul',\n",
       " 'boat church religion temple illinois prayer buddha buddhist barge',\n",
       " 'boats barge',\n",
       " 'town streets long alley barge',\n",
       " 'blue bravo white portrait child ice eyes cold eye bright young glow barn look',\n",
       " 'nature red green art dark house field surreal barn',\n",
       " 'fog morning farm barn',\n",
       " 'farm barn virginia',\n",
       " 'red bravo building australia door breathtaking victoria melbourne',\n",
       " 'blue color black tree building germany abandoned autumn dark window house military room time style',\n",
       " 'abandoned military poland',\n",
       " 'abandoned army',\n",
       " 'blue color black tree building germany abandoned autumn dark window house military room time style',\n",
       " 'old window berlin raw',\n",
       " 'europe italy italia room',\n",
       " 'sports baseball',\n",
       " 'photography germany washington new photographer sports happy flag camera hat american york baseball april uniform lens stadium fan',\n",
       " 'field baseball boston',\n",
       " 'baseball stadium lonely',\n",
       " 'fashion sports big baseball clothing',\n",
       " 'summer new history york baseball',\n",
       " 'film baseball',\n",
       " 'baseball',\n",
       " 'sports baseball boston',\n",
       " 'uniform basket',\n",
       " 'blue bravo white portrait girl pink cute fun boy kids flash basket',\n",
       " 'basket',\n",
       " 'red cute clothes kitten basket',\n",
       " 'green basket',\n",
       " 'portrait california child basket',\n",
       " 'basket',\n",
       " 'cute love pet rabbit bunny adorable basket waiting',\n",
       " 'sky white snow boy interesting eye chicago outside sunny hands amazing jump shot cloudy ground basketball ball little basket look afternoon',\n",
       " 'tree kids girls basket',\n",
       " 'girl woman vintage sports basketball',\n",
       " 'sky man action jump basketball',\n",
       " 'street child kids sport game basketball',\n",
       " 'basketball',\n",
       " 'portrait basketball',\n",
       " 'florida basketball',\n",
       " 'portrait sports basketball',\n",
       " 'basketball african',\n",
       " 'red portrait gold golden self portraits sunglasses norway phone bathroom',\n",
       " 'colors man digital boy bathroom',\n",
       " 'blue water orange bird wow funny fruit bathroom',\n",
       " 'animal animals pet pets bathroom',\n",
       " 'bathroom',\n",
       " 'beauty bathroom',\n",
       " 'funny bathroom',\n",
       " 'fun funny cats pets bathroom',\n",
       " 'bravo old abandoned window door chair bathroom',\n",
       " 'red bathroom',\n",
       " 'explore people portrait girl germany eyes bathroom look',\n",
       " 'portrait reflection film self mirror auto bathroom',\n",
       " 'bathroom',\n",
       " 'water red explore light macro interestingness photography wet jump flash creative iran photographers style drops bathroom drop',\n",
       " 'book bathroom',\n",
       " 'white woman mirror uniform bathroom',\n",
       " 'yellow girl self bathroom',\n",
       " 'girl colors woman cute kid bright power clothes lady bathroom',\n",
       " 'water girl death bathroom',\n",
       " 'water japan tokyo rebel bathroom',\n",
       " 'bathroom writing',\n",
       " 'portrait color photo digital self rebel bathroom',\n",
       " 'portrait reflection face reflections mirror bathroom',\n",
       " 'fun bathroom',\n",
       " 'cute kitten bathroom',\n",
       " 'explore ship texas museum breathtaking gun',\n",
       " 'people summer ship music family july band',\n",
       " 'california interestingness ship desert storm aircraft interesting museum public navy',\n",
       " 'reflection england boat window ship windows',\n",
       " 'girl woman',\n",
       " 'macro closeup toy toys',\n",
       " 'architecture park bay',\n",
       " 'portrait interestingness old man china market bazaar',\n",
       " 'people war kids men army boys soldier islam muslim bazaar',\n",
       " 'travel bazaar',\n",
       " 'china food muslim bazaar',\n",
       " 'food bazaar',\n",
       " 'pakistan bazaar',\n",
       " 'india market bazaar',\n",
       " 'motion iran motorcycle bazaar',\n",
       " 'explore interestingness old air market greece best lady bazaar',\n",
       " 'people food market pakistan shopping bazaar',\n",
       " 'market pakistan bazaar',\n",
       " 'india islam muslim bazaar',\n",
       " 'greece mirror bazaar',\n",
       " 'turkey bazaar istanbul',\n",
       " 'fashion bazaar',\n",
       " 'people colour india boats market fishing bazaar',\n",
       " 'portrait street iran bazaar',\n",
       " 'light sun eyes dress bazaar',\n",
       " 'people portrait photography greece antique bazaar',\n",
       " 'iran bazaar',\n",
       " 'light architecture iran bazaar',\n",
       " 'blue beach summer pink germany food ice hot singapore stones brighton',\n",
       " 'beach australia rocks stones pebbles',\n",
       " 'bear friend',\n",
       " 'white bear polar',\n",
       " 'white people portrait black japan kids sepia kid bear tokyo',\n",
       " 'bear',\n",
       " 'man bear',\n",
       " 'green bear toy toys figures halloween',\n",
       " 'blue portrait eyes religion grey fighter beards',\n",
       " 'love bears beards',\n",
       " 'cats beards',\n",
       " 'world beards',\n",
       " 'silver bathroom beards',\n",
       " 'portraits belgium beards',\n",
       " 'seattle beards',\n",
       " 'man men world hair beards',\n",
       " 'men sports pennsylvania philadelphia beards',\n",
       " 'portrait old india eyes beards',\n",
       " 'people men portraits adults males beards',\n",
       " 'lights rock metal brooklyn concert band bar beards',\n",
       " 'eyes beards',\n",
       " 'night beards poland',\n",
       " 'beards',\n",
       " 'bear cubs bears beards',\n",
       " 'portrait faces beards',\n",
       " 'beards',\n",
       " 'england happy beards brighton',\n",
       " 'rock brooklyn concert band beards',\n",
       " 'england beards brighton',\n",
       " 'music live missouri beards',\n",
       " 'love bears beards',\n",
       " 'outdoors hats beards',\n",
       " 'portrait faces beards',\n",
       " 'surreal beards brighton',\n",
       " 'stripes beards',\n",
       " 'england parade beards brighton',\n",
       " 'beards',\n",
       " 'beards',\n",
       " 'hair surreal parade beards brighton',\n",
       " 'beards',\n",
       " 'man men world hair beards',\n",
       " 'california interestingness interesting cool public poverty god',\n",
       " 'portrait color road',\n",
       " 'portrait man power',\n",
       " 'people france paris girls poverty metro',\n",
       " 'portrait italy rome',\n",
       " 'shadow texture brown hat',\n",
       " 'water woman italy hands hope rome fountain',\n",
       " 'people portrait travel man india indian',\n",
       " 'portrait italy man rome',\n",
       " 'people portrait black woman face hand',\n",
       " 'white black street winter old film wall vintage cold stone camera antique december',\n",
       " 'italy rome roma',\n",
       " 'china',\n",
       " 'china',\n",
       " 'social',\n",
       " 'park cute asia face boy asian vietnam plastic',\n",
       " 'people portrait old',\n",
       " 'manhattan',\n",
       " 'woman india child market mother',\n",
       " 'people street hand person rome shot roma',\n",
       " 'old kids smile philippines poverty sidewalk sad',\n",
       " 'trip motorcycle',\n",
       " 'people street',\n",
       " 'india',\n",
       " 'bravo yellow city street urban beautiful house wall wood quality windows stone museum portugal bench traditional',\n",
       " 'green tree grass australia brown sydney bench save delete',\n",
       " 'bravo snow bench textures',\n",
       " 'art orange manhattan perspective bench',\n",
       " 'street italy italia bicycle bench umbrella rome roma',\n",
       " 'yellow macro sun autumn fall leaves new leaf bench',\n",
       " 'portrait italy man sepia breathtaking hat bench',\n",
       " 'trees winter mountain ice leaves storm hiking rebel bench ground frozen tundra',\n",
       " 'blue garden plants bench',\n",
       " 'france wow grass shadow dawn bench',\n",
       " 'interestingness animals cute cats pets kitten feline',\n",
       " 'portrait colorful child smile december',\n",
       " 'art photo rural action village motion blur craft earth pottery',\n",
       " 'light smoke wedding',\n",
       " 'asia india indian asian',\n",
       " 'portrait street smile candid joy polar happiness',\n",
       " 'brown',\n",
       " 'light portrait color shadow child smile',\n",
       " 'war airplane military aircraft aviation north american fighter',\n",
       " 'blue green bravo sea trees tree orange colors summer grass sunrise eos purple holiday bike bicycle kuwait',\n",
       " 'red street girl downtown tokyo bicycle',\n",
       " 'horse bicycle nederland',\n",
       " 'light reflection film rain sepia mist bicycle',\n",
       " 'hat bicycle',\n",
       " 'explore yellow travel asia japan car vacation gold holiday trip tokyo bike bicycle auto automobile motorcycle',\n",
       " 'silhouette self bike bicycle fountain',\n",
       " 'film spring manhattan bike bicycle brooklyn',\n",
       " 'people street urban italy bicycle italians',\n",
       " 'street colours paint sidewalk',\n",
       " 'brazil brasil',\n",
       " 'city urban canada decay toronto sculpture rust industrial underground club bar',\n",
       " 'winter snow toronto sidewalk',\n",
       " 'asia taiwan',\n",
       " 'downtown manhattan wild work village bike bicycle shop style',\n",
       " 'city york',\n",
       " 'eos shadows gate',\n",
       " 'street urban breathtaking sweden',\n",
       " 'europe finland',\n",
       " 'fun',\n",
       " 'people girl child girls netherlands bicycle',\n",
       " 'pink australia fun gold painting nsw',\n",
       " 'blue red green bravo white macro bird colour beauty texture birds abstract colours purple bright rainbow pattern soft',\n",
       " 'birds',\n",
       " 'people portrait california black street beautiful man closeup face kids eyes male eye photojournalism young person poverty social youth human',\n",
       " 'water bravo white color reflection black orange photography photo fun reflections quality action photos picture wet fruit photograph creative',\n",
       " 'white black man boy male room stripes',\n",
       " 'white portrait black woman sigma',\n",
       " 'white people portrait black italy face italia rome roma',\n",
       " 'black public',\n",
       " 'blue portrait black girl dark eye bright hand',\n",
       " 'white yellow black snow manhattan stairs',\n",
       " 'blue red black orange glass flash',\n",
       " 'white people portrait california black street old man closeup face eyes male eye day photojournalism hair person head poverty social human',\n",
       " 'white night city california black woman man couple kiss',\n",
       " 'bravo white people portrait california black street urban man closeup face eyes male eye day photojournalism person poverty social sad human',\n",
       " 'california black window apple office public big dream display dead shopping graphic mall',\n",
       " 'red macro flowers closeup excellence rose petals heart close center blooms',\n",
       " 'flowers spring garden rose blossoms blooms',\n",
       " 'flowers spring garden rose blossoms blooms',\n",
       " 'nature yellow macro orange flowers garden blossoms blooms',\n",
       " 'macro flower orange australia fab heart victoria blossoms center windy blooms gardens cake',\n",
       " 'macro flower flowers petals blossoms blooms',\n",
       " 'yellow macro flowers pink australia gold heart melbourne blossoms center blooms gardens',\n",
       " 'nature color flowers blooms',\n",
       " 'flowers blooms',\n",
       " 'flowers fabulous blooms',\n",
       " 'blooms',\n",
       " 'nature macro flowers garden blossoms blooms',\n",
       " 'red macro orange flowers beautiful digital closeup colorful outdoors outside amazing june close lighting missouri lily blooms stunning',\n",
       " 'art flower flowers garden blossoms blooms',\n",
       " 'light yellow macro flower winter flowers colorful purple blooms',\n",
       " 'explore macro color flowers spring blooms',\n",
       " 'art flower photos fab awesome blossoms',\n",
       " 'flower pink washington excellence blossoms',\n",
       " 'nature flower orange pink purple awesome blossoms shell',\n",
       " 'flower wow photographer awesome perfect blossoms',\n",
       " 'awesome blossoms',\n",
       " 'festival blossoms',\n",
       " 'macro flower pink garden pretty rose ohio blossoms',\n",
       " 'white macro flowers pink spring colours blossoms',\n",
       " 'flower pink garden blossoms',\n",
       " 'nature red light art macro color reflection flower flowers colors love colour reflections life colours breathtaking blossoms magic',\n",
       " 'explore boats portugal',\n",
       " 'explore people portrait color interestingness beautiful cute asia japan digital beauty face eyes sepia cool girls pretty tokyo hair japanese costume asian style',\n",
       " 'explore people portrait color interestingness cute asia japan digital dark face cold cool men fashion tokyo high contrast hair young japanese costume candid asian style clothing gothic',\n",
       " 'blue people portrait color asia japan digital dark face cold cool men fashion tokyo contrast japanese costume asian style gothic',\n",
       " 'woman digital',\n",
       " 'hand',\n",
       " 'art closeup hair',\n",
       " 'work office hands glasses minnesota',\n",
       " 'blue female legs',\n",
       " 'photographer friends jet kiss',\n",
       " 'blue white travel airplane plane jet stream',\n",
       " 'aircraft',\n",
       " 'navy seattle',\n",
       " 'football booby',\n",
       " 'wildlife bird booby',\n",
       " 'road day town football palace booby kit',\n",
       " 'booby',\n",
       " 'booby',\n",
       " 'metal booby',\n",
       " 'blue red white black girl beauty view cool natural hot model north hair big indian nice gorgeous lady booby',\n",
       " 'wildlife booby',\n",
       " 'travel island booby',\n",
       " 'blue baby booby',\n",
       " 'bird booby',\n",
       " 'bird booby',\n",
       " 'girl summer boy woods joy happiness',\n",
       " 'fun child boy funny july',\n",
       " 'green child boy',\n",
       " 'sand child boy kids evening outside',\n",
       " 'abandoned child boy kids brazil brasil kid christmas streets boys hope poverty social',\n",
       " 'island boy play ball dust save fan',\n",
       " 'people portrait girl boy eyes',\n",
       " 'bravo abandoned child boy kids brazil brasil kid streets boys hope poverty social',\n",
       " 'light interestingness dark child boy kids brazil peace brasil kid boys dream hope poverty social peaceful',\n",
       " 'black child boy kids politics brazil brasil kid culture president boys hope poverty election social politicians youth',\n",
       " 'people photography digital child boy brazil brasil festival dance documentary',\n",
       " 'abandoned love child boy kids brazil brasil kid streets boys hope poverty social',\n",
       " 'white black child boy kid ball sad little',\n",
       " 'child boy kid young',\n",
       " 'boy apple',\n",
       " 'people girl old child boy family fashion history photographer christmas young female studio photograph antique clothes photographers',\n",
       " 'explore people portrait beach autumn fun boy happy outside ireland walking shell',\n",
       " 'girl child boy interesting argentina',\n",
       " 'war boy soldier monument',\n",
       " 'girl baby boy life sweet',\n",
       " 'blue green white people art portrait trees tree beautiful summer photo man cute love garden vacation face baby boy life eyes view family men smile kid happy male eye day hair image young picture person best time dream clothes kiss little nose human',\n",
       " 'white pink decoration branch',\n",
       " 'macro color flower flowers beautiful closeup eos branch',\n",
       " 'explore tree square branch',\n",
       " 'nature red tree cute jump squirrel branch',\n",
       " 'yellow tree orange autumn australia fall leaves leaf blur victoria branch soft',\n",
       " 'green tree leaves flying pretty wings leaf butterfly branch',\n",
       " 'bravo reflection canada river friends wild quebec branch',\n",
       " 'nature explore white macro flower flowers pink japan brown sign heart branch frame',\n",
       " 'water rain fog cold mist grey wet gray branch pennsylvania drops',\n",
       " 'water macro winter digital ice rebel frozen branch drop',\n",
       " 'tree design leaves toys branch trunk soft',\n",
       " 'woman man love lights manhattan smile wedding bride kiss groom',\n",
       " 'macro flower pink wedding rose bride georgia',\n",
       " 'reflection washington bride seattle',\n",
       " 'downtown bride fountain',\n",
       " 'photography wedding photojournalism bride',\n",
       " 'white cute cool wedding dress bride shoes',\n",
       " 'blue red green girl dark bride head',\n",
       " 'wedding bride',\n",
       " 'bravo night reflection river bridge',\n",
       " 'bravo winter bridge oregon portland',\n",
       " 'nature green trees color tree england park digital colour bridge brown wood bush colourful bridges',\n",
       " 'bridge desert arizona canyon bridges',\n",
       " 'bravo bridge fog sepia bridges',\n",
       " 'architecture england italy germany france london paris scotland history chicago switzerland illinois rome turkey egypt belgium boston pennsylvania massachusetts austria bridges philadelphia',\n",
       " 'explore ohio bridges',\n",
       " 'people canada car ontario truck auto display shops automobile mall',\n",
       " 'buddha buddhism taiwan',\n",
       " 'flowers asia rock stone purple temple chinese ancient buddha buddhist buddhism',\n",
       " 'night river world buddha',\n",
       " 'child ball burma buddha',\n",
       " 'blue clouds rain indonesia buddha',\n",
       " 'wow eyes burma monastery buddhist buddhism',\n",
       " 'people travel religion asian monks buddhist buddhism',\n",
       " 'travel film asia temple buddhist',\n",
       " 'temple buddha buddhist buddhism',\n",
       " 'buddhist',\n",
       " 'outdoors adventure buddhist',\n",
       " 'reflection lake festival japanese memorial boston buddhist',\n",
       " 'travel train thailand monks buddhist buddhism',\n",
       " 'portrait india temple american buddhist buddhism',\n",
       " 'white city building football flags university club friend',\n",
       " 'building abandoned house decay singapore ruin',\n",
       " 'architecture building wow colorful mosque singapore',\n",
       " 'bravo california building abstract reflections glass office',\n",
       " 'people canada building woman photo man vancouver candid couple',\n",
       " 'landscape trees spain hill stones',\n",
       " 'france sport',\n",
       " 'chicago basketball',\n",
       " 'art animal animals spain power shot',\n",
       " 'sand spain',\n",
       " 'travel spain july',\n",
       " 'cute',\n",
       " 'spain path running july',\n",
       " 'people travel spain path tour july track',\n",
       " 'night spain',\n",
       " 'red spain brazil barcelona soccer stadium',\n",
       " 'park dogs',\n",
       " 'night london motion blur speed bus',\n",
       " 'night bus',\n",
       " 'red black pink london window face bus line',\n",
       " 'pink singapore bus',\n",
       " 'snow europe england london bus',\n",
       " 'paris party bus',\n",
       " 'white black film olympus countryside bus lens',\n",
       " 'shadows manhattan sunlight bus',\n",
       " 'france paris photojournalism parade bus',\n",
       " 'blue beach reflection black coast florida mexico paint auto bus county',\n",
       " 'old man bus',\n",
       " 'sky blue yellow trees color reflection orange spring lights window door school bus',\n",
       " 'landscape city urban pink birds buildings plane streets mosque shoes bus',\n",
       " 'green girl love boy morning new outside sunny bus lovely',\n",
       " 'nature wildlife africa bush lion safari italians',\n",
       " 'tree bird dark africa bush cloudy',\n",
       " 'people bush demonstration roma',\n",
       " 'reflection window war funny bush iraq president free',\n",
       " 'nature macro flower pink closeup outdoors plant bush',\n",
       " 'sign funny bush president',\n",
       " 'wild bush lizard',\n",
       " 'nature red green bravo landscape tree old house vintage beauty forest new sigma bush roof line rusty',\n",
       " 'tree flower flowers pink digital bush camera club',\n",
       " 'light people portrait grass men outdoors sunshine adults males',\n",
       " 'people portrait men outdoors adults males suits clothing',\n",
       " 'people men outdoors adults males suits clothing',\n",
       " 'people men office room adults meeting males',\n",
       " 'green people city downtown manhattan walking shade',\n",
       " 'people portrait fun life cool men fashion outdoors work modern adults males suits youth clothing',\n",
       " 'people photography men office portraits room adults males telephones',\n",
       " 'red people office pattern room sitting adults clothing',\n",
       " 'people portrait travel beauty airport restaurant adults cafe coffee waiting',\n",
       " 'people art architecture photography man men person adults males business',\n",
       " 'woman industry adults phone telephones',\n",
       " 'photography men adults males clothing',\n",
       " 'people adults',\n",
       " 'people photography men adults males',\n",
       " 'people photography morning men adults coffee males furniture',\n",
       " 'people business',\n",
       " 'people office room adults',\n",
       " 'white people photography window men office portraits room adults gray males furniture clothing',\n",
       " 'people fun men adults males bar',\n",
       " 'girl woman love holiday friends party young couple meeting standing youth',\n",
       " 'color man colour men male work image photograph ladder business',\n",
       " 'people europe france men group french adults males transportation',\n",
       " 'nature bravo macro interestingness chicago insect butterfly',\n",
       " 'insect butterfly',\n",
       " 'green macro flowers wings insect butterfly petals maryland gardens',\n",
       " 'nature interestingness chicago fab butterfly',\n",
       " 'white flower wedding butterfly cake',\n",
       " 'nature yellow macro flower butterfly',\n",
       " 'nature bravo macro insect butterfly',\n",
       " 'nature blue green bravo explore black butterfly georgia',\n",
       " 'bravo orange beautiful summer quality butterfly',\n",
       " 'green bravo explore yellow black quality butterfly georgia',\n",
       " 'bravo macro butterfly',\n",
       " 'green butterfly cake',\n",
       " 'nature color animal colors animals colorful brazil brasil insect butterfly close',\n",
       " 'bravo animal breathtaking insect butterfly heart perfect',\n",
       " 'blue macro insect butterfly maryland gardens',\n",
       " 'butterfly wing',\n",
       " 'breathtaking butterfly',\n",
       " 'nature green bravo brown leaf butterfly',\n",
       " 'bravo butterfly',\n",
       " 'vivid butterfly',\n",
       " 'nature animal life insect butterfly',\n",
       " 'blue canada butterfly alberta small',\n",
       " 'nature wow mountain fog hot hiking cabin',\n",
       " 'abandoned decay sepia rural michigan fabulous cabin',\n",
       " 'lake party hot dancing cabin',\n",
       " 'orange france paris aircraft plane aviation interior cabin',\n",
       " 'mountains window view polaroid cabin',\n",
       " 'cabin',\n",
       " 'dark sydney cabin',\n",
       " 'cabin',\n",
       " 'lights square perspective barcelona frame geometry cables',\n",
       " 'texture grey gray cables',\n",
       " 'architecture building wow autumn fall abstract museum wings contrast sunny modern wisconsin composition dynamic cables',\n",
       " 'green handmade cables',\n",
       " 'sunset street canada film silhouette vancouver bike cables',\n",
       " 'blue water beach ocean olympus bay eye cables',\n",
       " 'work cables',\n",
       " 'cables',\n",
       " 'sky sun cables',\n",
       " 'nature macro flowers garden excellence cactus turkey',\n",
       " 'arizona cactus',\n",
       " 'nature light flower interestingness flowers beautiful pink amazing cactus glow perfect fantastic wonder',\n",
       " 'insect cactus flash',\n",
       " 'life plants photos cactus brooklyn fabulous',\n",
       " 'red petals cactus',\n",
       " 'nature light macro color animal flower colors animals love spain life insect cactus spider',\n",
       " 'nature sky clouds night silhouette rain desert storm purple arizona cactus',\n",
       " 'macro california flower china cactus asian chinese',\n",
       " 'nature sky green landscape tree flower photography photo autumn mountain colour garden brown life country air hot leaf cactus walk shot nice cafe chile lens',\n",
       " 'cactus magical',\n",
       " 'sunlight cactus glow wallpaper',\n",
       " 'macro summer colorful flora cactus',\n",
       " 'nature flowers friends cactus',\n",
       " 'nature macro flowers garden cactus turkey',\n",
       " 'nature green orange flowers cactus iran',\n",
       " 'sunset beach cafe',\n",
       " 'explore japan tokyo cafe cake',\n",
       " 'nature sky green landscape tree flower winter photography photo mountain colour brown life country sigma air hot leaf walk shot nice cafe chile lens',\n",
       " 'red green explore macro interestingness pink cafe',\n",
       " 'color colour food philippines sweet colourful cafe',\n",
       " 'blue street flowers old purple star bike cafe',\n",
       " 'cafe',\n",
       " 'macro colors pink love fun colorful food colours friends happy bright vivid rose colourful cafe coffee joy happiness',\n",
       " 'paris cafe',\n",
       " 'travel belgium polaroid cafe',\n",
       " 'snow star',\n",
       " 'white black flower flowers japan',\n",
       " 'nature art animal wildlife elephant drawing portfolio',\n",
       " 'nature wildlife animals',\n",
       " 'red cute brown scotland eye horns',\n",
       " 'farm',\n",
       " 'wildlife baby africa elephant elephants',\n",
       " 'nature animal canada wildlife zoo elephant asian alberta',\n",
       " 'light girl new barn',\n",
       " 'love zoo baby giraffe',\n",
       " 'decay rural cow monochrome barn',\n",
       " 'desert shadows wallpaper',\n",
       " 'animal sand desert',\n",
       " 'desert',\n",
       " 'bravo sand china desert',\n",
       " 'sunset desert shadows dunes',\n",
       " 'truck',\n",
       " 'egypt',\n",
       " 'portrait brazil hot self camera mirror',\n",
       " 'blue bravo portrait city trees winter snow old park film lake man dog reflections photographer camera brooklyn woods',\n",
       " 'stairs camera',\n",
       " 'nature yellow flower summer camera writing pictures',\n",
       " 'nature portrait macro digital camera insect photograph close',\n",
       " 'explore interestingness eos interesting camera',\n",
       " 'nature macro color flower digital colour africa excellence camera photograph close',\n",
       " 'explore digital desert quality cool camera raw',\n",
       " 'portrait beautiful camera pakistan',\n",
       " 'portrait texture camera hat big costume flash',\n",
       " 'girl photography brasil eye camera cubism',\n",
       " 'explore interestingness vintage square toy camera',\n",
       " 'yellow macro black canada closeup eos camera blur rebel',\n",
       " 'sky flower france camera lens giant nevada',\n",
       " 'light macro color lights closeup spain texture reflections shadows home new golden work bright camera paper news line magical copyright look',\n",
       " 'zoo new camera butterfly',\n",
       " 'landscape trees england reflections canal',\n",
       " 'cute asia bridge boy thailand swimming canal diving jump asian swim dive',\n",
       " 'trees snow england canal',\n",
       " 'italy canal',\n",
       " 'washington canoe',\n",
       " 'water sunset river italia canoe',\n",
       " 'california river park national waterfall canyon',\n",
       " 'nature trees forest arizona hiking canyon creek',\n",
       " 'travel canyon land utah',\n",
       " 'river photography desert arizona colorado canyon',\n",
       " 'california orange canyon county',\n",
       " 'film camera canyon',\n",
       " 'water landscape arizona scenic canyon',\n",
       " 'red macro brasil capital',\n",
       " 'film toy day camera mexico dead capital lens plastic',\n",
       " 'white black old france tower tour capital ancient',\n",
       " 'roof capital',\n",
       " 'black paper capital',\n",
       " 'color photo spain pool mirror stream photograph capital',\n",
       " 'art italia paris america museum paint argentina barcelona capital roma madrid',\n",
       " 'street scotland capital',\n",
       " 'capital',\n",
       " 'london music photos capital live',\n",
       " 'car',\n",
       " 'green explore california interestingness car vintage interesting cool public classic',\n",
       " 'light girl old car shadows train',\n",
       " 'california black old car vintage cool public classic antique',\n",
       " 'england old car',\n",
       " 'white reflection brown deer mammal wallpaper caribou',\n",
       " 'zoo brown caribou horns nose',\n",
       " 'music toronto concert caribou',\n",
       " 'nature animal deer wolf caribou',\n",
       " 'nature animal deer wolf caribou',\n",
       " 'sky colorado caribou',\n",
       " 'animal wild alaska young caribou',\n",
       " 'city concert caribou',\n",
       " 'car caribou',\n",
       " 'spring face brown sunlight alaska april caribou horns nose',\n",
       " 'caribou',\n",
       " 'caribou',\n",
       " 'caribou',\n",
       " 'live caribou',\n",
       " 'blue water landscape white yellow animal flower girl beautiful pink woman bird spring zoo garden colorful fish stone purple wild outdoor plant bright statue sunny japanese pond waterfall asian lion tropical display minnesota penguin caribou giraffe',\n",
       " 'caribou',\n",
       " 'nature animal deer wolf caribou',\n",
       " 'winter eyes awesome minnesota caribou',\n",
       " 'caribou',\n",
       " 'alaska caribou',\n",
       " 'travel alaska bears tundra caribou',\n",
       " 'friends iran small carpet',\n",
       " 'red reflection digital window silhouette wall texas lines contrast university carpet austin',\n",
       " 'light color space carpet',\n",
       " 'blue red light night portrait city street urban bench singapore carpet',\n",
       " 'light windows room carpet',\n",
       " 'cute pet sweet pets rabbit bunny adorable carpet',\n",
       " 'green trees spring autumn leaves carpet',\n",
       " 'nature water macro orange rain glass drops drop carpet',\n",
       " 'home library carpet',\n",
       " 'green lamp carpet',\n",
       " 'red australia music sydney carpet',\n",
       " 'blue bridge hand hair blur carpet',\n",
       " 'blue portrait africa carpet',\n",
       " 'white black girl digital wall fashion door grey female chile shooting carpet',\n",
       " 'street vintage sign classic carpet',\n",
       " 'light shadows lines carpet lonely',\n",
       " 'girl glass door shoes carpet',\n",
       " 'explore animal girl digital eos face eyes pet netherlands camera female rabbit bunny nose carpet',\n",
       " 'red rock new artist riot business carpet',\n",
       " 'red travel reflection museum cars self toys mirror',\n",
       " 'interestingness road new train cars brooklyn subway tracks york underground track transportation',\n",
       " 'design cars illustration modern automobile',\n",
       " 'people america texas cars',\n",
       " 'nature red abandoned war cars rust oil environment earth',\n",
       " 'bravo cars',\n",
       " 'clouds sunset light bridge fog cars twilight stream',\n",
       " 'night urban lights cars traffic',\n",
       " 'explore england car road cars motion blur highway tunnel movement',\n",
       " 'blue red yellow color colors car cars toy bright toys',\n",
       " 'trees china wood peaceful',\n",
       " 'architecture window stone',\n",
       " 'beautiful france cathedral fantastic',\n",
       " 'temple pictures',\n",
       " 'india temple',\n",
       " 'holiday florida april',\n",
       " 'winter alaska',\n",
       " 'car',\n",
       " 'urban train chicago',\n",
       " 'film cars',\n",
       " 'chicago',\n",
       " 'film dog airplane action dance fly dancing movie',\n",
       " 'grass car outside toys death doll',\n",
       " 'photo',\n",
       " 'cars racing classic',\n",
       " 'car cars racing',\n",
       " 'car cars racing classic',\n",
       " 'model racing auto',\n",
       " 'car racing',\n",
       " ...]"
      ]
     },
     "execution_count": 71,
     "metadata": {},
     "output_type": "execute_result"
    }
   ],
   "source": [
    "Test_tags_feature"
   ]
  },
  {
   "cell_type": "code",
   "execution_count": null,
   "metadata": {},
   "outputs": [],
   "source": []
  },
  {
   "cell_type": "markdown",
   "metadata": {},
   "source": [
    "### CH 64"
   ]
  },
  {
   "cell_type": "code",
   "execution_count": 72,
   "metadata": {},
   "outputs": [],
   "source": [
    "CH_P = '/Users/zhangxiao/Desktop/多模态数据集/NUS-wide/Low_Level_Features/Normalized_CH.dat'\n",
    "ch64 = pd.read_csv(CH_P, sep = ' ', header=None)"
   ]
  },
  {
   "cell_type": "code",
   "execution_count": 73,
   "metadata": {},
   "outputs": [],
   "source": [
    "# ch64"
   ]
  },
  {
   "cell_type": "code",
   "execution_count": 74,
   "metadata": {},
   "outputs": [],
   "source": [
    "ch64 = ch64.drop(columns=64) "
   ]
  },
  {
   "cell_type": "code",
   "execution_count": 75,
   "metadata": {},
   "outputs": [],
   "source": [
    "# ch64"
   ]
  },
  {
   "cell_type": "code",
   "execution_count": 76,
   "metadata": {},
   "outputs": [],
   "source": [
    "Train_ch64 = {}\n",
    "for index, row in ch64.iterrows():\n",
    "#     print(type(row))\n",
    "#     print(type(index))\n",
    "    if index in Train_label:\n",
    "        line = np.array(row)\n",
    "        Train_ch64[index] = np.array(row, dtype=float)"
   ]
  },
  {
   "cell_type": "code",
   "execution_count": 77,
   "metadata": {},
   "outputs": [],
   "source": [
    "# print(Train_ch64[0])"
   ]
  },
  {
   "cell_type": "code",
   "execution_count": 78,
   "metadata": {
    "scrolled": true
   },
   "outputs": [
    {
     "data": {
      "text/plain": [
       "23074"
      ]
     },
     "execution_count": 78,
     "metadata": {},
     "output_type": "execute_result"
    }
   ],
   "source": [
    "len(Train_ch64)"
   ]
  },
  {
   "cell_type": "code",
   "execution_count": 79,
   "metadata": {},
   "outputs": [],
   "source": [
    "Test_ch64 = {}\n",
    "for index, row in ch64.iterrows():\n",
    "#     print(type(row))\n",
    "#     print(type(index))\n",
    "    if index in Test_label:\n",
    "        line = np.array(row)\n",
    "        Test_ch64[index] = np.array(row, dtype=float)"
   ]
  },
  {
   "cell_type": "code",
   "execution_count": null,
   "metadata": {},
   "outputs": [],
   "source": []
  },
  {
   "cell_type": "code",
   "execution_count": null,
   "metadata": {},
   "outputs": [],
   "source": []
  },
  {
   "cell_type": "markdown",
   "metadata": {},
   "source": [
    "###  Tags CH64 Label拼接"
   ]
  },
  {
   "cell_type": "code",
   "execution_count": 80,
   "metadata": {},
   "outputs": [],
   "source": [
    "# #Tags TF-IDF向量\n",
    "# print(Train_tags_final.toarray())\n",
    "# CH64\n",
    "# print(Train_ch64)\n",
    "# #Label\n",
    "# print(Train_label_sam)"
   ]
  },
  {
   "cell_type": "code",
   "execution_count": 81,
   "metadata": {},
   "outputs": [],
   "source": [
    "Train_CH64 = np.zeros((len(Train_ch64), 64))\n",
    "i_1 = 0\n",
    "for value in Train_ch64.values():\n",
    "    Train_CH64[i_1] = value\n",
    "    i_1 += 1\n",
    "\n",
    "Test_CH64 = np.zeros((len(Test_ch64), 64))\n",
    "i_2 = 0\n",
    "for value in Test_ch64.values():\n",
    "    Test_CH64[i_2] = value\n",
    "    i_2 += 1"
   ]
  },
  {
   "cell_type": "code",
   "execution_count": 82,
   "metadata": {},
   "outputs": [],
   "source": [
    "# print(Train_CH64[0])"
   ]
  },
  {
   "cell_type": "code",
   "execution_count": 83,
   "metadata": {},
   "outputs": [],
   "source": [
    "for line in Train_label:\n",
    "    Train_label_sam[line] = labels[line] \n",
    "Train_Labels = np.zeros((len(Train_label_sam),81))\n",
    "j_1 = 0\n",
    "for value in Train_label_sam.values():\n",
    "    Train_Labels[j_1] = value\n",
    "    j_1+=1\n",
    "\n",
    "for line in Test_label:\n",
    "    Test_label_sam[line] = labels[line] \n",
    "Test_Labels = np.zeros((len(Test_label_sam),81))\n",
    "j_2 = 0\n",
    "for value in Test_label_sam.values():\n",
    "    Test_Labels[j_2] = value\n",
    "    j_2+=1"
   ]
  },
  {
   "cell_type": "code",
   "execution_count": 101,
   "metadata": {
    "scrolled": true
   },
   "outputs": [
    {
     "name": "stdout",
     "output_type": "stream",
     "text": [
      "[[0. 0. 0. 0. 0. 0. 0. 0. 0. 0. 0. 0. 0. 0. 0. 0. 0. 0. 0. 0. 0. 0. 0. 0.\n",
      "  0. 0. 0. 0. 0. 0. 0. 0. 0. 0. 0. 0. 0. 0. 0. 0. 0. 0. 1. 0. 0. 0. 0. 0.\n",
      "  0. 0. 0. 0. 0. 0. 0. 0. 0. 0. 0. 0. 0. 0. 0. 0. 0. 0. 0. 0. 0. 0. 0. 0.\n",
      "  0. 0. 0. 0. 0. 0. 0. 0. 0.]\n",
      " [0. 0. 0. 0. 0. 0. 0. 0. 0. 0. 0. 0. 0. 0. 0. 0. 0. 0. 0. 0. 0. 0. 0. 0.\n",
      "  0. 0. 0. 0. 0. 0. 0. 0. 0. 0. 0. 0. 0. 0. 0. 0. 0. 0. 1. 0. 0. 0. 0. 0.\n",
      "  0. 0. 0. 0. 0. 0. 0. 0. 0. 0. 0. 0. 0. 0. 0. 0. 0. 0. 0. 0. 0. 0. 0. 0.\n",
      "  0. 0. 0. 0. 0. 0. 0. 0. 0.]\n",
      " [0. 0. 0. 0. 0. 0. 0. 0. 0. 0. 0. 0. 0. 0. 0. 0. 0. 0. 0. 0. 0. 0. 0. 0.\n",
      "  0. 0. 0. 0. 0. 0. 0. 0. 0. 0. 0. 0. 0. 0. 0. 0. 0. 0. 1. 0. 0. 0. 0. 0.\n",
      "  0. 0. 0. 0. 0. 0. 0. 0. 0. 0. 0. 0. 0. 0. 0. 0. 0. 0. 0. 0. 0. 0. 0. 0.\n",
      "  0. 0. 0. 0. 0. 0. 0. 0. 0.]\n",
      " [0. 0. 0. 0. 0. 0. 0. 0. 0. 0. 0. 0. 0. 0. 0. 0. 0. 0. 0. 0. 0. 0. 0. 0.\n",
      "  0. 0. 0. 0. 0. 0. 0. 0. 0. 0. 0. 0. 0. 0. 0. 0. 0. 0. 1. 0. 0. 0. 0. 0.\n",
      "  0. 0. 0. 0. 0. 0. 0. 0. 0. 0. 0. 0. 0. 0. 0. 0. 0. 0. 0. 0. 0. 0. 0. 0.\n",
      "  0. 0. 0. 0. 0. 0. 0. 0. 0.]\n",
      " [0. 0. 0. 0. 0. 0. 0. 0. 0. 0. 0. 0. 0. 0. 0. 0. 0. 0. 0. 0. 0. 0. 0. 0.\n",
      "  0. 0. 0. 0. 0. 0. 0. 0. 0. 0. 0. 0. 0. 0. 0. 0. 0. 0. 1. 0. 0. 0. 0. 0.\n",
      "  0. 0. 0. 0. 0. 0. 0. 0. 0. 0. 0. 0. 0. 0. 0. 0. 0. 0. 0. 0. 0. 0. 0. 0.\n",
      "  0. 0. 0. 0. 0. 0. 0. 0. 0.]]\n"
     ]
    }
   ],
   "source": [
    "print(Train_Labels[:5])"
   ]
  },
  {
   "cell_type": "code",
   "execution_count": 85,
   "metadata": {},
   "outputs": [],
   "source": [
    "Train_Data = np.hstack((Train_CH64, Train_tags_final.toarray(), Train_Labels))"
   ]
  },
  {
   "cell_type": "code",
   "execution_count": 86,
   "metadata": {},
   "outputs": [
    {
     "name": "stdout",
     "output_type": "stream",
     "text": [
      "[-0.047583  0.03591  -0.021328 ...  0.        0.        0.      ]\n",
      "(1145,)\n"
     ]
    }
   ],
   "source": [
    "print(Train_Data[0])\n",
    "print(Train_Data[0].shape)"
   ]
  },
  {
   "cell_type": "code",
   "execution_count": 87,
   "metadata": {},
   "outputs": [],
   "source": [
    "Test_Data = np.hstack((Test_CH64, Test_tags_final.toarray(), Test_Labels))"
   ]
  },
  {
   "cell_type": "code",
   "execution_count": 88,
   "metadata": {
    "scrolled": true
   },
   "outputs": [
    {
     "name": "stdout",
     "output_type": "stream",
     "text": [
      "[-0.065481  0.222105  0.021829 ...  0.        0.        0.      ]\n",
      "(1145,)\n"
     ]
    }
   ],
   "source": [
    "print(Test_Data[0])\n",
    "print(Test_Data[0].shape)"
   ]
  },
  {
   "cell_type": "code",
   "execution_count": 94,
   "metadata": {},
   "outputs": [
    {
     "name": "stdout",
     "output_type": "stream",
     "text": [
      "[[42]]\n"
     ]
    }
   ],
   "source": [
    "print(np.array(np.where(Train_Labels[0]==1)))"
   ]
  },
  {
   "cell_type": "code",
   "execution_count": 97,
   "metadata": {},
   "outputs": [],
   "source": [
    "Train_Label = np.zeros(len(Train_Labels))\n",
    "for i in range(len(Train_Labels)):\n",
    "    Train_Label[i] = (np.array(np.where(Train_Labels[i]==1)))\n",
    "    "
   ]
  },
  {
   "cell_type": "code",
   "execution_count": 104,
   "metadata": {},
   "outputs": [
    {
     "name": "stdout",
     "output_type": "stream",
     "text": [
      "[[42]\n",
      " [42]\n",
      " [42]\n",
      " ...\n",
      " [ 1]\n",
      " [75]\n",
      " [ 1]]\n"
     ]
    }
   ],
   "source": [
    "print(Train_Label.reshape((len(Train_Labels), -1)).astype(int))"
   ]
  },
  {
   "cell_type": "code",
   "execution_count": 10,
   "metadata": {},
   "outputs": [],
   "source": [
    "NUS = np.array([[1, 2, 3, 4, 5], [3, 4, 5, 2, 1], [8, 5, 6, 7, 2]])"
   ]
  },
  {
   "cell_type": "code",
   "execution_count": 11,
   "metadata": {},
   "outputs": [
    {
     "data": {
      "text/plain": [
       "array([[1, 2, 3, 4, 5],\n",
       "       [3, 4, 5, 2, 1],\n",
       "       [8, 5, 6, 7, 2]])"
      ]
     },
     "execution_count": 11,
     "metadata": {},
     "output_type": "execute_result"
    }
   ],
   "source": [
    "NUS"
   ]
  },
  {
   "cell_type": "code",
   "execution_count": 14,
   "metadata": {},
   "outputs": [],
   "source": [
    "M0 = np.zeros((len(NUS), len(NUS)))\n",
    "result = []\n",
    "for i in range(len(NUS)):\n",
    "    X = NUS[i]\n",
    "    for j in range(i, len(NUS)):\n",
    "        Z = NUS[j]\n",
    "        for l in range(len(NUS[0])):\n",
    "            if X[l] < Z[l]:\n",
    "                result.append(X[l])\n",
    "            else:\n",
    "                result.append(Z[l])\n",
    "        M0[i][j] = sum(result)\n",
    "        M0[j][i] = sum(result)\n",
    "        result = []"
   ]
  },
  {
   "cell_type": "code",
   "execution_count": 15,
   "metadata": {},
   "outputs": [
    {
     "data": {
      "text/plain": [
       "array([[15.,  9., 12.],\n",
       "       [ 9., 15., 15.],\n",
       "       [12., 15., 28.]])"
      ]
     },
     "execution_count": 15,
     "metadata": {},
     "output_type": "execute_result"
    }
   ],
   "source": [
    "M0"
   ]
  },
  {
   "cell_type": "code",
   "execution_count": 20,
   "metadata": {},
   "outputs": [],
   "source": [
    "M1 = np.zeros((len(NUS), len(NUS)))\n",
    "for i in range(len(NUS)):\n",
    "    X = NUS[i, :]\n",
    "    for j in range(i, len(NUS)):\n",
    "        Z = NUS[j, :]\n",
    "        result = np.dot(X, Z)/(np.linalg.norm(X) * np.linalg.norm(Z))\n",
    "        M1[i][j] = result\n",
    "        M1[j][i] = result"
   ]
  },
  {
   "cell_type": "code",
   "execution_count": 21,
   "metadata": {},
   "outputs": [
    {
     "data": {
      "text/plain": [
       "array([[1.        , 0.70909091, 0.74789456],\n",
       "       [0.70909091, 1.        , 0.90960149],\n",
       "       [0.74789456, 0.90960149, 1.        ]])"
      ]
     },
     "execution_count": 21,
     "metadata": {},
     "output_type": "execute_result"
    }
   ],
   "source": [
    "M1"
   ]
  },
  {
   "cell_type": "code",
   "execution_count": 106,
   "metadata": {},
   "outputs": [],
   "source": [
    "no = np.random.normal(loc=0.0, scale=1.0, size=(3,2))"
   ]
  },
  {
   "cell_type": "code",
   "execution_count": 107,
   "metadata": {},
   "outputs": [
    {
     "data": {
      "text/plain": [
       "array([[-0.14414968,  0.30355835],\n",
       "       [-0.04071123,  0.78350292],\n",
       "       [-1.76360429, -0.59919128]])"
      ]
     },
     "execution_count": 107,
     "metadata": {},
     "output_type": "execute_result"
    }
   ],
   "source": [
    "no"
   ]
  },
  {
   "cell_type": "code",
   "execution_count": 2,
   "metadata": {},
   "outputs": [],
   "source": [
    "o_1 = np.array(([[0, 1, 0, 0, 0, 0],\n",
    "                 [1, 0, 0, 0, 0, 0],\n",
    "                 [0, 0, 0, 1, 0, 0],\n",
    "                 [0, 0, 0, 0, 1, 0]]))"
   ]
  },
  {
   "cell_type": "code",
   "execution_count": 6,
   "metadata": {},
   "outputs": [
    {
     "data": {
      "text/plain": [
       "(array([0, 1, 2, 3]), array([1, 0, 3, 4]))"
      ]
     },
     "execution_count": 6,
     "metadata": {},
     "output_type": "execute_result"
    }
   ],
   "source": [
    "np.where(o_1[]==1)"
   ]
  },
  {
   "cell_type": "code",
   "execution_count": 7,
   "metadata": {},
   "outputs": [],
   "source": [
    "o_s = np.zeros(len(o_1))\n",
    "for i in range(len(o_1)):\n",
    "    o_s[i] = (np.array(np.where(o_1[i]==1)))"
   ]
  },
  {
   "cell_type": "code",
   "execution_count": 8,
   "metadata": {},
   "outputs": [
    {
     "data": {
      "text/plain": [
       "array([1., 0., 3., 4.])"
      ]
     },
     "execution_count": 8,
     "metadata": {},
     "output_type": "execute_result"
    }
   ],
   "source": [
    "o_s"
   ]
  },
  {
   "cell_type": "code",
   "execution_count": 10,
   "metadata": {},
   "outputs": [
    {
     "data": {
      "text/plain": [
       "array([[1.],\n",
       "       [0.],\n",
       "       [3.],\n",
       "       [4.]])"
      ]
     },
     "execution_count": 10,
     "metadata": {},
     "output_type": "execute_result"
    }
   ],
   "source": [
    "o_s.reshape((len(o_1), -1))"
   ]
  },
  {
   "cell_type": "code",
   "execution_count": null,
   "metadata": {},
   "outputs": [],
   "source": []
  }
 ],
 "metadata": {
  "kernelspec": {
   "display_name": "Python 3",
   "language": "python",
   "name": "python3"
  },
  "language_info": {
   "codemirror_mode": {
    "name": "ipython",
    "version": 3
   },
   "file_extension": ".py",
   "mimetype": "text/x-python",
   "name": "python",
   "nbconvert_exporter": "python",
   "pygments_lexer": "ipython3",
   "version": "3.8.5"
  }
 },
 "nbformat": 4,
 "nbformat_minor": 4
}
