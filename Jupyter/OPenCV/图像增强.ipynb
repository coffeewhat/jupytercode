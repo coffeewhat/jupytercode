{
 "cells": [
  {
   "cell_type": "code",
   "execution_count": 1,
   "metadata": {},
   "outputs": [
    {
     "name": "stdout",
     "output_type": "stream",
     "text": [
      "480 640\n",
      "(480, 640)\n",
      "216\n"
     ]
    },
    {
     "data": {
      "image/png": "[encoded data removed]",
      "text/plain": [
       "<Figure size 432x288 with 1 Axes>"
      ]
     },
     "metadata": {
      "needs_background": "light"
     },
     "output_type": "display_data"
    }
   ],
   "source": [
    "import cv2 as cv\n",
    "import numpy as np\n",
    "import matplotlib.pyplot as plt\n",
    " \n",
    "def calcGrayHist(I):\n",
    "    # 计算灰度直方图\n",
    "    h, w = I.shape\n",
    "    print(h, w)\n",
    "    print(I.shape)\n",
    "    print(I[0][0])\n",
    "    grayHist = np.zeros([256], np.uint64)\n",
    "    for i in range(h):\n",
    "        for j in range(w):\n",
    "            grayHist[I[i][j]] += 1\n",
    "    return grayHist\n",
    " \n",
    "img = cv.imread(\"/Users/zhangxiao/Desktop/数据/测试数据/测试数据1/1267.jpeg\", 0)\n",
    "grayHist = calcGrayHist(img)\n",
    "x = np.arange(256)\n",
    "# 绘制灰度直方图\n",
    "plt.plot(x, grayHist, 'r', linewidth=2, c='black')\n",
    "plt.xlabel(\"gray Label\")\n",
    "plt.ylabel(\"number of pixels\")\n",
    "plt.show()\n",
    "# cv.imshow(\"img\", img)"
   ]
  },
  {
   "cell_type": "code",
   "execution_count": null,
   "metadata": {},
   "outputs": [],
   "source": [
    "out = np.zeros(img.shape, np.uint8)\n",
    "cv.normalize(img, out, 255, 0, cv.NORM_MINMAX, cv.CV_8U)\n",
    "cv.imshow(\"img\", img)\n",
    "cv.imshow(\"out\", out)\n",
    "cv.waitKey()"
   ]
  },
  {
   "cell_type": "code",
   "execution_count": null,
   "metadata": {},
   "outputs": [],
   "source": []
  }
 ],
 "metadata": {
  "kernelspec": {
   "display_name": "Python 3",
   "language": "python",
   "name": "python3"
  },
  "language_info": {
   "codemirror_mode": {
    "name": "ipython",
    "version": 3
   },
   "file_extension": ".py",
   "mimetype": "text/x-python",
   "name": "python",
   "nbconvert_exporter": "python",
   "pygments_lexer": "ipython3",
   "version": "3.7.7"
  }
 },
 "nbformat": 4,
 "nbformat_minor": 4
}
