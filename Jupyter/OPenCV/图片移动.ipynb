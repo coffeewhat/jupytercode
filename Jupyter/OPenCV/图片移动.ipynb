{
 "cells": [
  {
   "cell_type": "code",
   "execution_count": 1,
   "metadata": {},
   "outputs": [],
   "source": [
    "import pandas as pd\n",
    "import numpy as np\n",
    "import os\n",
    "from imutils import paths\n",
    "import shutil"
   ]
  },
  {
   "cell_type": "code",
   "execution_count": 2,
   "metadata": {},
   "outputs": [],
   "source": [
    "im_dir_path = '/Users/zhangxiao/Desktop/测测试数据/交通数据'\n",
    "im_dir_names = os.listdir(im_dir_path)"
   ]
  },
  {
   "cell_type": "code",
   "execution_count": 3,
   "metadata": {},
   "outputs": [],
   "source": [
    "im_dir_names.sort()\n",
    "im_dir_names.remove('标注案例.xlsx')"
   ]
  },
  {
   "cell_type": "code",
   "execution_count": 4,
   "metadata": {},
   "outputs": [
    {
     "name": "stdout",
     "output_type": "stream",
     "text": [
      "['64942925117', '64942925118', '64942925119', '64942925811', '64942925812', '64942925813', '64942925813A', '64942925817', '64942925821', '64942925821A', '64942925822', '64942925823', '64942925824A', '64942925825', '64942925826', '64942925827', '64942925828', '64942925829', '64942925830', '64942925831', '64942925832', '64942925833', '64942925834', '64942925835', '64942925836', '64942925837', '64942925839', '64942925841', '64942925842', '64942925845', '64943112443', '64943112444', '64943112445', '64943112446', '64943112447', '64943112448', '64943112450', '64943112451', '64943112452', '64943112453', '64943112454', '64943112455', '64943112458', '64943112459', '64943112460', '64943112463', '64943112466', '64943112469', '64943112470', '64943112471', '64943112472', '64943112473', '64943112474', '64943112475', '64943112476', '64943112478', '64943112480', '64943112481', '64943112482', '64943112483', '64943112484', '64943112485', '64943112486', '64943112487', '64943112488', '64943112489A', '64943112490', '64943112491', '64943112492', '64943112493', '64943112494', '64943112495', '64943112497', '64943112498', '64943112499', '64958572710', '64958572930', '64958572950', '64958572970', '64958572990', '64958573010', '64958573030']\n"
     ]
    }
   ],
   "source": [
    "print(im_dir_names)"
   ]
  },
  {
   "cell_type": "code",
   "execution_count": 5,
   "metadata": {},
   "outputs": [],
   "source": [
    "impaths=[]\n",
    "for im_dir_name in im_dir_names:\n",
    "    dir = os.path.join(im_dir_path, im_dir_name) # 其中一个文件夹路径\n",
    "    impath = list(paths.list_images(dir))\n",
    "    impaths += impath"
   ]
  },
  {
   "cell_type": "code",
   "execution_count": 6,
   "metadata": {},
   "outputs": [
    {
     "data": {
      "text/plain": [
       "['/Users/zhangxiao/Desktop/测测试数据/交通数据/64942925117/夜间空车无帆布遮盖_35_2114.jpeg',\n",
       " '/Users/zhangxiao/Desktop/测测试数据/交通数据/64942925117/夜间有帆布遮盖_32_2111.jpeg',\n",
       " '/Users/zhangxiao/Desktop/测测试数据/交通数据/64942925117/白天空车无帆布遮盖_15_2092.jpeg']"
      ]
     },
     "execution_count": 6,
     "metadata": {},
     "output_type": "execute_result"
    }
   ],
   "source": [
    "impaths[:3]"
   ]
  },
  {
   "cell_type": "code",
   "execution_count": 7,
   "metadata": {},
   "outputs": [],
   "source": [
    "clfpath = '/Users/zhangxiao/Desktop/测测试数据'\n",
    "for impath in impaths:\n",
    "    pathSplit = os.path.split(impath)\n",
    "    shutil.move(impath, os.path.join(clfpath, pathSplit[1].split(\"_\")[0]))"
   ]
  },
  {
   "cell_type": "code",
   "execution_count": null,
   "metadata": {},
   "outputs": [],
   "source": []
  },
  {
   "cell_type": "code",
   "execution_count": null,
   "metadata": {},
   "outputs": [],
   "source": []
  },
  {
   "cell_type": "code",
   "execution_count": null,
   "metadata": {},
   "outputs": [],
   "source": []
  },
  {
   "cell_type": "code",
   "execution_count": null,
   "metadata": {},
   "outputs": [],
   "source": []
  }
 ],
 "metadata": {
  "kernelspec": {
   "display_name": "Python 3",
   "language": "python",
   "name": "python3"
  },
  "language_info": {
   "codemirror_mode": {
    "name": "ipython",
    "version": 3
   },
   "file_extension": ".py",
   "mimetype": "text/x-python",
   "name": "python",
   "nbconvert_exporter": "python",
   "pygments_lexer": "ipython3",
   "version": "3.8.5"
  }
 },
 "nbformat": 4,
 "nbformat_minor": 4
}
