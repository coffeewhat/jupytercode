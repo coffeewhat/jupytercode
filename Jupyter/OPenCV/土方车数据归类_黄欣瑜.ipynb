{
 "cells": [
  {
   "cell_type": "code",
   "execution_count": 1,
   "id": "expensive-thirty",
   "metadata": {},
   "outputs": [],
   "source": [
    "import pandas as pd\n",
    "import numpy as np\n",
    "import os\n",
    "from imutils import paths"
   ]
  },
  {
   "cell_type": "code",
   "execution_count": 2,
   "id": "coordinated-anthony",
   "metadata": {},
   "outputs": [],
   "source": [
    "path = '/Users/zhangxiao/Desktop/数据集/土方车数据/原始数据的副本/黄欣瑜/黄欣瑜.xlsx'\n",
    "labels = pd.read_excel(path)\n",
    "l = labels[\"文件的类型\"].tolist()"
   ]
  },
  {
   "cell_type": "code",
   "execution_count": 3,
   "id": "earlier-officer",
   "metadata": {},
   "outputs": [],
   "source": [
    "im_dir_path = '/Users/zhangxiao/Desktop/数据集/土方车数据/原始数据的副本/黄欣瑜'\n",
    "im_dir_names = os.listdir(im_dir_path)\n",
    "im_dir_names.sort()\n",
    "im_dir_names.remove('黄欣瑜.xlsx')"
   ]
  },
  {
   "cell_type": "code",
   "execution_count": 4,
   "id": "greater-cathedral",
   "metadata": {},
   "outputs": [
    {
     "name": "stdout",
     "output_type": "stream",
     "text": [
      "298\n"
     ]
    }
   ],
   "source": [
    "m = 0\n",
    "k = 0\n",
    "j = 0\n",
    "for im_dir_name in im_dir_names:\n",
    "    dir = os.path.join(im_dir_path, im_dir_name) # 其中一个文件夹路径\n",
    "    im_paths = list(paths.list_images(dir))# 将文件夹下的图片名称保存为一个列表\n",
    "    im_paths.sort()\n",
    "    k += len(im_paths)\n",
    "    la = l[m:k]\n",
    "    i = 0\n",
    "    for im_path in im_paths:    \n",
    "        pathSplit = os.path.split(im_path)\n",
    "        os.rename(im_path, os.path.join(pathSplit[0], str(j) + '_' + la[i] + '_' + pathSplit[1]))\n",
    "        i += 1\n",
    "        j += 1\n",
    "    m = k\n",
    "print(j)"
   ]
  },
  {
   "cell_type": "code",
   "execution_count": 5,
   "id": "searching-carrier",
   "metadata": {},
   "outputs": [],
   "source": [
    "# from collections import Counter"
   ]
  },
  {
   "cell_type": "code",
   "execution_count": 6,
   "id": "brutal-antarctica",
   "metadata": {},
   "outputs": [],
   "source": [
    "# a = labels[\"文件夹名称\"].tolist()\n",
    "# Counter(a)"
   ]
  }
 ],
 "metadata": {
  "kernelspec": {
   "display_name": "Python 3",
   "language": "python",
   "name": "python3"
  },
  "language_info": {
   "codemirror_mode": {
    "name": "ipython",
    "version": 3
   },
   "file_extension": ".py",
   "mimetype": "text/x-python",
   "name": "python",
   "nbconvert_exporter": "python",
   "pygments_lexer": "ipython3",
   "version": "3.8.5"
  }
 },
 "nbformat": 4,
 "nbformat_minor": 5
}
