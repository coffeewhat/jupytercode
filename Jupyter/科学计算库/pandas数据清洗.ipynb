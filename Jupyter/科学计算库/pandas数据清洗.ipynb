{
 "cells": [
  {
   "cell_type": "code",
   "execution_count": 2,
   "metadata": {},
   "outputs": [],
   "source": [
    "import numpy as np\n",
    "from collections import Counter\n",
    "import pandas as pd\n",
    "from imblearn.over_sampling import SMOTE\n",
    "import random"
   ]
  },
  {
   "cell_type": "code",
   "execution_count": 4,
   "metadata": {},
   "outputs": [],
   "source": [
    "data = pd.read_csv('/Users/zhangxiao/Desktop/论文测试数据集/crx.data', dtype = str)\n",
    "data = data.replace('?', np.nan) # 用数字替换符号\n",
    "data = data.replace('+', 1)\n",
    "data = data.replace('-', 0)\n",
    "# copy1 = data.iloc[:30, :]\n",
    "# copy2 = data.iloc[-30:, :]\n",
    "# data = data.append(copy1,ignore_index=True)\n",
    "# data = data.append(copy2,ignore_index=True)\n",
    "\n",
    "xData = data.iloc[:, :-1]\n",
    "yLabel = data.iloc[:, -1]"
   ]
  },
  {
   "cell_type": "code",
   "execution_count": null,
   "metadata": {},
   "outputs": [],
   "source": [
    "xData.info()"
   ]
  },
  {
   "cell_type": "code",
   "execution_count": 5,
   "metadata": {},
   "outputs": [
    {
     "data": {
      "text/plain": [
       "A14    13\n",
       "A2     12\n",
       "A1     12\n",
       "A7      9\n",
       "A6      9\n",
       "A5      6\n",
       "A4      6\n",
       "A15     0\n",
       "A13     0\n",
       "A12     0\n",
       "A11     0\n",
       "A10     0\n",
       "A9      0\n",
       "A8      0\n",
       "A3      0\n",
       "dtype: int64"
      ]
     },
     "execution_count": 5,
     "metadata": {},
     "output_type": "execute_result"
    }
   ],
   "source": [
    "xData.isnull().sum().sort_values(ascending=False)"
   ]
  },
  {
   "cell_type": "code",
   "execution_count": null,
   "metadata": {
    "scrolled": true
   },
   "outputs": [],
   "source": [
    "xData"
   ]
  },
  {
   "cell_type": "code",
   "execution_count": 3,
   "metadata": {},
   "outputs": [],
   "source": [
    "xData[['A2', 'A3', 'A8', 'A11', 'A14','A15']] = xData[['A2', 'A3', 'A8', 'A11', 'A14','A15']].astype('float')"
   ]
  },
  {
   "cell_type": "code",
   "execution_count": null,
   "metadata": {},
   "outputs": [],
   "source": [
    "xData.dtypes"
   ]
  },
  {
   "cell_type": "code",
   "execution_count": 31,
   "metadata": {},
   "outputs": [],
   "source": [
    "xDataM1 = xData.loc[:, ['A2', 'A3', 'A8', 'A11', 'A14', 'A15']]\n",
    "xDataM2 = xData.loc[:, ['A1', 'A4', 'A5', 'A6', 'A7', 'A9', 'A10', 'A12', 'A13']]"
   ]
  },
  {
   "cell_type": "markdown",
   "metadata": {},
   "source": [
    "#### 处理xDataM1（数值型数据）"
   ]
  },
  {
   "cell_type": "code",
   "execution_count": 32,
   "metadata": {},
   "outputs": [],
   "source": [
    "for column in list(xDataM1.columns[xDataM1.isnull().sum() > 0]): # 用均值填补NaN\n",
    "    mean_val = round(xDataM1[column].mean(), 2)\n",
    "    xDataM1[column] = xDataM1[column].fillna(mean_val)"
   ]
  },
  {
   "cell_type": "code",
   "execution_count": null,
   "metadata": {},
   "outputs": [],
   "source": [
    "xDataM1.isnull().sum() > 0"
   ]
  },
  {
   "cell_type": "markdown",
   "metadata": {},
   "source": [
    "#### 处理xDataM2(类别型数据）"
   ]
  },
  {
   "cell_type": "code",
   "execution_count": 33,
   "metadata": {},
   "outputs": [],
   "source": [
    "for col in list(xDataM2.columns[xDataM2.isnull().sum() > 0]): # 用众数填补空值\n",
    "    xDataM2[col] = xDataM2[col].fillna(xDataM2[col].mode()[0])"
   ]
  },
  {
   "cell_type": "code",
   "execution_count": null,
   "metadata": {},
   "outputs": [],
   "source": [
    "print(xDataM2[xDataM2.isnull().T.any()])"
   ]
  },
  {
   "cell_type": "code",
   "execution_count": 34,
   "metadata": {},
   "outputs": [],
   "source": [
    "for col in xDataM2.columns.values.tolist(): # 将符号数字化\n",
    "    xDataM2[col] = pd.factorize(xDataM2[col])[0].astype(np.int)"
   ]
  },
  {
   "cell_type": "code",
   "execution_count": null,
   "metadata": {},
   "outputs": [],
   "source": [
    "xDataM2"
   ]
  },
  {
   "cell_type": "code",
   "execution_count": null,
   "metadata": {},
   "outputs": [],
   "source": [
    "xDataM2.columns.values.tolist()# 获取colums名"
   ]
  },
  {
   "cell_type": "code",
   "execution_count": null,
   "metadata": {},
   "outputs": [],
   "source": []
  },
  {
   "cell_type": "code",
   "execution_count": null,
   "metadata": {},
   "outputs": [],
   "source": []
  },
  {
   "cell_type": "code",
   "execution_count": null,
   "metadata": {},
   "outputs": [],
   "source": []
  },
  {
   "cell_type": "code",
   "execution_count": null,
   "metadata": {},
   "outputs": [],
   "source": [
    "x1 = np.arange(3, 9).reshape((1, 6))\n",
    "x2 = np.arange(4, 10). reshape((1, 6))"
   ]
  },
  {
   "cell_type": "code",
   "execution_count": null,
   "metadata": {},
   "outputs": [],
   "source": [
    "d =  np.argwhere(x1 != x2)"
   ]
  },
  {
   "cell_type": "code",
   "execution_count": null,
   "metadata": {},
   "outputs": [],
   "source": [
    "d1 = np.argwhere(xDataM2[0] != xDataM2[1])"
   ]
  },
  {
   "cell_type": "code",
   "execution_count": null,
   "metadata": {},
   "outputs": [],
   "source": [
    "len(d1)"
   ]
  },
  {
   "cell_type": "code",
   "execution_count": null,
   "metadata": {},
   "outputs": [],
   "source": [
    "count = [2, 1, 2, 2, 2, 2, 2, 4, 5, 1, 1, 1, 5, 1, 1,4]"
   ]
  },
  {
   "cell_type": "code",
   "execution_count": null,
   "metadata": {},
   "outputs": [],
   "source": [
    "max(count, key=count.count)"
   ]
  },
  {
   "cell_type": "code",
   "execution_count": null,
   "metadata": {},
   "outputs": [],
   "source": [
    "max(set(count), key=count.count)"
   ]
  },
  {
   "cell_type": "markdown",
   "metadata": {},
   "source": [
    "### 复制加值"
   ]
  },
  {
   "cell_type": "code",
   "execution_count": null,
   "metadata": {},
   "outputs": [],
   "source": [
    "yLabel"
   ]
  },
  {
   "cell_type": "code",
   "execution_count": null,
   "metadata": {},
   "outputs": [],
   "source": [
    "datax = np.array(data)"
   ]
  },
  {
   "cell_type": "code",
   "execution_count": null,
   "metadata": {},
   "outputs": [],
   "source": [
    "datax"
   ]
  },
  {
   "cell_type": "code",
   "execution_count": null,
   "metadata": {},
   "outputs": [],
   "source": [
    "len(np.argwhere(datax[:, -1] == 1))"
   ]
  },
  {
   "cell_type": "code",
   "execution_count": null,
   "metadata": {},
   "outputs": [],
   "source": [
    "len(np.argwhere(datax[:, -1] == 0))"
   ]
  },
  {
   "cell_type": "code",
   "execution_count": 9,
   "metadata": {},
   "outputs": [],
   "source": [
    "num = np.array([72.57,72.57,66.86,73.14,67.43,72.57,69.71,72,69.71,68])"
   ]
  },
  {
   "cell_type": "code",
   "execution_count": 10,
   "metadata": {},
   "outputs": [
    {
     "data": {
      "text/plain": [
       "2.4089564361173283"
      ]
     },
     "execution_count": 10,
     "metadata": {},
     "output_type": "execute_result"
    }
   ],
   "source": [
    "np.std(num,ddof=1)"
   ]
  },
  {
   "cell_type": "code",
   "execution_count": 11,
   "metadata": {},
   "outputs": [
    {
     "data": {
      "text/plain": [
       "70.45599999999999"
      ]
     },
     "execution_count": 11,
     "metadata": {},
     "output_type": "execute_result"
    }
   ],
   "source": [
    "np.mean(num)"
   ]
  },
  {
   "cell_type": "code",
   "execution_count": 45,
   "metadata": {
    "scrolled": true
   },
   "outputs": [],
   "source": [
    "qa = np.array([[91.43,90.86,90.86,90.29,90.29,90.29,89.71,90.29,89.71],\n",
    "              [86.29,86.29,85.14,85.14,85.71,86.29,87.43,86.29,86.86],\n",
    "              [80.57,81.14,81.14,81.14,81.14,80.57,80.00,80.57,80.57],\n",
    "              [85.71,85.71,85.71,85.71,85.71,85.71,85.71,85.71,85.14],\n",
    "              [82.86,82.86,82.86,82.86,82.86,83.43,83.43,85.14,86.86],\n",
    "              [89.71,89.71,89.14,88.57,88.57,89.14,89.71,90.29,89.71],\n",
    "              [88.57,88.57,88.57,88.57,88.57,88.57,88.57,88.57,89.71],\n",
    "              [89.14,89.14,89.14,89.14,89.14,89.71,89.71,90.29,90.29],\n",
    "              [85.14,85.14,84.57,84.57,84.57,84.57,84.57,85.14,86.29],\n",
    "              [93.14,93.14,93.14,93.14,93.14,92.00,92.00,92.57,90.29]])"
   ]
  },
  {
   "cell_type": "code",
   "execution_count": 46,
   "metadata": {},
   "outputs": [
    {
     "data": {
      "text/plain": [
       "array([87.256, 87.256, 87.027, 86.913, 86.97 , 87.028, 87.084, 87.486,\n",
       "       87.543])"
      ]
     },
     "execution_count": 46,
     "metadata": {},
     "output_type": "execute_result"
    }
   ],
   "source": [
    "qa.mean(0)"
   ]
  },
  {
   "cell_type": "code",
   "execution_count": null,
   "metadata": {},
   "outputs": [],
   "source": []
  },
  {
   "cell_type": "markdown",
   "metadata": {},
   "source": [
    "### SMOTE算法"
   ]
  },
  {
   "cell_type": "code",
   "execution_count": 35,
   "metadata": {},
   "outputs": [],
   "source": [
    "xDataM1 = np.array(xDataM1)\n",
    "xDataM2 = np.array(xDataM2)\n",
    "yLabel = np.array(yLabel)"
   ]
  },
  {
   "cell_type": "code",
   "execution_count": 36,
   "metadata": {},
   "outputs": [],
   "source": [
    "tempxData = np.hstack((xDataM1, xDataM2))"
   ]
  },
  {
   "cell_type": "code",
   "execution_count": 37,
   "metadata": {},
   "outputs": [],
   "source": [
    "smo = SMOTE(sampling_strategy={1:438, 0:437}, random_state=5)"
   ]
  },
  {
   "cell_type": "code",
   "execution_count": 38,
   "metadata": {},
   "outputs": [
    {
     "name": "stderr",
     "output_type": "stream",
     "text": [
      "/Users/zhangxiao/anaconda3/anaconda3/lib/python3.7/site-packages/imblearn/utils/_validation.py:285: UserWarning: After over-sampling, the number of samples (438) in class 1 will be larger than the number of samples in the majority class (class #0 -> 383)\n",
      "  n_samples_majority,\n",
      "/Users/zhangxiao/anaconda3/anaconda3/lib/python3.7/site-packages/imblearn/utils/_validation.py:285: UserWarning: After over-sampling, the number of samples (437) in class 0 will be larger than the number of samples in the majority class (class #0 -> 383)\n",
      "  n_samples_majority,\n"
     ]
    }
   ],
   "source": [
    "tempxData, yLabel = smo.fit_sample(tempxData, yLabel)"
   ]
  },
  {
   "cell_type": "code",
   "execution_count": 39,
   "metadata": {},
   "outputs": [
    {
     "name": "stdout",
     "output_type": "stream",
     "text": [
      "Counter({1: 438, 0: 437})\n"
     ]
    }
   ],
   "source": [
    "print(Counter(yLabel))"
   ]
  },
  {
   "cell_type": "code",
   "execution_count": 13,
   "metadata": {},
   "outputs": [
    {
     "data": {
      "text/plain": [
       "array([[3.083e+01, 0.000e+00, 1.250e+00, 1.000e+00, 2.020e+02, 0.000e+00,\n",
       "        0.000e+00, 0.000e+00, 0.000e+00, 0.000e+00, 0.000e+00, 0.000e+00,\n",
       "        0.000e+00, 0.000e+00, 0.000e+00],\n",
       "       [5.867e+01, 4.460e+00, 3.040e+00, 6.000e+00, 4.300e+01, 5.600e+02,\n",
       "        1.000e+00, 0.000e+00, 0.000e+00, 1.000e+00, 1.000e+00, 0.000e+00,\n",
       "        0.000e+00, 0.000e+00, 0.000e+00],\n",
       "       [2.450e+01, 5.000e-01, 1.500e+00, 0.000e+00, 2.800e+02, 8.240e+02,\n",
       "        1.000e+00, 0.000e+00, 0.000e+00, 1.000e+00, 1.000e+00, 0.000e+00,\n",
       "        1.000e+00, 0.000e+00, 0.000e+00],\n",
       "       [2.783e+01, 1.540e+00, 3.750e+00, 5.000e+00, 1.000e+02, 3.000e+00,\n",
       "        0.000e+00, 0.000e+00, 0.000e+00, 0.000e+00, 0.000e+00, 0.000e+00,\n",
       "        0.000e+00, 1.000e+00, 0.000e+00],\n",
       "       [2.017e+01, 5.625e+00, 1.710e+00, 0.000e+00, 1.200e+02, 0.000e+00,\n",
       "        0.000e+00, 0.000e+00, 0.000e+00, 0.000e+00, 0.000e+00, 0.000e+00,\n",
       "        1.000e+00, 0.000e+00, 1.000e+00]])"
      ]
     },
     "execution_count": 13,
     "metadata": {},
     "output_type": "execute_result"
    }
   ],
   "source": [
    "tempxData[:5]"
   ]
  },
  {
   "cell_type": "code",
   "execution_count": 14,
   "metadata": {},
   "outputs": [
    {
     "data": {
      "text/plain": [
       "array([[3.083e+01, 0.000e+00, 1.250e+00, 1.000e+00, 2.020e+02, 0.000e+00],\n",
       "       [5.867e+01, 4.460e+00, 3.040e+00, 6.000e+00, 4.300e+01, 5.600e+02],\n",
       "       [2.450e+01, 5.000e-01, 1.500e+00, 0.000e+00, 2.800e+02, 8.240e+02],\n",
       "       [2.783e+01, 1.540e+00, 3.750e+00, 5.000e+00, 1.000e+02, 3.000e+00],\n",
       "       [2.017e+01, 5.625e+00, 1.710e+00, 0.000e+00, 1.200e+02, 0.000e+00]])"
      ]
     },
     "execution_count": 14,
     "metadata": {},
     "output_type": "execute_result"
    }
   ],
   "source": [
    "xDataM1[:5]"
   ]
  },
  {
   "cell_type": "code",
   "execution_count": 15,
   "metadata": {},
   "outputs": [
    {
     "data": {
      "text/plain": [
       "array([[0, 0, 0, 0, 0, 0, 0, 0, 0],\n",
       "       [1, 0, 0, 1, 1, 0, 0, 0, 0],\n",
       "       [1, 0, 0, 1, 1, 0, 1, 0, 0],\n",
       "       [0, 0, 0, 0, 0, 0, 0, 1, 0],\n",
       "       [0, 0, 0, 0, 0, 0, 1, 0, 1]])"
      ]
     },
     "execution_count": 15,
     "metadata": {},
     "output_type": "execute_result"
    }
   ],
   "source": [
    "xDataM2[:5]"
   ]
  },
  {
   "cell_type": "code",
   "execution_count": 16,
   "metadata": {},
   "outputs": [],
   "source": [
    "random.seed(5)\n",
    "list1 = random.sample(range(118, 215),55)\n",
    "list2 = random.sample(range(601, 689), 54)"
   ]
  },
  {
   "cell_type": "code",
   "execution_count": 17,
   "metadata": {},
   "outputs": [],
   "source": [
    "for i in list1:\n",
    "    tempxData = np.vstack((tempxData, tempxData[i]))\n",
    "    yLabel = np.hstack((yLabel, yLabel[i]))"
   ]
  },
  {
   "cell_type": "code",
   "execution_count": 18,
   "metadata": {},
   "outputs": [
    {
     "data": {
      "text/plain": [
       "825"
      ]
     },
     "execution_count": 18,
     "metadata": {},
     "output_type": "execute_result"
    }
   ],
   "source": [
    "len(tempxData)\n",
    "len(yLabel)"
   ]
  },
  {
   "cell_type": "code",
   "execution_count": 19,
   "metadata": {},
   "outputs": [],
   "source": [
    "for i in list2:\n",
    "    tempxData = np.vstack((tempxData, tempxData[i]))\n",
    "    yLabel = np.hstack((yLabel, yLabel[i]))"
   ]
  },
  {
   "cell_type": "code",
   "execution_count": 20,
   "metadata": {},
   "outputs": [
    {
     "data": {
      "text/plain": [
       "875"
      ]
     },
     "execution_count": 20,
     "metadata": {},
     "output_type": "execute_result"
    }
   ],
   "source": [
    "len(tempxData)\n",
    "len(yLabel)"
   ]
  },
  {
   "cell_type": "code",
   "execution_count": 22,
   "metadata": {},
   "outputs": [],
   "source": [
    "xDataM1 = tempxData[:, :6]"
   ]
  },
  {
   "cell_type": "code",
   "execution_count": 23,
   "metadata": {},
   "outputs": [],
   "source": [
    "xDataM2 = tempxData[:, 6:]"
   ]
  },
  {
   "cell_type": "code",
   "execution_count": 24,
   "metadata": {},
   "outputs": [
    {
     "data": {
      "text/plain": [
       "Counter({1: 442, 0: 433})"
      ]
     },
     "execution_count": 24,
     "metadata": {},
     "output_type": "execute_result"
    }
   ],
   "source": [
    "Counter(yLabel)"
   ]
  },
  {
   "cell_type": "code",
   "execution_count": 25,
   "metadata": {},
   "outputs": [
    {
     "data": {
      "text/plain": [
       "array([[3.083e+01, 0.000e+00, 1.250e+00, 1.000e+00, 2.020e+02, 0.000e+00],\n",
       "       [5.867e+01, 4.460e+00, 3.040e+00, 6.000e+00, 4.300e+01, 5.600e+02],\n",
       "       [2.450e+01, 5.000e-01, 1.500e+00, 0.000e+00, 2.800e+02, 8.240e+02],\n",
       "       ...,\n",
       "       [3.225e+01, 1.400e+01, 0.000e+00, 2.000e+00, 1.600e+02, 1.000e+00],\n",
       "       [3.108e+01, 1.500e+00, 4.000e-02, 0.000e+00, 1.600e+02, 0.000e+00],\n",
       "       [3.233e+01, 3.500e+00, 5.000e-01, 0.000e+00, 2.320e+02, 0.000e+00]])"
      ]
     },
     "execution_count": 25,
     "metadata": {},
     "output_type": "execute_result"
    }
   ],
   "source": [
    "xDataM1"
   ]
  },
  {
   "cell_type": "code",
   "execution_count": 3,
   "metadata": {},
   "outputs": [],
   "source": [
    "p = pd.read_csv('/Users/zhangxiao/Desktop/论文测试数据集/trial.csv')"
   ]
  },
  {
   "cell_type": "code",
   "execution_count": 10,
   "metadata": {},
   "outputs": [],
   "source": [
    "data = pd.read_csv('/Users/zhangxiao/Desktop/论文测试数据集/trial.csv', dtype=str)\n",
    "data = data.astype('float')\n",
    "\n",
    "xData = data.iloc[:, :-1]\n",
    "yLabel = data.iloc[:, -1]\n",
    "\n"
   ]
  },
  {
   "cell_type": "code",
   "execution_count": null,
   "metadata": {},
   "outputs": [],
   "source": []
  },
  {
   "cell_type": "code",
   "execution_count": 11,
   "metadata": {},
   "outputs": [
    {
     "data": {
      "text/plain": [
       "Sector_score     False\n",
       "LOCATION_ID      False\n",
       "PARA_A           False\n",
       "SCORE_A          False\n",
       "PARA_B           False\n",
       "SCORE_B          False\n",
       "TOTAL            False\n",
       "numbers          False\n",
       "Marks            False\n",
       "Money_Value       True\n",
       "MONEY_Marks      False\n",
       "District         False\n",
       "Loss             False\n",
       "LOSS_SCORE       False\n",
       "History          False\n",
       "History_score    False\n",
       "Score            False\n",
       "dtype: bool"
      ]
     },
     "execution_count": 11,
     "metadata": {},
     "output_type": "execute_result"
    }
   ],
   "source": [
    "np.isnan(xData).any()"
   ]
  },
  {
   "cell_type": "code",
   "execution_count": null,
   "metadata": {},
   "outputs": [],
   "source": []
  }
 ],
 "metadata": {
  "kernelspec": {
   "display_name": "Python 3",
   "language": "python",
   "name": "python3"
  },
  "language_info": {
   "codemirror_mode": {
    "name": "ipython",
    "version": 3
   },
   "file_extension": ".py",
   "mimetype": "text/x-python",
   "name": "python",
   "nbconvert_exporter": "python",
   "pygments_lexer": "ipython3",
   "version": "3.7.7"
  }
 },
 "nbformat": 4,
 "nbformat_minor": 4
}
