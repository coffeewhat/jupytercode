{
 "cells": [
  {
   "cell_type": "code",
   "execution_count": 1,
   "metadata": {},
   "outputs": [],
   "source": [
    "import numpy as np\n",
    "import pandas as pd\n",
    "import seaborn as sns\n",
    "from sklearn.model_selection import  train_test_split\n",
    "from sklearn.preprocessing import StandardScaler\n",
    "from sklearn.model_selection import cross_val_score\n",
    "from sklearn.preprocessing import MinMaxScaler\n",
    "import matplotlib.pyplot as plt\n",
    "%matplotlib inline"
   ]
  },
  {
   "cell_type": "markdown",
   "metadata": {},
   "source": [
    "## 数据参数"
   ]
  },
  {
   "cell_type": "code",
   "execution_count": 2,
   "metadata": {},
   "outputs": [
    {
     "data": {
      "text/html": [
       "<div>\n",
       "<style scoped>\n",
       "    .dataframe tbody tr th:only-of-type {\n",
       "        vertical-align: middle;\n",
       "    }\n",
       "\n",
       "    .dataframe tbody tr th {\n",
       "        vertical-align: top;\n",
       "    }\n",
       "\n",
       "    .dataframe thead th {\n",
       "        text-align: right;\n",
       "    }\n",
       "</style>\n",
       "<table border=\"1\" class=\"dataframe\">\n",
       "  <thead>\n",
       "    <tr style=\"text-align: right;\">\n",
       "      <th></th>\n",
       "      <th>ID</th>\n",
       "      <th>SepalLength</th>\n",
       "      <th>SepalWidth</th>\n",
       "      <th>PetalLength</th>\n",
       "      <th>PetalWidth</th>\n",
       "      <th>species</th>\n",
       "    </tr>\n",
       "  </thead>\n",
       "  <tbody>\n",
       "    <tr>\n",
       "      <th>0</th>\n",
       "      <td>1</td>\n",
       "      <td>5.1</td>\n",
       "      <td>3.5</td>\n",
       "      <td>1.4</td>\n",
       "      <td>0.2</td>\n",
       "      <td>setosa</td>\n",
       "    </tr>\n",
       "    <tr>\n",
       "      <th>1</th>\n",
       "      <td>2</td>\n",
       "      <td>4.9</td>\n",
       "      <td>3.0</td>\n",
       "      <td>1.4</td>\n",
       "      <td>0.2</td>\n",
       "      <td>setosa</td>\n",
       "    </tr>\n",
       "    <tr>\n",
       "      <th>2</th>\n",
       "      <td>3</td>\n",
       "      <td>4.7</td>\n",
       "      <td>3.2</td>\n",
       "      <td>1.3</td>\n",
       "      <td>0.2</td>\n",
       "      <td>setosa</td>\n",
       "    </tr>\n",
       "    <tr>\n",
       "      <th>3</th>\n",
       "      <td>4</td>\n",
       "      <td>4.6</td>\n",
       "      <td>3.1</td>\n",
       "      <td>1.5</td>\n",
       "      <td>0.2</td>\n",
       "      <td>setosa</td>\n",
       "    </tr>\n",
       "    <tr>\n",
       "      <th>4</th>\n",
       "      <td>5</td>\n",
       "      <td>5.0</td>\n",
       "      <td>3.6</td>\n",
       "      <td>1.4</td>\n",
       "      <td>0.2</td>\n",
       "      <td>setosa</td>\n",
       "    </tr>\n",
       "    <tr>\n",
       "      <th>...</th>\n",
       "      <td>...</td>\n",
       "      <td>...</td>\n",
       "      <td>...</td>\n",
       "      <td>...</td>\n",
       "      <td>...</td>\n",
       "      <td>...</td>\n",
       "    </tr>\n",
       "    <tr>\n",
       "      <th>145</th>\n",
       "      <td>146</td>\n",
       "      <td>6.7</td>\n",
       "      <td>3.0</td>\n",
       "      <td>5.2</td>\n",
       "      <td>2.3</td>\n",
       "      <td>virginica</td>\n",
       "    </tr>\n",
       "    <tr>\n",
       "      <th>146</th>\n",
       "      <td>147</td>\n",
       "      <td>6.3</td>\n",
       "      <td>2.5</td>\n",
       "      <td>5.0</td>\n",
       "      <td>1.9</td>\n",
       "      <td>virginica</td>\n",
       "    </tr>\n",
       "    <tr>\n",
       "      <th>147</th>\n",
       "      <td>148</td>\n",
       "      <td>6.5</td>\n",
       "      <td>3.0</td>\n",
       "      <td>5.2</td>\n",
       "      <td>2.0</td>\n",
       "      <td>virginica</td>\n",
       "    </tr>\n",
       "    <tr>\n",
       "      <th>148</th>\n",
       "      <td>149</td>\n",
       "      <td>6.2</td>\n",
       "      <td>3.4</td>\n",
       "      <td>5.4</td>\n",
       "      <td>2.3</td>\n",
       "      <td>virginica</td>\n",
       "    </tr>\n",
       "    <tr>\n",
       "      <th>149</th>\n",
       "      <td>150</td>\n",
       "      <td>5.9</td>\n",
       "      <td>3.0</td>\n",
       "      <td>5.1</td>\n",
       "      <td>1.8</td>\n",
       "      <td>virginica</td>\n",
       "    </tr>\n",
       "  </tbody>\n",
       "</table>\n",
       "<p>150 rows × 6 columns</p>\n",
       "</div>"
      ],
      "text/plain": [
       "      ID  SepalLength  SepalWidth  PetalLength  PetalWidth    species\n",
       "0      1          5.1         3.5          1.4         0.2     setosa\n",
       "1      2          4.9         3.0          1.4         0.2     setosa\n",
       "2      3          4.7         3.2          1.3         0.2     setosa\n",
       "3      4          4.6         3.1          1.5         0.2     setosa\n",
       "4      5          5.0         3.6          1.4         0.2     setosa\n",
       "..   ...          ...         ...          ...         ...        ...\n",
       "145  146          6.7         3.0          5.2         2.3  virginica\n",
       "146  147          6.3         2.5          5.0         1.9  virginica\n",
       "147  148          6.5         3.0          5.2         2.0  virginica\n",
       "148  149          6.2         3.4          5.4         2.3  virginica\n",
       "149  150          5.9         3.0          5.1         1.8  virginica\n",
       "\n",
       "[150 rows x 6 columns]"
      ]
     },
     "execution_count": 2,
     "metadata": {},
     "output_type": "execute_result"
    }
   ],
   "source": [
    "path = '/Users/zhangxiao/Desktop/Jupyter/统计机器学习实验/实验1/iris.data'\n",
    "df = pd.read_csv(path)\n",
    "ID = [i+1 for i in range(len(df))]\n",
    "df.insert(0,'ID', ID)\n",
    "df['species'] = df.species.str.replace('Iris-', '')\n",
    "df"
   ]
  },
  {
   "cell_type": "markdown",
   "metadata": {},
   "source": [
    "df.shape"
   ]
  },
  {
   "cell_type": "code",
   "execution_count": 3,
   "metadata": {},
   "outputs": [],
   "source": [
    "data = np.array(df.iloc[:, 1:])# 将dataframe格式转化为ndarray格式"
   ]
  },
  {
   "cell_type": "code",
   "execution_count": 4,
   "metadata": {},
   "outputs": [
    {
     "name": "stdout",
     "output_type": "stream",
     "text": [
      "花萼长的均值是:5.84\n",
      "花萼长的最大值是:7.9\n",
      "花萼长的最小值是:4.3\n"
     ]
    }
   ],
   "source": [
    "#sepal length\n",
    "print(\"花萼长的均值是:{:.2f}\".format(np.mean(data[:, 0], axis=0)))\n",
    "print(\"花萼长的最大值是:{:}\".format(np.max(data[:, 0]), axis=0))\n",
    "print(\"花萼长的最小值是:{:}\".format(np.min(data[:, 0]), axis=0))"
   ]
  },
  {
   "cell_type": "code",
   "execution_count": 5,
   "metadata": {},
   "outputs": [
    {
     "name": "stdout",
     "output_type": "stream",
     "text": [
      "花萼宽的均值是:3.05\n",
      "花萼宽的最大值是:4.4\n",
      "花萼宽的最小值是:2.0\n"
     ]
    }
   ],
   "source": [
    "#seple width\n",
    "print(\"花萼宽的均值是:{:.2f}\".format(np.mean(data[:, 1], axis=0)))\n",
    "print(\"花萼宽的最大值是:{:}\".format(np.max(data[:, 1]), axis=0))\n",
    "print(\"花萼宽的最小值是:{:}\".format(np.min(data[:, 1]), axis=0))"
   ]
  },
  {
   "cell_type": "code",
   "execution_count": 6,
   "metadata": {},
   "outputs": [
    {
     "name": "stdout",
     "output_type": "stream",
     "text": [
      "花瓣长的均值是:3.76\n",
      "花瓣长的最大值是:6.9\n",
      "花瓣长的最小值是:1.0\n"
     ]
    }
   ],
   "source": [
    "#petal length\n",
    "print(\"花瓣长的均值是:{:.2f}\".format(np.mean(data[:, 2], axis=0)))\n",
    "print(\"花瓣长的最大值是:{:}\".format(np.max(data[:, 2]), axis=0))\n",
    "print(\"花瓣长的最小值是:{:}\".format(np.min(data[:, 2]), axis=0))"
   ]
  },
  {
   "cell_type": "code",
   "execution_count": 7,
   "metadata": {},
   "outputs": [
    {
     "name": "stdout",
     "output_type": "stream",
     "text": [
      "花瓣宽的均值是:1.20\n",
      "花瓣宽的最大值是:2.5\n",
      "花瓣宽的最小值是:0.1\n"
     ]
    }
   ],
   "source": [
    "#petal width\n",
    "print(\"花瓣宽的均值是:{:.2f}\".format(np.mean(data[:, 3], axis=0)))\n",
    "print(\"花瓣宽的最大值是:{:}\".format(np.max(data[:, 3]), axis=0))\n",
    "print(\"花瓣宽的最小值是:{:}\".format(np.min(data[:, 3]), axis=0))"
   ]
  },
  {
   "cell_type": "markdown",
   "metadata": {},
   "source": [
    "## 数据可视化"
   ]
  },
  {
   "cell_type": "code",
   "execution_count": 8,
   "metadata": {},
   "outputs": [],
   "source": [
    "#sns初始化\n",
    "sns.set()"
   ]
  },
  {
   "cell_type": "code",
   "execution_count": 9,
   "metadata": {},
   "outputs": [
    {
     "data": {
      "text/plain": [
       "Text(0.5, 1, 'SepalLength and SepalWidth data by Species')"
      ]
     },
     "execution_count": 9,
     "metadata": {},
     "output_type": "execute_result"
    },
    {
     "data": {
      "image/png": "[encoded data removed]",
      "text/plain": [
       "<Figure size 446.85x360 with 1 Axes>"
      ]
     },
     "metadata": {},
     "output_type": "display_data"
    }
   ],
   "source": [
    "#以花萼长花萼宽两个属性做散点图\n",
    "sns.relplot(x='SepalLength', y='SepalWidth', hue='species', style='species', data=df)\n",
    "plt.title('SepalLength and SepalWidth data by Species')"
   ]
  },
  {
   "cell_type": "code",
   "execution_count": 10,
   "metadata": {},
   "outputs": [
    {
     "data": {
      "text/plain": [
       "Text(0.5, 1, 'PetalLength and PetalWidth data by Species')"
      ]
     },
     "execution_count": 10,
     "metadata": {},
     "output_type": "execute_result"
    },
    {
     "data": {
      "image/png": "[encoded data removed]",
      "text/plain": [
       "<Figure size 446.85x360 with 1 Axes>"
      ]
     },
     "metadata": {},
     "output_type": "display_data"
    }
   ],
   "source": [
    "#以花瓣长花瓣宽两个属性做散点图\n",
    "sns.relplot(x='PetalLength', y='PetalWidth', hue='species', style='species', data=df )\n",
    "plt.title('PetalLength and PetalWidth data by Species')"
   ]
  },
  {
   "cell_type": "code",
   "execution_count": 11,
   "metadata": {},
   "outputs": [
    {
     "data": {
      "text/plain": [
       "<matplotlib.axes._subplots.AxesSubplot at 0x1a22c0a050>"
      ]
     },
     "execution_count": 11,
     "metadata": {},
     "output_type": "execute_result"
    },
    {
     "data": {
      "image/png": "[encoded data removed]",
      "text/plain": [
       "<Figure size 432x288 with 1 Axes>"
      ]
     },
     "metadata": {},
     "output_type": "display_data"
    }
   ],
   "source": [
    "sns.distplot(df.SepalLength, hist=True, kde=False)#自动划分以0.45为区间划分"
   ]
  },
  {
   "cell_type": "code",
   "execution_count": 12,
   "metadata": {},
   "outputs": [
    {
     "data": {
      "text/plain": [
       "<matplotlib.axes._subplots.AxesSubplot at 0x1a22d92950>"
      ]
     },
     "execution_count": 12,
     "metadata": {},
     "output_type": "execute_result"
    },
    {
     "data": {
      "image/png": "[encoded data removed]",
      "text/plain": [
       "<Figure size 432x288 with 1 Axes>"
      ]
     },
     "metadata": {},
     "output_type": "display_data"
    }
   ],
   "source": [
    "sns.distplot(df.SepalWidth, hist=True, kde=False)#以0.18为区间划分"
   ]
  },
  {
   "cell_type": "code",
   "execution_count": 13,
   "metadata": {},
   "outputs": [
    {
     "data": {
      "text/plain": [
       "<matplotlib.axes._subplots.AxesSubplot at 0x1a22e744d0>"
      ]
     },
     "execution_count": 13,
     "metadata": {},
     "output_type": "execute_result"
    },
    {
     "data": {
      "image/png": "[encoded data removed]",
      "text/plain": [
       "<Figure size 432x288 with 1 Axes>"
      ]
     },
     "metadata": {},
     "output_type": "display_data"
    }
   ],
   "source": [
    "sns.distplot(df.PetalLength, hist=True, kde=False)"
   ]
  },
  {
   "cell_type": "code",
   "execution_count": 14,
   "metadata": {},
   "outputs": [
    {
     "data": {
      "text/plain": [
       "<matplotlib.axes._subplots.AxesSubplot at 0x1a22f038d0>"
      ]
     },
     "execution_count": 14,
     "metadata": {},
     "output_type": "execute_result"
    },
    {
     "data": {
      "image/png": "[encoded data removed]",
      "text/plain": [
       "<Figure size 432x288 with 1 Axes>"
      ]
     },
     "metadata": {},
     "output_type": "display_data"
    }
   ],
   "source": [
    "sns.distplot(df.PetalWidth, hist=True, kde=False)"
   ]
  },
  {
   "cell_type": "markdown",
   "metadata": {},
   "source": [
    "### 支持向量机（SVM）"
   ]
  },
  {
   "cell_type": "code",
   "execution_count": 15,
   "metadata": {},
   "outputs": [],
   "source": [
    "from sklearn.svm import SVC"
   ]
  },
  {
   "cell_type": "code",
   "execution_count": 16,
   "metadata": {},
   "outputs": [
    {
     "name": "stdout",
     "output_type": "stream",
     "text": [
      "[[6.1 3.0 4.6 1.4]\n",
      " [7.7 3.0 6.1 2.3]\n",
      " [5.6 2.5 3.9 1.1]\n",
      " [6.4 2.8 5.6 2.1]\n",
      " [5.8 2.8 5.1 2.4]\n",
      " [5.3 3.7 1.5 0.2]\n",
      " [5.5 2.3 4.0 1.3]\n",
      " [5.2 3.4 1.4 0.2]\n",
      " [6.5 2.8 4.6 1.5]\n",
      " [6.7 2.5 5.8 1.8]\n",
      " [6.8 3.0 5.5 2.1]\n",
      " [5.1 3.5 1.4 0.3]\n",
      " [6.0 2.2 5.0 1.5]\n",
      " [6.3 2.9 5.6 1.8]\n",
      " [6.6 2.9 4.6 1.3]\n",
      " [7.7 2.6 6.9 2.3]\n",
      " [5.7 3.8 1.7 0.3]\n",
      " [5.0 3.6 1.4 0.2]\n",
      " [4.8 3.0 1.4 0.3]\n",
      " [5.2 2.7 3.9 1.4]\n",
      " [5.1 3.4 1.5 0.2]\n",
      " [5.5 3.5 1.3 0.2]\n",
      " [7.7 3.8 6.7 2.2]\n",
      " [6.9 3.1 5.4 2.1]\n",
      " [7.3 2.9 6.3 1.8]\n",
      " [6.4 2.8 5.6 2.2]\n",
      " [6.2 2.8 4.8 1.8]\n",
      " [6.0 3.4 4.5 1.6]\n",
      " [7.7 2.8 6.7 2.0]\n",
      " [5.7 3.0 4.2 1.2]\n",
      " [4.8 3.4 1.6 0.2]\n",
      " [5.7 2.5 5.0 2.0]\n",
      " [6.3 2.7 4.9 1.8]\n",
      " [4.8 3.0 1.4 0.1]\n",
      " [4.7 3.2 1.3 0.2]\n",
      " [6.5 3.0 5.8 2.2]\n",
      " [4.6 3.4 1.4 0.3]\n",
      " [6.1 3.0 4.9 1.8]\n",
      " [6.5 3.2 5.1 2.0]\n",
      " [6.7 3.1 4.4 1.4]\n",
      " [5.7 2.8 4.5 1.3]\n",
      " [6.7 3.3 5.7 2.5]\n",
      " [6.0 3.0 4.8 1.8]\n",
      " [5.1 3.8 1.6 0.2]\n",
      " [6.0 2.2 4.0 1.0]\n",
      " [6.4 2.9 4.3 1.3]\n",
      " [6.5 3.0 5.5 1.8]\n",
      " [5.0 2.3 3.3 1.0]\n",
      " [6.3 3.3 6.0 2.5]\n",
      " [5.5 2.5 4.0 1.3]\n",
      " [5.4 3.7 1.5 0.2]\n",
      " [4.9 3.1 1.5 0.1]\n",
      " [5.2 4.1 1.5 0.1]\n",
      " [6.7 3.3 5.7 2.1]\n",
      " [4.4 3.0 1.3 0.2]\n",
      " [6.0 2.7 5.1 1.6]\n",
      " [6.4 2.7 5.3 1.9]\n",
      " [5.9 3.0 5.1 1.8]\n",
      " [5.2 3.5 1.5 0.2]\n",
      " [5.1 3.3 1.7 0.5]\n",
      " [5.8 2.7 4.1 1.0]\n",
      " [4.9 3.1 1.5 0.1]\n",
      " [7.4 2.8 6.1 1.9]\n",
      " [6.2 2.9 4.3 1.3]\n",
      " [7.6 3.0 6.6 2.1]\n",
      " [6.7 3.0 5.2 2.3]\n",
      " [6.3 2.3 4.4 1.3]\n",
      " [6.2 3.4 5.4 2.3]\n",
      " [7.2 3.6 6.1 2.5]\n",
      " [5.6 2.9 3.6 1.3]\n",
      " [5.7 4.4 1.5 0.4]\n",
      " [5.8 2.7 3.9 1.2]\n",
      " [4.5 2.3 1.3 0.3]\n",
      " [5.5 2.4 3.8 1.1]\n",
      " [6.9 3.1 4.9 1.5]\n",
      " [5.0 3.4 1.6 0.4]\n",
      " [6.8 2.8 4.8 1.4]\n",
      " [5.0 3.5 1.6 0.6]\n",
      " [4.8 3.4 1.9 0.2]\n",
      " [6.3 3.4 5.6 2.4]\n",
      " [5.6 2.8 4.9 2.0]\n",
      " [6.8 3.2 5.9 2.3]\n",
      " [5.0 3.3 1.4 0.2]\n",
      " [5.1 3.7 1.5 0.4]\n",
      " [5.9 3.2 4.8 1.8]\n",
      " [4.6 3.1 1.5 0.2]\n",
      " [5.8 2.7 5.1 1.9]\n",
      " [4.8 3.1 1.6 0.2]\n",
      " [6.5 3.0 5.2 2.0]\n",
      " [4.9 2.5 4.5 1.7]\n",
      " [4.6 3.2 1.4 0.2]\n",
      " [6.4 3.2 5.3 2.3]\n",
      " [4.3 3.0 1.1 0.1]\n",
      " [5.6 3.0 4.1 1.3]\n",
      " [4.4 2.9 1.4 0.2]\n",
      " [5.5 2.4 3.7 1.0]\n",
      " [5.0 2.0 3.5 1.0]\n",
      " [5.1 3.5 1.4 0.2]\n",
      " [4.9 3.0 1.4 0.2]\n",
      " [4.9 2.4 3.3 1.0]\n",
      " [4.6 3.6 1.0 0.2]\n",
      " [5.9 3.0 4.2 1.5]\n",
      " [6.1 2.9 4.7 1.4]\n",
      " [5.0 3.4 1.5 0.2]\n",
      " [6.7 3.1 4.7 1.5]\n",
      " [5.7 2.9 4.2 1.3]\n",
      " [6.2 2.2 4.5 1.5]\n",
      " [7.0 3.2 4.7 1.4]\n",
      " [5.8 2.7 5.1 1.9]\n",
      " [5.4 3.4 1.7 0.2]\n",
      " [5.0 3.0 1.6 0.2]\n",
      " [6.1 2.6 5.6 1.4]\n",
      " [6.1 2.8 4.0 1.3]\n",
      " [7.2 3.0 5.8 1.6]\n",
      " [5.7 2.6 3.5 1.0]\n",
      " [6.3 2.8 5.1 1.5]\n",
      " [6.4 3.1 5.5 1.8]\n",
      " [6.3 2.5 4.9 1.5]\n",
      " [6.7 3.1 5.6 2.4]\n",
      " [4.9 3.1 1.5 0.1]] ['versicolor' 'virginica' 'versicolor' 'virginica' 'virginica' 'setosa'\n",
      " 'versicolor' 'setosa' 'versicolor' 'virginica' 'virginica' 'setosa'\n",
      " 'virginica' 'virginica' 'versicolor' 'virginica' 'setosa' 'setosa'\n",
      " 'setosa' 'versicolor' 'setosa' 'setosa' 'virginica' 'virginica'\n",
      " 'virginica' 'virginica' 'virginica' 'versicolor' 'virginica' 'versicolor'\n",
      " 'setosa' 'virginica' 'virginica' 'setosa' 'setosa' 'virginica' 'setosa'\n",
      " 'virginica' 'virginica' 'versicolor' 'versicolor' 'virginica' 'virginica'\n",
      " 'setosa' 'versicolor' 'versicolor' 'virginica' 'versicolor' 'virginica'\n",
      " 'versicolor' 'setosa' 'setosa' 'setosa' 'virginica' 'setosa' 'versicolor'\n",
      " 'virginica' 'virginica' 'setosa' 'setosa' 'versicolor' 'setosa'\n",
      " 'virginica' 'versicolor' 'virginica' 'virginica' 'versicolor' 'virginica'\n",
      " 'virginica' 'versicolor' 'setosa' 'versicolor' 'setosa' 'versicolor'\n",
      " 'versicolor' 'setosa' 'versicolor' 'setosa' 'setosa' 'virginica'\n",
      " 'virginica' 'virginica' 'setosa' 'setosa' 'versicolor' 'setosa'\n",
      " 'virginica' 'setosa' 'virginica' 'virginica' 'setosa' 'virginica'\n",
      " 'setosa' 'versicolor' 'setosa' 'versicolor' 'versicolor' 'setosa'\n",
      " 'setosa' 'versicolor' 'setosa' 'versicolor' 'versicolor' 'setosa'\n",
      " 'versicolor' 'versicolor' 'versicolor' 'versicolor' 'virginica' 'setosa'\n",
      " 'setosa' 'virginica' 'versicolor' 'virginica' 'versicolor' 'virginica'\n",
      " 'virginica' 'versicolor' 'virginica' 'setosa']\n",
      "(120,)\n"
     ]
    }
   ],
   "source": [
    "# 构造数据\n",
    "def createData():\n",
    "    data = np.array(df.iloc[:, 1:])\n",
    "    return data[:, :4], data[:, -1]\n",
    "X, y = createData()\n",
    "X_train, X_test, y_train, y_test = train_test_split(X, y, test_size=0.2, random_state=1)# 随机数种子，填1每次运行实验\n",
    "print(X_train, y_train)\n",
    "print(y_train.shape)#得到的划分是一样的"
   ]
  },
  {
   "cell_type": "code",
   "execution_count": 17,
   "metadata": {},
   "outputs": [],
   "source": [
    "# 标准化\n",
    "transfer= StandardScaler() \n",
    "X_train = transfer.fit_transform(X_train)\n",
    "X_test = transfer.transform(X_test)"
   ]
  },
  {
   "cell_type": "code",
   "execution_count": 18,
   "metadata": {},
   "outputs": [],
   "source": [
    "# 预估器\n",
    "estimator = SVC(gamma='auto')"
   ]
  },
  {
   "cell_type": "code",
   "execution_count": 19,
   "metadata": {},
   "outputs": [
    {
     "data": {
      "text/plain": [
       "SVC(C=1.0, break_ties=False, cache_size=200, class_weight=None, coef0=0.0,\n",
       "    decision_function_shape='ovr', degree=3, gamma='auto', kernel='rbf',\n",
       "    max_iter=-1, probability=False, random_state=None, shrinking=True,\n",
       "    tol=0.001, verbose=False)"
      ]
     },
     "execution_count": 19,
     "metadata": {},
     "output_type": "execute_result"
    }
   ],
   "source": [
    "estimator.fit(X_train, y_train)"
   ]
  },
  {
   "cell_type": "code",
   "execution_count": 20,
   "metadata": {},
   "outputs": [
    {
     "name": "stdout",
     "output_type": "stream",
     "text": [
      "模型测试准确率:96.67%\n"
     ]
    }
   ],
   "source": [
    "# 模型评估\n",
    "# 1.调用模型socre方法得出准确率，用测试集来评估\n",
    "print(\"模型测试准确率:{:.2%}\".format(estimator.score(X_test, y_test)))"
   ]
  },
  {
   "cell_type": "code",
   "execution_count": 21,
   "metadata": {},
   "outputs": [
    {
     "name": "stdout",
     "output_type": "stream",
     "text": [
      "交叉验证模型训练准确率:\n",
      " [[1.         0.91666667]\n",
      " [1.         0.91666667]\n",
      " [1.         0.91666667]\n",
      " [1.         1.        ]\n",
      " [0.91666667 0.91666667]]\n",
      "交叉验证模型最终训练准确率: 95.83%\n"
     ]
    }
   ],
   "source": [
    "# 2.使用交叉验证，用训练集中的验证集来评估\n",
    "scores = cross_val_score(estimator, X_train, y_train, cv=10)  #cv=10为10折交叉验证。\n",
    "print(\"交叉验证模型训练准确率:\\n\", scores.reshape(5, 2))  # 打印输出每次迭代的度量值（准确度）\n",
    "print(\"交叉验证模型最终训练准确率: {:.2%}\".format(scores.mean()))#最终取均值作为准确率"
   ]
  },
  {
   "cell_type": "markdown",
   "metadata": {},
   "source": [
    "### K近邻（KNN）"
   ]
  },
  {
   "cell_type": "code",
   "execution_count": 22,
   "metadata": {},
   "outputs": [
    {
     "name": "stdout",
     "output_type": "stream",
     "text": [
      "模型准确率为:96.67%\n",
      "交叉验证最佳参数：\n",
      " {'n_neighbors': 5}\n",
      "交叉验证最佳结果:95.00%\n",
      "交叉验证最佳估计器:\n",
      " KNeighborsClassifier(algorithm='auto', leaf_size=30, metric='minkowski',\n",
      "                     metric_params=None, n_jobs=None, n_neighbors=5, p=2,\n",
      "                     weights='uniform')\n"
     ]
    },
    {
     "name": "stderr",
     "output_type": "stream",
     "text": [
      "/Users/zhangxiao/anaconda3/anaconda3/lib/python3.7/site-packages/sklearn/model_selection/_search.py:823: FutureWarning: The parameter 'iid' is deprecated in 0.22 and will be removed in 0.24.\n",
      "  \"removed in 0.24.\", FutureWarning\n"
     ]
    }
   ],
   "source": [
    "from sklearn.neighbors import KNeighborsClassifier\n",
    "from sklearn.model_selection import GridSearchCV\n",
    "\n",
    "\n",
    "def createData():\n",
    "    data = np.array(df.iloc[:, 1:])\n",
    "    return data[:, :4], data[:, -1]\n",
    "X, y = createData()\n",
    "X_train, X_test, y_train, y_test = train_test_split(X, y, test_size=0.2,random_state=1)# 随机数种子，填0或不填写\n",
    "                                                                                       # 每次运行实验得到的划分是不一样的\n",
    "\n",
    "\n",
    "# 标准化\n",
    "transfer = StandardScaler()\n",
    "X_train = transfer.fit_transform(X_train)\n",
    "X_test = transfer.transform(X_test)\n",
    "\n",
    "\n",
    "# KNN算法预估器\n",
    "estimator = KNeighborsClassifier()\n",
    "\n",
    "\n",
    "# 加入网格搜索和交叉验证\n",
    "param_dict = {\"n_neighbors\":[1,3,5,7,9,11]}\n",
    "estimator = GridSearchCV(estimator, param_grid=param_dict, iid=True, cv=10)\n",
    "estimator.fit(X_train, y_train)\n",
    "\n",
    "\n",
    "# 模型评估\n",
    "print(\"模型准确率为:{:.2%}\".format(estimator.score(X_test, y_test)))\n",
    "# 交叉验证最佳参数：best_params_\n",
    "print(\"交叉验证最佳参数：\\n\", estimator.best_params_)\n",
    "# 交叉验证最佳结果：best_score_\n",
    "print(\"交叉验证最佳结果:{:.2%}\".format(estimator.best_score_))\n",
    "# 交叉验证最佳估计器：best_estimator_\n",
    "print(\"交叉验证最佳估计器:\\n\", estimator.best_estimator_)"
   ]
  },
  {
   "cell_type": "markdown",
   "metadata": {},
   "source": [
    "### 朴素贝叶斯（NB）"
   ]
  },
  {
   "cell_type": "code",
   "execution_count": 23,
   "metadata": {},
   "outputs": [
    {
     "name": "stdout",
     "output_type": "stream",
     "text": [
      "模型测试准确率:96.67%\n",
      "交叉验证模型训练准确率:\n",
      " [[1.         0.91666667]\n",
      " [1.         0.91666667]\n",
      " [1.         0.83333333]\n",
      " [1.         1.        ]\n",
      " [0.91666667 0.91666667]]\n",
      "交叉验证模型最终训练准确率: 95.00%\n"
     ]
    }
   ],
   "source": [
    "from sklearn.naive_bayes import MultinomialNB,GaussianNB,BernoulliNB\n",
    "\n",
    "\n",
    "# 构造数据\n",
    "def createData():\n",
    "    data = np.array(df.iloc[:, 1:])\n",
    "    return data[:, :4], data[:, -1]\n",
    "X, y = createData()\n",
    "X_train, X_test, y_train, y_test = train_test_split(X, y, test_size=0.2,random_state=1)\n",
    "\n",
    "\n",
    "# 归一化\n",
    "transfer = MinMaxScaler()\n",
    "X_train = transfer.fit_transform(X_train)\n",
    "X_test = transfer.transform(X_test)\n",
    "\n",
    "\n",
    "# 贝叶斯预估器\n",
    "estimator = GaussianNB()\n",
    "estimator.fit(X_train, y_train)\n",
    "\n",
    "\n",
    "# 模型评估\n",
    "# 1.调用模型socre方法得出准确率，用测试集来评估\n",
    "print(\"模型测试准确率:{:.2%}\".format(estimator.score(X_test, y_test)))\n",
    "# 2.使用交叉验证，用训练集中的验证集来评估\n",
    "scores = cross_val_score(estimator, X_train, y_train, cv=10)  #cv=10为10折交叉验证。\n",
    "print(\"交叉验证模型训练准确率:\\n\", scores.reshape(5, 2))  # 打印输出每次迭代的度量值（准确度）\n",
    "print(\"交叉验证模型最终训练准确率: {:.2%}\".format(scores.mean()))#最终取均值作为准确率"
   ]
  },
  {
   "cell_type": "markdown",
   "metadata": {},
   "source": [
    "### 分类与回归树（CART）"
   ]
  },
  {
   "cell_type": "code",
   "execution_count": 24,
   "metadata": {},
   "outputs": [
    {
     "name": "stdout",
     "output_type": "stream",
     "text": [
      "模型测试准确率:96.67%\n",
      "交叉验证模型训练准确率:\n",
      " [[1.         0.91666667]\n",
      " [1.         0.91666667]\n",
      " [0.91666667 0.91666667]\n",
      " [1.         1.        ]\n",
      " [0.91666667 0.75      ]]\n",
      "交叉验证模型最终训练准确率: 93.33%\n"
     ]
    }
   ],
   "source": [
    "from sklearn.tree import DecisionTreeClassifier\n",
    "\n",
    "\n",
    "# 构造数据\n",
    "def createData():\n",
    "    data = np.array(df.iloc[:, 1:])\n",
    "    return data[:, :4], data[:, -1]\n",
    "X, y = createData()\n",
    "X_train, X_test, y_train, y_test = train_test_split(X, y, test_size=0.2,random_state=1)\n",
    "\n",
    "\n",
    "# 标准化\n",
    "transfer = StandardScaler()\n",
    "X_train = transfer.fit_transform(X_train)\n",
    "X_test = transfer.transform(X_test)\n",
    "\n",
    "\n",
    "# 分类树预估器\n",
    "estimator = DecisionTreeClassifier(criterion='gini')\n",
    "estimator.fit(X_train, y_train)\n",
    "\n",
    "\n",
    "# 模型评估\n",
    "# 1.调用模型socre方法得出准确率，用测试集来评估\n",
    "print(\"模型测试准确率:{:.2%}\".format(estimator.score(X_test, y_test)))\n",
    "# 2.使用交叉验证，用训练集中的验证集来评估\n",
    "scores = cross_val_score(estimator, X_train, y_train, cv=10)  #cv=10为10折交叉验证。\n",
    "print(\"交叉验证模型训练准确率:\\n\", scores.reshape(5, 2))  # 打印输出每次迭代的度量值（准确度）\n",
    "print(\"交叉验证模型最终训练准确率: {:.2%}\".format(scores.mean()))#最终取均值作为准确率"
   ]
  },
  {
   "cell_type": "markdown",
   "metadata": {},
   "source": [
    "### 逻辑回归（LR）"
   ]
  },
  {
   "cell_type": "code",
   "execution_count": 25,
   "metadata": {},
   "outputs": [
    {
     "name": "stdout",
     "output_type": "stream",
     "text": [
      "模型测试准确率:96.67%\n",
      "交叉验证模型训练准确率:\n",
      " [[1.         0.91666667]\n",
      " [1.         0.91666667]\n",
      " [1.         0.91666667]\n",
      " [1.         1.        ]\n",
      " [0.91666667 0.83333333]]\n",
      "交叉验证模型最终训练准确率: 95.00%\n"
     ]
    }
   ],
   "source": [
    "from sklearn.linear_model import LogisticRegression\n",
    "\n",
    "\n",
    "# 构造数据\n",
    "def createData():\n",
    "    data = np.array(df.iloc[:, 1:])\n",
    "    return data[:, :4], data[:, -1]\n",
    "X, y = createData()\n",
    "X_train, X_test, y_train, y_test = train_test_split(X, y, test_size=0.2,random_state=1)\n",
    "\n",
    "\n",
    "# 标准化\n",
    "transfer = StandardScaler()\n",
    "X_train = transfer.fit_transform(X_train)\n",
    "X_test = transfer.transform(X_test)\n",
    "\n",
    "\n",
    "# 逻辑回归预估器\n",
    "estimator = LogisticRegression(solver='sag',multi_class='auto')\n",
    "estimator.fit(X_train, y_train)\n",
    "\n",
    "\n",
    "# 模型评估\n",
    "# 1.调用模型socre方法得出准确率，用测试集来评估\n",
    "print(\"模型测试准确率:{:.2%}\".format(estimator.score(X_test, y_test)))\n",
    "# 2.使用交叉验证，用训练集中的验证集来评估\n",
    "scores = cross_val_score(estimator, X_train, y_train, cv=10)  #cv=10为10折交叉验证。\n",
    "print(\"交叉验证模型训练准确率:\\n\", scores.reshape(5, 2))  # 打印输出每次迭代的度量值（准确度）\n",
    "print(\"交叉验证模型最终训练准确率: {:.2%}\".format(scores.mean()))#最终取均值作为准确率"
   ]
  },
  {
   "cell_type": "markdown",
   "metadata": {},
   "source": [
    "### 线性判别分析（LDA）"
   ]
  },
  {
   "cell_type": "code",
   "execution_count": 26,
   "metadata": {},
   "outputs": [
    {
     "name": "stdout",
     "output_type": "stream",
     "text": [
      "模型测试准确率:100.00%\n",
      "交叉验证模型训练准确率:\n",
      " [[1.         1.        ]\n",
      " [1.         0.91666667]\n",
      " [1.         0.91666667]\n",
      " [1.         1.        ]\n",
      " [1.         0.91666667]]\n",
      "交叉验证模型最终训练准确率: 97.50%\n"
     ]
    }
   ],
   "source": [
    "from sklearn.discriminant_analysis import LinearDiscriminantAnalysis\n",
    "\n",
    "\n",
    "# 构造数据\n",
    "def createData():\n",
    "    data = np.array(df.iloc[:, 1:])\n",
    "    return data[:, :4], data[:, -1]\n",
    "X, y = createData()\n",
    "X_train, X_test, y_train, y_test = train_test_split(X, y, test_size=0.2,random_state=1)\n",
    "\n",
    "\n",
    "# 标准化\n",
    "transfer = StandardScaler()\n",
    "X_train = transfer.fit_transform(X_train)\n",
    "X_test = transfer.transform(X_test)\n",
    "\n",
    "\n",
    "# 线性判别分析预估器\n",
    "estimator = LinearDiscriminantAnalysis()\n",
    "estimator.fit(X_train, y_train)\n",
    "\n",
    "\n",
    "# 模型评估\n",
    "# 1.调用模型socre方法得出准确率，用测试集来评估\n",
    "print(\"模型测试准确率:{:.2%}\".format(estimator.score(X_test, y_test)))\n",
    "# 2.使用交叉验证，用训练集中的验证集来评估\n",
    "scores = cross_val_score(estimator, X_train, y_train, cv=10)  #cv=10为10折交叉验证。\n",
    "print(\"交叉验证模型训练准确率:\\n\", scores.reshape(5, 2))  # 打印输出每次迭代的度量值（准确度）\n",
    "print(\"交叉验证模型最终训练准确率: {:.2%}\".format(scores.mean()))#最终取均值作为准确率"
   ]
  },
  {
   "cell_type": "code",
   "execution_count": null,
   "metadata": {},
   "outputs": [],
   "source": []
  }
 ],
 "metadata": {
  "kernelspec": {
   "display_name": "Python 3",
   "language": "python",
   "name": "python3"
  },
  "language_info": {
   "codemirror_mode": {
    "name": "ipython",
    "version": 3
   },
   "file_extension": ".py",
   "mimetype": "text/x-python",
   "name": "python",
   "nbconvert_exporter": "python",
   "pygments_lexer": "ipython3",
   "version": "3.8.5"
  }
 },
 "nbformat": 4,
 "nbformat_minor": 2
}
