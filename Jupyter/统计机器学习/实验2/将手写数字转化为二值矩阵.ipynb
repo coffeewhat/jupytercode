{
 "cells": [
  {
   "cell_type": "code",
   "execution_count": 1,
   "metadata": {},
   "outputs": [],
   "source": [
    "from PIL import Image\n",
    "import matplotlib.pylab as plt\n",
    "import numpy as np"
   ]
  },
  {
   "cell_type": "code",
   "execution_count": 2,
   "metadata": {},
   "outputs": [],
   "source": [
    "def PicTo01(filename):\n",
    "    #将图片转化为32*32像素的文件，用0 1表示\n",
    "    # 打开图片\n",
    "    img = Image.open(filename).convert('RGBA')\n",
    "\n",
    "    # 得到图片的像素值\n",
    "    raw_data = img.load()\n",
    "\n",
    "    # 将其降噪并转化为黑白两色\n",
    "    # 修改R通道\n",
    "    for i in range(img.size[0]):\n",
    "        for j in range(img.size[1]):\n",
    "            if raw_data[i, j][0] < 90:\n",
    "                raw_data[i, j] = (0, 0, 0, 255)\n",
    "    \n",
    "    # 修改G通道\n",
    "    for i in range(img.size[0]):\n",
    "        for j in range(img.size[1]):\n",
    "            if raw_data[i, j][1] < 136:\n",
    "                raw_data[i, j] = (0, 0, 0, 255)\n",
    "    # 修改B通道\n",
    "    for i in range(img.size[0]):\n",
    "        for j in range(img.size[1]):\n",
    "            if raw_data[i, j][2] > 0:\n",
    "                raw_data[i, j] = (255, 255, 255, 255)\n",
    "\n",
    "    # 设置为32*32的大小\n",
    "    img = img.resize((32, 32), Image.LANCZOS)\n",
    "\n",
    "    # 进行保存，方便查看\n",
    "    img.save('test.png')\n",
    "\n",
    "    # 得到像素数组，为(32,32,4)\n",
    "    array = plt.array(img)\n",
    "\n",
    "    # 按照公式将其转为01, 公式： 0.299 * R + 0.587 * G + 0.114 * B\n",
    "\n",
    "    gray_array = np.zeros((32, 32))\n",
    "\n",
    "    # 行数\n",
    "    for i in range(array.shape[0]):\n",
    "        # 列数\n",
    "        for j in range(array.shape[1]):\n",
    "            # 计算灰度，若为255则白色，数值越小越接近黑色\n",
    "            gary = 0.299 * array[i][j][0] + 0.587 * array[i][j][1] + 0.114 * array[i][j][2]\n",
    "\n",
    "            # 设置一个阙值，记为0\n",
    "            if gary == 255:\n",
    "                gray_array[i][j] = 0\n",
    "            else:\n",
    "                # 否则认为是黑色，记为1\n",
    "                gray_array[i][j] = 1\n",
    "\n",
    "    # 得到对应名称的txt文件\n",
    "    name01 = filename.split('.')[0]\n",
    "    name01 = name01 + '.txt'\n",
    "\n",
    "    # 保存到文件中\n",
    "    np.savetxt(name01, gray_array, fmt='%d', delimiter='')"
   ]
  },
  {
   "cell_type": "code",
   "execution_count": 4,
   "metadata": {},
   "outputs": [],
   "source": [
    "PicTo01('3.png')"
   ]
  },
  {
   "cell_type": "code",
   "execution_count": null,
   "metadata": {},
   "outputs": [],
   "source": []
  }
 ],
 "metadata": {
  "kernelspec": {
   "display_name": "Python 3",
   "language": "python",
   "name": "python3"
  },
  "language_info": {
   "codemirror_mode": {
    "name": "ipython",
    "version": 3
   },
   "file_extension": ".py",
   "mimetype": "text/x-python",
   "name": "python",
   "nbconvert_exporter": "python",
   "pygments_lexer": "ipython3",
   "version": "3.7.4"
  }
 },
 "nbformat": 4,
 "nbformat_minor": 2
}
